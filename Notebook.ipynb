{
 "cells": [
  {
   "cell_type": "markdown",
   "metadata": {},
   "source": [
    "# Business Understanding"
   ]
  },
  {
   "cell_type": "markdown",
   "metadata": {},
   "source": [
    "eCommerce has taken over the retail space making it close to impossible for brick and mortar stores to compete with larger retailers such as Amazon, Target, or Walmart.  Over the years we have seen stores begin to close their doors due to the innability to keep up with online competitors.\n",
    "\n",
    "Goodreads is an online social platform which gives readers the ability to share and rank their most recent books read.  Once a user marks a book read or rates the book, the platform will recommend a new book to the user. A recent study was done which showed 93% of customers will read online reviews prior to purchasing. \n",
    "\n",
    "Barnes and Noble is looking to understand what books should be showcased in their stores.  They are looking to get ahead of the game by utilizing a model which can predict the rating of a book on the most ppular book reviewed site.\n",
    "\n",
    "Barnes and Noble is looking to rebrand their company by partnering with goodreads.  They are looking for a model to be created which can predict what a customer will rank a book before even reading.  A recent study was done which showed 93% of customers will read online reviews prior to purchasing.  By focusing on a predictive model, this will help retain customers by creating a new avenue of personalization."
   ]
  },
  {
   "cell_type": "markdown",
   "metadata": {},
   "source": [
    "# Data Understanding"
   ]
  },
  {
   "cell_type": "markdown",
   "metadata": {},
   "source": [
    "This dataset contains more than 1.3M book reviews about 25,475 books and 18,892 users.  It was found through the Kaggle Good Reads Book Competition.  A train & test set are provided.\n",
    "\n",
    "The dataset of this competition is taken from UCSD Book Graph."
   ]
  },
  {
   "cell_type": "markdown",
   "metadata": {},
   "source": [
    "## Import Packages"
   ]
  },
  {
   "cell_type": "markdown",
   "metadata": {},
   "source": [
    "Import necessary packages to load datasets and begin EDA."
   ]
  },
  {
   "cell_type": "code",
   "execution_count": 1,
   "metadata": {},
   "outputs": [],
   "source": [
    "import pandas as pd\n",
    "import numpy as np\n",
    "import matplotlib.pyplot as plt\n",
    "import seaborn as sns\n",
    "import re\n",
    "from sklearn.model_selection import GridSearchCV\n",
    "from sklearn.model_selection import train_test_split"
   ]
  },
  {
   "cell_type": "markdown",
   "metadata": {},
   "source": [
    "Load both the train and test CSV to view what each entails."
   ]
  },
  {
   "cell_type": "code",
   "execution_count": 2,
   "metadata": {},
   "outputs": [],
   "source": [
    "df = pd.read_csv(\"Data/goodreads_train.csv\")"
   ]
  },
  {
   "cell_type": "markdown",
   "metadata": {},
   "source": [
    "## Previewing Data"
   ]
  },
  {
   "cell_type": "markdown",
   "metadata": {},
   "source": [
    "Load information on train dataset."
   ]
  },
  {
   "cell_type": "markdown",
   "metadata": {},
   "source": [
    "### Data Information"
   ]
  },
  {
   "cell_type": "code",
   "execution_count": 3,
   "metadata": {},
   "outputs": [
    {
     "name": "stdout",
     "output_type": "stream",
     "text": [
      "<class 'pandas.core.frame.DataFrame'>\n",
      "RangeIndex: 900000 entries, 0 to 899999\n",
      "Data columns (total 11 columns):\n",
      " #   Column        Non-Null Count   Dtype \n",
      "---  ------        --------------   ----- \n",
      " 0   user_id       900000 non-null  object\n",
      " 1   book_id       900000 non-null  int64 \n",
      " 2   review_id     900000 non-null  object\n",
      " 3   rating        900000 non-null  int64 \n",
      " 4   review_text   900000 non-null  object\n",
      " 5   date_added    900000 non-null  object\n",
      " 6   date_updated  900000 non-null  object\n",
      " 7   read_at       808234 non-null  object\n",
      " 8   started_at    625703 non-null  object\n",
      " 9   n_votes       900000 non-null  int64 \n",
      " 10  n_comments    900000 non-null  int64 \n",
      "dtypes: int64(4), object(7)\n",
      "memory usage: 75.5+ MB\n"
     ]
    }
   ],
   "source": [
    "df.info()"
   ]
  },
  {
   "cell_type": "markdown",
   "metadata": {},
   "source": [
    "### Data Head"
   ]
  },
  {
   "cell_type": "markdown",
   "metadata": {},
   "source": [
    "View first five rows of train dataset."
   ]
  },
  {
   "cell_type": "code",
   "execution_count": 4,
   "metadata": {
    "scrolled": false
   },
   "outputs": [
    {
     "data": {
      "text/html": [
       "<div>\n",
       "<style scoped>\n",
       "    .dataframe tbody tr th:only-of-type {\n",
       "        vertical-align: middle;\n",
       "    }\n",
       "\n",
       "    .dataframe tbody tr th {\n",
       "        vertical-align: top;\n",
       "    }\n",
       "\n",
       "    .dataframe thead th {\n",
       "        text-align: right;\n",
       "    }\n",
       "</style>\n",
       "<table border=\"1\" class=\"dataframe\">\n",
       "  <thead>\n",
       "    <tr style=\"text-align: right;\">\n",
       "      <th></th>\n",
       "      <th>user_id</th>\n",
       "      <th>book_id</th>\n",
       "      <th>review_id</th>\n",
       "      <th>rating</th>\n",
       "      <th>review_text</th>\n",
       "      <th>date_added</th>\n",
       "      <th>date_updated</th>\n",
       "      <th>read_at</th>\n",
       "      <th>started_at</th>\n",
       "      <th>n_votes</th>\n",
       "      <th>n_comments</th>\n",
       "    </tr>\n",
       "  </thead>\n",
       "  <tbody>\n",
       "    <tr>\n",
       "      <th>0</th>\n",
       "      <td>8842281e1d1347389f2ab93d60773d4d</td>\n",
       "      <td>18245960</td>\n",
       "      <td>dfdbb7b0eb5a7e4c26d59a937e2e5feb</td>\n",
       "      <td>5</td>\n",
       "      <td>This is a special book. It started slow for ab...</td>\n",
       "      <td>Sun Jul 30 07:44:10 -0700 2017</td>\n",
       "      <td>Wed Aug 30 00:00:26 -0700 2017</td>\n",
       "      <td>Sat Aug 26 12:05:52 -0700 2017</td>\n",
       "      <td>Tue Aug 15 13:23:18 -0700 2017</td>\n",
       "      <td>28</td>\n",
       "      <td>1</td>\n",
       "    </tr>\n",
       "    <tr>\n",
       "      <th>1</th>\n",
       "      <td>8842281e1d1347389f2ab93d60773d4d</td>\n",
       "      <td>16981</td>\n",
       "      <td>a5d2c3628987712d0e05c4f90798eb67</td>\n",
       "      <td>3</td>\n",
       "      <td>Recommended by Don Katz. Avail for free in Dec...</td>\n",
       "      <td>Mon Dec 05 10:46:44 -0800 2016</td>\n",
       "      <td>Wed Mar 22 11:37:04 -0700 2017</td>\n",
       "      <td>NaN</td>\n",
       "      <td>NaN</td>\n",
       "      <td>1</td>\n",
       "      <td>0</td>\n",
       "    </tr>\n",
       "    <tr>\n",
       "      <th>2</th>\n",
       "      <td>8842281e1d1347389f2ab93d60773d4d</td>\n",
       "      <td>28684704</td>\n",
       "      <td>2ede853b14dc4583f96cf5d120af636f</td>\n",
       "      <td>3</td>\n",
       "      <td>A fun, fast paced science fiction thriller. I ...</td>\n",
       "      <td>Tue Nov 15 11:29:22 -0800 2016</td>\n",
       "      <td>Mon Mar 20 23:40:27 -0700 2017</td>\n",
       "      <td>Sat Mar 18 23:22:42 -0700 2017</td>\n",
       "      <td>Fri Mar 17 23:45:40 -0700 2017</td>\n",
       "      <td>22</td>\n",
       "      <td>0</td>\n",
       "    </tr>\n",
       "    <tr>\n",
       "      <th>3</th>\n",
       "      <td>8842281e1d1347389f2ab93d60773d4d</td>\n",
       "      <td>27161156</td>\n",
       "      <td>ced5675e55cd9d38a524743f5c40996e</td>\n",
       "      <td>0</td>\n",
       "      <td>Recommended reading to understand what is goin...</td>\n",
       "      <td>Wed Nov 09 17:37:04 -0800 2016</td>\n",
       "      <td>Wed Nov 09 17:38:20 -0800 2016</td>\n",
       "      <td>NaN</td>\n",
       "      <td>NaN</td>\n",
       "      <td>5</td>\n",
       "      <td>1</td>\n",
       "    </tr>\n",
       "    <tr>\n",
       "      <th>4</th>\n",
       "      <td>8842281e1d1347389f2ab93d60773d4d</td>\n",
       "      <td>25884323</td>\n",
       "      <td>332732725863131279a8e345b63ac33e</td>\n",
       "      <td>4</td>\n",
       "      <td>I really enjoyed this book, and there is a lot...</td>\n",
       "      <td>Mon Apr 25 09:31:23 -0700 2016</td>\n",
       "      <td>Mon Apr 25 09:31:23 -0700 2016</td>\n",
       "      <td>Sun Jun 26 00:00:00 -0700 2016</td>\n",
       "      <td>Sat May 28 00:00:00 -0700 2016</td>\n",
       "      <td>9</td>\n",
       "      <td>1</td>\n",
       "    </tr>\n",
       "  </tbody>\n",
       "</table>\n",
       "</div>"
      ],
      "text/plain": [
       "                            user_id   book_id  \\\n",
       "0  8842281e1d1347389f2ab93d60773d4d  18245960   \n",
       "1  8842281e1d1347389f2ab93d60773d4d     16981   \n",
       "2  8842281e1d1347389f2ab93d60773d4d  28684704   \n",
       "3  8842281e1d1347389f2ab93d60773d4d  27161156   \n",
       "4  8842281e1d1347389f2ab93d60773d4d  25884323   \n",
       "\n",
       "                          review_id  rating  \\\n",
       "0  dfdbb7b0eb5a7e4c26d59a937e2e5feb       5   \n",
       "1  a5d2c3628987712d0e05c4f90798eb67       3   \n",
       "2  2ede853b14dc4583f96cf5d120af636f       3   \n",
       "3  ced5675e55cd9d38a524743f5c40996e       0   \n",
       "4  332732725863131279a8e345b63ac33e       4   \n",
       "\n",
       "                                         review_text  \\\n",
       "0  This is a special book. It started slow for ab...   \n",
       "1  Recommended by Don Katz. Avail for free in Dec...   \n",
       "2  A fun, fast paced science fiction thriller. I ...   \n",
       "3  Recommended reading to understand what is goin...   \n",
       "4  I really enjoyed this book, and there is a lot...   \n",
       "\n",
       "                       date_added                    date_updated  \\\n",
       "0  Sun Jul 30 07:44:10 -0700 2017  Wed Aug 30 00:00:26 -0700 2017   \n",
       "1  Mon Dec 05 10:46:44 -0800 2016  Wed Mar 22 11:37:04 -0700 2017   \n",
       "2  Tue Nov 15 11:29:22 -0800 2016  Mon Mar 20 23:40:27 -0700 2017   \n",
       "3  Wed Nov 09 17:37:04 -0800 2016  Wed Nov 09 17:38:20 -0800 2016   \n",
       "4  Mon Apr 25 09:31:23 -0700 2016  Mon Apr 25 09:31:23 -0700 2016   \n",
       "\n",
       "                          read_at                      started_at  n_votes  \\\n",
       "0  Sat Aug 26 12:05:52 -0700 2017  Tue Aug 15 13:23:18 -0700 2017       28   \n",
       "1                             NaN                             NaN        1   \n",
       "2  Sat Mar 18 23:22:42 -0700 2017  Fri Mar 17 23:45:40 -0700 2017       22   \n",
       "3                             NaN                             NaN        5   \n",
       "4  Sun Jun 26 00:00:00 -0700 2016  Sat May 28 00:00:00 -0700 2016        9   \n",
       "\n",
       "   n_comments  \n",
       "0           1  \n",
       "1           0  \n",
       "2           0  \n",
       "3           1  \n",
       "4           1  "
      ]
     },
     "execution_count": 4,
     "metadata": {},
     "output_type": "execute_result"
    }
   ],
   "source": [
    "df.head()"
   ]
  },
  {
   "cell_type": "code",
   "execution_count": 5,
   "metadata": {},
   "outputs": [
    {
     "data": {
      "text/html": [
       "<div>\n",
       "<style scoped>\n",
       "    .dataframe tbody tr th:only-of-type {\n",
       "        vertical-align: middle;\n",
       "    }\n",
       "\n",
       "    .dataframe tbody tr th {\n",
       "        vertical-align: top;\n",
       "    }\n",
       "\n",
       "    .dataframe thead th {\n",
       "        text-align: right;\n",
       "    }\n",
       "</style>\n",
       "<table border=\"1\" class=\"dataframe\">\n",
       "  <thead>\n",
       "    <tr style=\"text-align: right;\">\n",
       "      <th></th>\n",
       "      <th>user_id</th>\n",
       "      <th>book_id</th>\n",
       "      <th>review_id</th>\n",
       "      <th>rating</th>\n",
       "      <th>review_text</th>\n",
       "      <th>date_added</th>\n",
       "      <th>date_updated</th>\n",
       "      <th>read_at</th>\n",
       "      <th>started_at</th>\n",
       "      <th>n_votes</th>\n",
       "      <th>n_comments</th>\n",
       "    </tr>\n",
       "  </thead>\n",
       "  <tbody>\n",
       "    <tr>\n",
       "      <th>899995</th>\n",
       "      <td>b9450d1c1f97f891c392b1105959b56e</td>\n",
       "      <td>11832081</td>\n",
       "      <td>7c34c15ad8cb28a4afca32946e2016ea</td>\n",
       "      <td>3</td>\n",
       "      <td>3.5 stars. \\n Jenna is a popular YA author and...</td>\n",
       "      <td>Fri Nov 16 22:10:17 -0800 2012</td>\n",
       "      <td>Sat Nov 17 22:42:44 -0800 2012</td>\n",
       "      <td>Sat Nov 17 00:00:00 -0800 2012</td>\n",
       "      <td>Fri Nov 16 00:00:00 -0800 2012</td>\n",
       "      <td>0</td>\n",
       "      <td>0</td>\n",
       "    </tr>\n",
       "    <tr>\n",
       "      <th>899996</th>\n",
       "      <td>b9450d1c1f97f891c392b1105959b56e</td>\n",
       "      <td>16095092</td>\n",
       "      <td>e979c735276431915d089cfaf446d64f</td>\n",
       "      <td>3</td>\n",
       "      <td>This was a quick read for me. I have read a lo...</td>\n",
       "      <td>Fri Nov 16 22:09:49 -0800 2012</td>\n",
       "      <td>Sat Nov 17 23:38:58 -0800 2012</td>\n",
       "      <td>Sat Nov 17 00:00:00 -0800 2012</td>\n",
       "      <td>Fri Nov 16 00:00:00 -0800 2012</td>\n",
       "      <td>1</td>\n",
       "      <td>1</td>\n",
       "    </tr>\n",
       "    <tr>\n",
       "      <th>899997</th>\n",
       "      <td>b9450d1c1f97f891c392b1105959b56e</td>\n",
       "      <td>8430896</td>\n",
       "      <td>feb9fe6439f9fbba8a1cce36020ad977</td>\n",
       "      <td>4</td>\n",
       "      <td>** spoiler alert ** \\n 3.5 stars. \\n This book...</td>\n",
       "      <td>Tue Nov 13 05:38:24 -0800 2012</td>\n",
       "      <td>Tue Nov 13 23:29:17 -0800 2012</td>\n",
       "      <td>Tue Nov 13 00:00:00 -0800 2012</td>\n",
       "      <td>Tue Nov 13 00:00:00 -0800 2012</td>\n",
       "      <td>1</td>\n",
       "      <td>0</td>\n",
       "    </tr>\n",
       "    <tr>\n",
       "      <th>899998</th>\n",
       "      <td>b9450d1c1f97f891c392b1105959b56e</td>\n",
       "      <td>12275680</td>\n",
       "      <td>741e29369f70531bfffbd02add86f228</td>\n",
       "      <td>4</td>\n",
       "      <td>** spoiler alert ** \\n Another fun read from M...</td>\n",
       "      <td>Mon Nov 12 05:42:30 -0800 2012</td>\n",
       "      <td>Tue Nov 13 22:32:05 -0800 2012</td>\n",
       "      <td>Tue Nov 13 00:00:00 -0800 2012</td>\n",
       "      <td>Mon Nov 12 00:00:00 -0800 2012</td>\n",
       "      <td>0</td>\n",
       "      <td>0</td>\n",
       "    </tr>\n",
       "    <tr>\n",
       "      <th>899999</th>\n",
       "      <td>b9450d1c1f97f891c392b1105959b56e</td>\n",
       "      <td>17005</td>\n",
       "      <td>d55f3a967230940e75a314700caec9a5</td>\n",
       "      <td>3</td>\n",
       "      <td>** spoiler alert ** \\n 3.5 stars \\n I liked it...</td>\n",
       "      <td>Sun Nov 11 00:05:43 -0800 2012</td>\n",
       "      <td>Sun Nov 11 21:59:08 -0800 2012</td>\n",
       "      <td>Sun Nov 11 00:00:00 -0800 2012</td>\n",
       "      <td>Sun Nov 11 00:00:00 -0800 2012</td>\n",
       "      <td>0</td>\n",
       "      <td>0</td>\n",
       "    </tr>\n",
       "  </tbody>\n",
       "</table>\n",
       "</div>"
      ],
      "text/plain": [
       "                                 user_id   book_id  \\\n",
       "899995  b9450d1c1f97f891c392b1105959b56e  11832081   \n",
       "899996  b9450d1c1f97f891c392b1105959b56e  16095092   \n",
       "899997  b9450d1c1f97f891c392b1105959b56e   8430896   \n",
       "899998  b9450d1c1f97f891c392b1105959b56e  12275680   \n",
       "899999  b9450d1c1f97f891c392b1105959b56e     17005   \n",
       "\n",
       "                               review_id  rating  \\\n",
       "899995  7c34c15ad8cb28a4afca32946e2016ea       3   \n",
       "899996  e979c735276431915d089cfaf446d64f       3   \n",
       "899997  feb9fe6439f9fbba8a1cce36020ad977       4   \n",
       "899998  741e29369f70531bfffbd02add86f228       4   \n",
       "899999  d55f3a967230940e75a314700caec9a5       3   \n",
       "\n",
       "                                              review_text  \\\n",
       "899995  3.5 stars. \\n Jenna is a popular YA author and...   \n",
       "899996  This was a quick read for me. I have read a lo...   \n",
       "899997  ** spoiler alert ** \\n 3.5 stars. \\n This book...   \n",
       "899998  ** spoiler alert ** \\n Another fun read from M...   \n",
       "899999  ** spoiler alert ** \\n 3.5 stars \\n I liked it...   \n",
       "\n",
       "                            date_added                    date_updated  \\\n",
       "899995  Fri Nov 16 22:10:17 -0800 2012  Sat Nov 17 22:42:44 -0800 2012   \n",
       "899996  Fri Nov 16 22:09:49 -0800 2012  Sat Nov 17 23:38:58 -0800 2012   \n",
       "899997  Tue Nov 13 05:38:24 -0800 2012  Tue Nov 13 23:29:17 -0800 2012   \n",
       "899998  Mon Nov 12 05:42:30 -0800 2012  Tue Nov 13 22:32:05 -0800 2012   \n",
       "899999  Sun Nov 11 00:05:43 -0800 2012  Sun Nov 11 21:59:08 -0800 2012   \n",
       "\n",
       "                               read_at                      started_at  \\\n",
       "899995  Sat Nov 17 00:00:00 -0800 2012  Fri Nov 16 00:00:00 -0800 2012   \n",
       "899996  Sat Nov 17 00:00:00 -0800 2012  Fri Nov 16 00:00:00 -0800 2012   \n",
       "899997  Tue Nov 13 00:00:00 -0800 2012  Tue Nov 13 00:00:00 -0800 2012   \n",
       "899998  Tue Nov 13 00:00:00 -0800 2012  Mon Nov 12 00:00:00 -0800 2012   \n",
       "899999  Sun Nov 11 00:00:00 -0800 2012  Sun Nov 11 00:00:00 -0800 2012   \n",
       "\n",
       "        n_votes  n_comments  \n",
       "899995        0           0  \n",
       "899996        1           1  \n",
       "899997        1           0  \n",
       "899998        0           0  \n",
       "899999        0           0  "
      ]
     },
     "execution_count": 5,
     "metadata": {},
     "output_type": "execute_result"
    }
   ],
   "source": [
    "df.tail()"
   ]
  },
  {
   "cell_type": "markdown",
   "metadata": {},
   "source": [
    "## Data Preperation"
   ]
  },
  {
   "cell_type": "markdown",
   "metadata": {},
   "source": [
    "### Null Values"
   ]
  },
  {
   "cell_type": "markdown",
   "metadata": {},
   "source": [
    "Looking at the null values we will be able to make a better decision on what to do with those two columns once we explore the data a little deeper."
   ]
  },
  {
   "cell_type": "code",
   "execution_count": 6,
   "metadata": {
    "scrolled": true
   },
   "outputs": [
    {
     "data": {
      "text/plain": [
       "user_id              0\n",
       "book_id              0\n",
       "review_id            0\n",
       "rating               0\n",
       "review_text          0\n",
       "date_added           0\n",
       "date_updated         0\n",
       "read_at          91766\n",
       "started_at      274297\n",
       "n_votes              0\n",
       "n_comments           0\n",
       "dtype: int64"
      ]
     },
     "execution_count": 6,
     "metadata": {},
     "output_type": "execute_result"
    }
   ],
   "source": [
    "df.isna().sum()"
   ]
  },
  {
   "cell_type": "code",
   "execution_count": 7,
   "metadata": {},
   "outputs": [],
   "source": [
    "df.read_at = df.read_at.fillna(value = \"0\")"
   ]
  },
  {
   "cell_type": "code",
   "execution_count": 8,
   "metadata": {},
   "outputs": [],
   "source": [
    "df.started_at = df.started_at.fillna(value = \"N/A\")"
   ]
  },
  {
   "cell_type": "code",
   "execution_count": 9,
   "metadata": {},
   "outputs": [
    {
     "data": {
      "text/plain": [
       "user_id         0\n",
       "book_id         0\n",
       "review_id       0\n",
       "rating          0\n",
       "review_text     0\n",
       "date_added      0\n",
       "date_updated    0\n",
       "read_at         0\n",
       "started_at      0\n",
       "n_votes         0\n",
       "n_comments      0\n",
       "dtype: int64"
      ]
     },
     "execution_count": 9,
     "metadata": {},
     "output_type": "execute_result"
    }
   ],
   "source": [
    "df.isna().sum()"
   ]
  },
  {
   "cell_type": "markdown",
   "metadata": {},
   "source": [
    "## Exploring Columns"
   ]
  },
  {
   "cell_type": "markdown",
   "metadata": {},
   "source": [
    "### user_id"
   ]
  },
  {
   "cell_type": "markdown",
   "metadata": {},
   "source": [
    "User Id is the numerical number given to a user.  This is their unique identifier.  There are 12,188 User id's in this dataset."
   ]
  },
  {
   "cell_type": "code",
   "execution_count": 10,
   "metadata": {},
   "outputs": [
    {
     "name": "stdout",
     "output_type": "stream",
     "text": [
      "No.of.unique values : 12188\n"
     ]
    }
   ],
   "source": [
    "user = len(pd.unique(df['user_id']))\n",
    "  \n",
    "print(\"No.of.unique values :\", \n",
    "      user)"
   ]
  },
  {
   "cell_type": "markdown",
   "metadata": {},
   "source": [
    "### book_id"
   ]
  },
  {
   "cell_type": "markdown",
   "metadata": {},
   "source": [
    "Book Id is the numerical number given to a book.  This is their unique identifier.  There are 25,474 book id's in this dataset."
   ]
  },
  {
   "cell_type": "code",
   "execution_count": 11,
   "metadata": {},
   "outputs": [
    {
     "name": "stdout",
     "output_type": "stream",
     "text": [
      "No.of.unique values : 25474\n"
     ]
    }
   ],
   "source": [
    "book = len(pd.unique(df['book_id']))\n",
    "  \n",
    "print(\"No.of.unique values :\", \n",
    "      book)"
   ]
  },
  {
   "cell_type": "markdown",
   "metadata": {},
   "source": [
    "### review_id"
   ]
  },
  {
   "cell_type": "markdown",
   "metadata": {},
   "source": [
    "Review id is the numerical number given to an individual review.  There are 900,000 unique reviews within this dataset.  This means that that every row is an individual review."
   ]
  },
  {
   "cell_type": "code",
   "execution_count": 12,
   "metadata": {},
   "outputs": [
    {
     "name": "stdout",
     "output_type": "stream",
     "text": [
      "No.of.unique values : 900000\n"
     ]
    }
   ],
   "source": [
    "review = len(pd.unique(df['review_id']))\n",
    "  \n",
    "print(\"No.of.unique values :\", \n",
    "      review)"
   ]
  },
  {
   "cell_type": "markdown",
   "metadata": {},
   "source": [
    "### rating"
   ]
  },
  {
   "cell_type": "markdown",
   "metadata": {},
   "source": [
    "Rating is the number which is given during a review.  0 is the lowest score you can receive and 5 is the highest score you can receive."
   ]
  },
  {
   "cell_type": "code",
   "execution_count": 13,
   "metadata": {},
   "outputs": [
    {
     "data": {
      "text/plain": [
       "4    313688\n",
       "5    265007\n",
       "3    188972\n",
       "2     72627\n",
       "0     30988\n",
       "1     28718\n",
       "Name: rating, dtype: int64"
      ]
     },
     "execution_count": 13,
     "metadata": {},
     "output_type": "execute_result"
    }
   ],
   "source": [
    "df['rating'].value_counts()"
   ]
  },
  {
   "cell_type": "markdown",
   "metadata": {},
   "source": [
    "### n_votes"
   ]
  },
  {
   "cell_type": "markdown",
   "metadata": {},
   "source": [
    "Votes is the number of votes which a review contains."
   ]
  },
  {
   "cell_type": "code",
   "execution_count": 14,
   "metadata": {},
   "outputs": [
    {
     "data": {
      "text/plain": [
       "0       0.581260\n",
       "1       0.157020\n",
       "2       0.069991\n",
       "3       0.040274\n",
       "4       0.026211\n",
       "          ...   \n",
       "894     0.000001\n",
       "591     0.000001\n",
       "291     0.000001\n",
       "387     0.000001\n",
       "1023    0.000001\n",
       "Name: n_votes, Length: 540, dtype: float64"
      ]
     },
     "execution_count": 14,
     "metadata": {},
     "output_type": "execute_result"
    }
   ],
   "source": [
    "df['n_votes'].value_counts(normalize=True)"
   ]
  },
  {
   "cell_type": "code",
   "execution_count": 15,
   "metadata": {},
   "outputs": [],
   "source": [
    "n_votes_data = df.groupby('rating').mean()['n_votes'].sort_values().reset_index()"
   ]
  },
  {
   "cell_type": "code",
   "execution_count": 16,
   "metadata": {},
   "outputs": [
    {
     "data": {
      "image/png": "[encoded data removed]",
      "text/plain": [
       "<Figure size 432x288 with 1 Axes>"
      ]
     },
     "metadata": {
      "needs_background": "light"
     },
     "output_type": "display_data"
    }
   ],
   "source": [
    "ax = sns.barplot(x = 'rating', y = 'n_votes', data=n_votes_data)\n",
    "ax.set_xlabel('rating', size = 15)\n",
    "ax.set_ylabel('Number of Votes', size = 15)\n",
    "ax.set_title('Number of Votes by Rating', size = 25)\n",
    "ax.tick_params(axis='x', rotation=45)\n",
    "ax.set(yticklabels=[]);"
   ]
  },
  {
   "cell_type": "markdown",
   "metadata": {},
   "source": [
    "### n_comments"
   ]
  },
  {
   "cell_type": "code",
   "execution_count": 17,
   "metadata": {},
   "outputs": [
    {
     "data": {
      "text/plain": [
       "0      0.837780\n",
       "2      0.040009\n",
       "1      0.039028\n",
       "3      0.017184\n",
       "4      0.014027\n",
       "         ...   \n",
       "221    0.000001\n",
       "222    0.000001\n",
       "223    0.000001\n",
       "225    0.000001\n",
       "170    0.000001\n",
       "Name: n_comments, Length: 236, dtype: float64"
      ]
     },
     "execution_count": 17,
     "metadata": {},
     "output_type": "execute_result"
    }
   ],
   "source": [
    "df['n_comments'].value_counts(normalize=True)"
   ]
  },
  {
   "cell_type": "code",
   "execution_count": 18,
   "metadata": {},
   "outputs": [],
   "source": [
    "n_comments_data = df.groupby('rating').mean()['n_comments'].sort_values().reset_index()"
   ]
  },
  {
   "cell_type": "code",
   "execution_count": 19,
   "metadata": {},
   "outputs": [
    {
     "data": {
      "image/png": "[encoded data removed]",
      "text/plain": [
       "<Figure size 432x288 with 1 Axes>"
      ]
     },
     "metadata": {
      "needs_background": "light"
     },
     "output_type": "display_data"
    }
   ],
   "source": [
    "ax = sns.barplot(x = 'rating', y = 'n_comments', data=n_comments_data)\n",
    "ax.set_xlabel('Rating', size = 15)\n",
    "ax.set_ylabel('Number of Comments', size = 15)\n",
    "ax.set_title('Number of Comments by Rating', size = 25)\n",
    "ax.tick_params(axis='x', rotation=45)\n",
    "ax.set(yticklabels=[]);"
   ]
  },
  {
   "cell_type": "markdown",
   "metadata": {},
   "source": [
    "## Word Cloud"
   ]
  },
  {
   "cell_type": "code",
   "execution_count": 20,
   "metadata": {},
   "outputs": [],
   "source": [
    "Five_rating = \" \".join(review for review in df[df[\"rating\"]==5]['review_text'])\n",
    "Four_Rating = \" \".join(review for review in df[df[\"rating\"]==4]['review_text'])\n",
    "Three_Rating = \" \".join(review for review in df[df[\"rating\"]==3]['review_text'])\n",
    "Two_Rating = \" \".join(review for review in df[df[\"rating\"]==2]['review_text'])\n",
    "One_Rating = \" \".join(review for review in df[df[\"rating\"]==1]['review_text'])"
   ]
  },
  {
   "cell_type": "markdown",
   "metadata": {},
   "source": [
    "### Word Cloud Five Rating"
   ]
  },
  {
   "cell_type": "code",
   "execution_count": 21,
   "metadata": {},
   "outputs": [
    {
     "data": {
      "image/png": "[encoded data removed]",
      "text/plain": [
       "<Figure size 432x288 with 1 Axes>"
      ]
     },
     "metadata": {
      "needs_background": "light"
     },
     "output_type": "display_data"
    }
   ],
   "source": [
    "from wordcloud import WordCloud, STOPWORDS\n",
    "\n",
    "wc_stopwords= set(STOPWORDS)\n",
    "wc_new_words = [\"book\", \"read\", \"character\", \"really\", \"one\"]\n",
    "wc_new_stopwords=wc_stopwords.union(wc_new_words)\n",
    "\n",
    "wordcloud_five = WordCloud(collocations=False,background_color=\"white\", max_words=150, stopwords=wc_new_stopwords).generate(Five_rating)\n",
    "\n",
    "# Display the generated image:\n",
    "plt.imshow(wordcloud_five, interpolation='bilinear',aspect=\"auto\")\n",
    "plt.axis(\"off\")\n",
    "# store to file\n",
    "plt.show()"
   ]
  },
  {
   "cell_type": "markdown",
   "metadata": {},
   "source": [
    "### Word Cloud Four Rating"
   ]
  },
  {
   "cell_type": "code",
   "execution_count": 22,
   "metadata": {},
   "outputs": [
    {
     "data": {
      "image/png": "[encoded data removed]",
      "text/plain": [
       "<Figure size 432x288 with 1 Axes>"
      ]
     },
     "metadata": {
      "needs_background": "light"
     },
     "output_type": "display_data"
    }
   ],
   "source": [
    "wordcloud_four = WordCloud(collocations=False,background_color=\"white\", max_words=150, stopwords=wc_new_stopwords).generate(Four_Rating)\n",
    "\n",
    "# Display the generated image:\n",
    "plt.imshow(wordcloud_four, interpolation='bilinear',aspect=\"auto\")\n",
    "plt.axis(\"off\")\n",
    "# store to file\n",
    "plt.show()"
   ]
  },
  {
   "cell_type": "markdown",
   "metadata": {},
   "source": [
    "### Word Cloud Three Rating"
   ]
  },
  {
   "cell_type": "code",
   "execution_count": 23,
   "metadata": {},
   "outputs": [
    {
     "data": {
      "image/png": "[encoded data removed]",
      "text/plain": [
       "<Figure size 432x288 with 1 Axes>"
      ]
     },
     "metadata": {
      "needs_background": "light"
     },
     "output_type": "display_data"
    }
   ],
   "source": [
    "wordcloud_three = WordCloud(collocations=False,background_color=\"white\", max_words=150, stopwords=wc_new_stopwords).generate(Three_Rating)\n",
    "\n",
    "# Display the generated image:\n",
    "plt.imshow(wordcloud_three, interpolation='bilinear',aspect=\"auto\")\n",
    "plt.axis(\"off\")\n",
    "# store to file\n",
    "plt.show()"
   ]
  },
  {
   "cell_type": "markdown",
   "metadata": {},
   "source": [
    "### Word Cloud Two Rating"
   ]
  },
  {
   "cell_type": "code",
   "execution_count": 24,
   "metadata": {},
   "outputs": [
    {
     "data": {
      "image/png": "[encoded data removed]",
      "text/plain": [
       "<Figure size 432x288 with 1 Axes>"
      ]
     },
     "metadata": {
      "needs_background": "light"
     },
     "output_type": "display_data"
    }
   ],
   "source": [
    "wordcloud_two = WordCloud(collocations=False,background_color=\"white\", max_words=150, stopwords=wc_new_stopwords).generate(Two_Rating)\n",
    "\n",
    "# Display the generated image:\n",
    "plt.imshow(wordcloud_two, interpolation='bilinear',aspect=\"auto\")\n",
    "plt.axis(\"off\")\n",
    "# store to file\n",
    "plt.show()"
   ]
  },
  {
   "cell_type": "markdown",
   "metadata": {},
   "source": [
    "### Word Cloud One Rating"
   ]
  },
  {
   "cell_type": "code",
   "execution_count": 25,
   "metadata": {},
   "outputs": [
    {
     "data": {
      "image/png": "[encoded data removed]",
      "text/plain": [
       "<Figure size 432x288 with 1 Axes>"
      ]
     },
     "metadata": {
      "needs_background": "light"
     },
     "output_type": "display_data"
    }
   ],
   "source": [
    "wordcloud_one = WordCloud(collocations=False,background_color=\"white\", max_words=150, stopwords=wc_new_stopwords).generate(One_Rating)\n",
    "\n",
    "# Display the generated image:\n",
    "plt.imshow(wordcloud_one, interpolation='bilinear',aspect=\"auto\")\n",
    "plt.axis(\"off\")\n",
    "# store to file\n",
    "plt.show()"
   ]
  },
  {
   "cell_type": "markdown",
   "metadata": {},
   "source": [
    "# Sample Data"
   ]
  },
  {
   "cell_type": "code",
   "execution_count": 250,
   "metadata": {},
   "outputs": [],
   "source": [
    "weights = {5: 1,\n",
    "          4: 1,\n",
    "          3: 2,\n",
    "          2: 5,\n",
    "          1: 7,\n",
    "          0:6}"
   ]
  },
  {
   "cell_type": "code",
   "execution_count": 251,
   "metadata": {},
   "outputs": [
    {
     "data": {
      "text/html": [
       "<div>\n",
       "<style scoped>\n",
       "    .dataframe tbody tr th:only-of-type {\n",
       "        vertical-align: middle;\n",
       "    }\n",
       "\n",
       "    .dataframe tbody tr th {\n",
       "        vertical-align: top;\n",
       "    }\n",
       "\n",
       "    .dataframe thead th {\n",
       "        text-align: right;\n",
       "    }\n",
       "</style>\n",
       "<table border=\"1\" class=\"dataframe\">\n",
       "  <thead>\n",
       "    <tr style=\"text-align: right;\">\n",
       "      <th></th>\n",
       "      <th>user_id</th>\n",
       "      <th>book_id</th>\n",
       "      <th>review_id</th>\n",
       "      <th>rating</th>\n",
       "      <th>review_text</th>\n",
       "      <th>date_added</th>\n",
       "      <th>date_updated</th>\n",
       "      <th>read_at</th>\n",
       "      <th>started_at</th>\n",
       "      <th>n_votes</th>\n",
       "      <th>n_comments</th>\n",
       "      <th>weights</th>\n",
       "    </tr>\n",
       "  </thead>\n",
       "  <tbody>\n",
       "    <tr>\n",
       "      <th>0</th>\n",
       "      <td>8842281e1d1347389f2ab93d60773d4d</td>\n",
       "      <td>18245960</td>\n",
       "      <td>dfdbb7b0eb5a7e4c26d59a937e2e5feb</td>\n",
       "      <td>5</td>\n",
       "      <td>This is a special book. It started slow for ab...</td>\n",
       "      <td>Sun Jul 30 07:44:10 -0700 2017</td>\n",
       "      <td>Wed Aug 30 00:00:26 -0700 2017</td>\n",
       "      <td>Sat Aug 26 12:05:52 -0700 2017</td>\n",
       "      <td>Tue Aug 15 13:23:18 -0700 2017</td>\n",
       "      <td>28</td>\n",
       "      <td>1</td>\n",
       "      <td>1</td>\n",
       "    </tr>\n",
       "    <tr>\n",
       "      <th>1</th>\n",
       "      <td>8842281e1d1347389f2ab93d60773d4d</td>\n",
       "      <td>16981</td>\n",
       "      <td>a5d2c3628987712d0e05c4f90798eb67</td>\n",
       "      <td>3</td>\n",
       "      <td>Recommended by Don Katz. Avail for free in Dec...</td>\n",
       "      <td>Mon Dec 05 10:46:44 -0800 2016</td>\n",
       "      <td>Wed Mar 22 11:37:04 -0700 2017</td>\n",
       "      <td>0</td>\n",
       "      <td>N/A</td>\n",
       "      <td>1</td>\n",
       "      <td>0</td>\n",
       "      <td>2</td>\n",
       "    </tr>\n",
       "    <tr>\n",
       "      <th>2</th>\n",
       "      <td>8842281e1d1347389f2ab93d60773d4d</td>\n",
       "      <td>28684704</td>\n",
       "      <td>2ede853b14dc4583f96cf5d120af636f</td>\n",
       "      <td>3</td>\n",
       "      <td>A fun, fast paced science fiction thriller. I ...</td>\n",
       "      <td>Tue Nov 15 11:29:22 -0800 2016</td>\n",
       "      <td>Mon Mar 20 23:40:27 -0700 2017</td>\n",
       "      <td>Sat Mar 18 23:22:42 -0700 2017</td>\n",
       "      <td>Fri Mar 17 23:45:40 -0700 2017</td>\n",
       "      <td>22</td>\n",
       "      <td>0</td>\n",
       "      <td>2</td>\n",
       "    </tr>\n",
       "    <tr>\n",
       "      <th>3</th>\n",
       "      <td>8842281e1d1347389f2ab93d60773d4d</td>\n",
       "      <td>27161156</td>\n",
       "      <td>ced5675e55cd9d38a524743f5c40996e</td>\n",
       "      <td>0</td>\n",
       "      <td>Recommended reading to understand what is goin...</td>\n",
       "      <td>Wed Nov 09 17:37:04 -0800 2016</td>\n",
       "      <td>Wed Nov 09 17:38:20 -0800 2016</td>\n",
       "      <td>0</td>\n",
       "      <td>N/A</td>\n",
       "      <td>5</td>\n",
       "      <td>1</td>\n",
       "      <td>6</td>\n",
       "    </tr>\n",
       "    <tr>\n",
       "      <th>4</th>\n",
       "      <td>8842281e1d1347389f2ab93d60773d4d</td>\n",
       "      <td>25884323</td>\n",
       "      <td>332732725863131279a8e345b63ac33e</td>\n",
       "      <td>4</td>\n",
       "      <td>I really enjoyed this book, and there is a lot...</td>\n",
       "      <td>Mon Apr 25 09:31:23 -0700 2016</td>\n",
       "      <td>Mon Apr 25 09:31:23 -0700 2016</td>\n",
       "      <td>Sun Jun 26 00:00:00 -0700 2016</td>\n",
       "      <td>Sat May 28 00:00:00 -0700 2016</td>\n",
       "      <td>9</td>\n",
       "      <td>1</td>\n",
       "      <td>1</td>\n",
       "    </tr>\n",
       "    <tr>\n",
       "      <th>...</th>\n",
       "      <td>...</td>\n",
       "      <td>...</td>\n",
       "      <td>...</td>\n",
       "      <td>...</td>\n",
       "      <td>...</td>\n",
       "      <td>...</td>\n",
       "      <td>...</td>\n",
       "      <td>...</td>\n",
       "      <td>...</td>\n",
       "      <td>...</td>\n",
       "      <td>...</td>\n",
       "      <td>...</td>\n",
       "    </tr>\n",
       "    <tr>\n",
       "      <th>899995</th>\n",
       "      <td>b9450d1c1f97f891c392b1105959b56e</td>\n",
       "      <td>11832081</td>\n",
       "      <td>7c34c15ad8cb28a4afca32946e2016ea</td>\n",
       "      <td>3</td>\n",
       "      <td>3.5 stars. \\n Jenna is a popular YA author and...</td>\n",
       "      <td>Fri Nov 16 22:10:17 -0800 2012</td>\n",
       "      <td>Sat Nov 17 22:42:44 -0800 2012</td>\n",
       "      <td>Sat Nov 17 00:00:00 -0800 2012</td>\n",
       "      <td>Fri Nov 16 00:00:00 -0800 2012</td>\n",
       "      <td>0</td>\n",
       "      <td>0</td>\n",
       "      <td>2</td>\n",
       "    </tr>\n",
       "    <tr>\n",
       "      <th>899996</th>\n",
       "      <td>b9450d1c1f97f891c392b1105959b56e</td>\n",
       "      <td>16095092</td>\n",
       "      <td>e979c735276431915d089cfaf446d64f</td>\n",
       "      <td>3</td>\n",
       "      <td>This was a quick read for me. I have read a lo...</td>\n",
       "      <td>Fri Nov 16 22:09:49 -0800 2012</td>\n",
       "      <td>Sat Nov 17 23:38:58 -0800 2012</td>\n",
       "      <td>Sat Nov 17 00:00:00 -0800 2012</td>\n",
       "      <td>Fri Nov 16 00:00:00 -0800 2012</td>\n",
       "      <td>1</td>\n",
       "      <td>1</td>\n",
       "      <td>2</td>\n",
       "    </tr>\n",
       "    <tr>\n",
       "      <th>899997</th>\n",
       "      <td>b9450d1c1f97f891c392b1105959b56e</td>\n",
       "      <td>8430896</td>\n",
       "      <td>feb9fe6439f9fbba8a1cce36020ad977</td>\n",
       "      <td>4</td>\n",
       "      <td>** spoiler alert ** \\n 3.5 stars. \\n This book...</td>\n",
       "      <td>Tue Nov 13 05:38:24 -0800 2012</td>\n",
       "      <td>Tue Nov 13 23:29:17 -0800 2012</td>\n",
       "      <td>Tue Nov 13 00:00:00 -0800 2012</td>\n",
       "      <td>Tue Nov 13 00:00:00 -0800 2012</td>\n",
       "      <td>1</td>\n",
       "      <td>0</td>\n",
       "      <td>1</td>\n",
       "    </tr>\n",
       "    <tr>\n",
       "      <th>899998</th>\n",
       "      <td>b9450d1c1f97f891c392b1105959b56e</td>\n",
       "      <td>12275680</td>\n",
       "      <td>741e29369f70531bfffbd02add86f228</td>\n",
       "      <td>4</td>\n",
       "      <td>** spoiler alert ** \\n Another fun read from M...</td>\n",
       "      <td>Mon Nov 12 05:42:30 -0800 2012</td>\n",
       "      <td>Tue Nov 13 22:32:05 -0800 2012</td>\n",
       "      <td>Tue Nov 13 00:00:00 -0800 2012</td>\n",
       "      <td>Mon Nov 12 00:00:00 -0800 2012</td>\n",
       "      <td>0</td>\n",
       "      <td>0</td>\n",
       "      <td>1</td>\n",
       "    </tr>\n",
       "    <tr>\n",
       "      <th>899999</th>\n",
       "      <td>b9450d1c1f97f891c392b1105959b56e</td>\n",
       "      <td>17005</td>\n",
       "      <td>d55f3a967230940e75a314700caec9a5</td>\n",
       "      <td>3</td>\n",
       "      <td>** spoiler alert ** \\n 3.5 stars \\n I liked it...</td>\n",
       "      <td>Sun Nov 11 00:05:43 -0800 2012</td>\n",
       "      <td>Sun Nov 11 21:59:08 -0800 2012</td>\n",
       "      <td>Sun Nov 11 00:00:00 -0800 2012</td>\n",
       "      <td>Sun Nov 11 00:00:00 -0800 2012</td>\n",
       "      <td>0</td>\n",
       "      <td>0</td>\n",
       "      <td>2</td>\n",
       "    </tr>\n",
       "  </tbody>\n",
       "</table>\n",
       "<p>900000 rows × 12 columns</p>\n",
       "</div>"
      ],
      "text/plain": [
       "                                 user_id   book_id  \\\n",
       "0       8842281e1d1347389f2ab93d60773d4d  18245960   \n",
       "1       8842281e1d1347389f2ab93d60773d4d     16981   \n",
       "2       8842281e1d1347389f2ab93d60773d4d  28684704   \n",
       "3       8842281e1d1347389f2ab93d60773d4d  27161156   \n",
       "4       8842281e1d1347389f2ab93d60773d4d  25884323   \n",
       "...                                  ...       ...   \n",
       "899995  b9450d1c1f97f891c392b1105959b56e  11832081   \n",
       "899996  b9450d1c1f97f891c392b1105959b56e  16095092   \n",
       "899997  b9450d1c1f97f891c392b1105959b56e   8430896   \n",
       "899998  b9450d1c1f97f891c392b1105959b56e  12275680   \n",
       "899999  b9450d1c1f97f891c392b1105959b56e     17005   \n",
       "\n",
       "                               review_id  rating  \\\n",
       "0       dfdbb7b0eb5a7e4c26d59a937e2e5feb       5   \n",
       "1       a5d2c3628987712d0e05c4f90798eb67       3   \n",
       "2       2ede853b14dc4583f96cf5d120af636f       3   \n",
       "3       ced5675e55cd9d38a524743f5c40996e       0   \n",
       "4       332732725863131279a8e345b63ac33e       4   \n",
       "...                                  ...     ...   \n",
       "899995  7c34c15ad8cb28a4afca32946e2016ea       3   \n",
       "899996  e979c735276431915d089cfaf446d64f       3   \n",
       "899997  feb9fe6439f9fbba8a1cce36020ad977       4   \n",
       "899998  741e29369f70531bfffbd02add86f228       4   \n",
       "899999  d55f3a967230940e75a314700caec9a5       3   \n",
       "\n",
       "                                              review_text  \\\n",
       "0       This is a special book. It started slow for ab...   \n",
       "1       Recommended by Don Katz. Avail for free in Dec...   \n",
       "2       A fun, fast paced science fiction thriller. I ...   \n",
       "3       Recommended reading to understand what is goin...   \n",
       "4       I really enjoyed this book, and there is a lot...   \n",
       "...                                                   ...   \n",
       "899995  3.5 stars. \\n Jenna is a popular YA author and...   \n",
       "899996  This was a quick read for me. I have read a lo...   \n",
       "899997  ** spoiler alert ** \\n 3.5 stars. \\n This book...   \n",
       "899998  ** spoiler alert ** \\n Another fun read from M...   \n",
       "899999  ** spoiler alert ** \\n 3.5 stars \\n I liked it...   \n",
       "\n",
       "                            date_added                    date_updated  \\\n",
       "0       Sun Jul 30 07:44:10 -0700 2017  Wed Aug 30 00:00:26 -0700 2017   \n",
       "1       Mon Dec 05 10:46:44 -0800 2016  Wed Mar 22 11:37:04 -0700 2017   \n",
       "2       Tue Nov 15 11:29:22 -0800 2016  Mon Mar 20 23:40:27 -0700 2017   \n",
       "3       Wed Nov 09 17:37:04 -0800 2016  Wed Nov 09 17:38:20 -0800 2016   \n",
       "4       Mon Apr 25 09:31:23 -0700 2016  Mon Apr 25 09:31:23 -0700 2016   \n",
       "...                                ...                             ...   \n",
       "899995  Fri Nov 16 22:10:17 -0800 2012  Sat Nov 17 22:42:44 -0800 2012   \n",
       "899996  Fri Nov 16 22:09:49 -0800 2012  Sat Nov 17 23:38:58 -0800 2012   \n",
       "899997  Tue Nov 13 05:38:24 -0800 2012  Tue Nov 13 23:29:17 -0800 2012   \n",
       "899998  Mon Nov 12 05:42:30 -0800 2012  Tue Nov 13 22:32:05 -0800 2012   \n",
       "899999  Sun Nov 11 00:05:43 -0800 2012  Sun Nov 11 21:59:08 -0800 2012   \n",
       "\n",
       "                               read_at                      started_at  \\\n",
       "0       Sat Aug 26 12:05:52 -0700 2017  Tue Aug 15 13:23:18 -0700 2017   \n",
       "1                                    0                             N/A   \n",
       "2       Sat Mar 18 23:22:42 -0700 2017  Fri Mar 17 23:45:40 -0700 2017   \n",
       "3                                    0                             N/A   \n",
       "4       Sun Jun 26 00:00:00 -0700 2016  Sat May 28 00:00:00 -0700 2016   \n",
       "...                                ...                             ...   \n",
       "899995  Sat Nov 17 00:00:00 -0800 2012  Fri Nov 16 00:00:00 -0800 2012   \n",
       "899996  Sat Nov 17 00:00:00 -0800 2012  Fri Nov 16 00:00:00 -0800 2012   \n",
       "899997  Tue Nov 13 00:00:00 -0800 2012  Tue Nov 13 00:00:00 -0800 2012   \n",
       "899998  Tue Nov 13 00:00:00 -0800 2012  Mon Nov 12 00:00:00 -0800 2012   \n",
       "899999  Sun Nov 11 00:00:00 -0800 2012  Sun Nov 11 00:00:00 -0800 2012   \n",
       "\n",
       "        n_votes  n_comments  weights  \n",
       "0            28           1        1  \n",
       "1             1           0        2  \n",
       "2            22           0        2  \n",
       "3             5           1        6  \n",
       "4             9           1        1  \n",
       "...         ...         ...      ...  \n",
       "899995        0           0        2  \n",
       "899996        1           1        2  \n",
       "899997        1           0        1  \n",
       "899998        0           0        1  \n",
       "899999        0           0        2  \n",
       "\n",
       "[900000 rows x 12 columns]"
      ]
     },
     "execution_count": 251,
     "metadata": {},
     "output_type": "execute_result"
    }
   ],
   "source": [
    "df['weights'] = df['rating'].apply(lambda x: weights[x])\n",
    "df"
   ]
  },
  {
   "cell_type": "code",
   "execution_count": 252,
   "metadata": {},
   "outputs": [],
   "source": [
    "sample_df = df.sample(n = 100000, weights = 'weights', random_state=42)"
   ]
  },
  {
   "cell_type": "code",
   "execution_count": 253,
   "metadata": {
    "scrolled": false
   },
   "outputs": [
    {
     "data": {
      "text/html": [
       "<div>\n",
       "<style scoped>\n",
       "    .dataframe tbody tr th:only-of-type {\n",
       "        vertical-align: middle;\n",
       "    }\n",
       "\n",
       "    .dataframe tbody tr th {\n",
       "        vertical-align: top;\n",
       "    }\n",
       "\n",
       "    .dataframe thead th {\n",
       "        text-align: right;\n",
       "    }\n",
       "</style>\n",
       "<table border=\"1\" class=\"dataframe\">\n",
       "  <thead>\n",
       "    <tr style=\"text-align: right;\">\n",
       "      <th></th>\n",
       "      <th>user_id</th>\n",
       "      <th>book_id</th>\n",
       "      <th>review_id</th>\n",
       "      <th>rating</th>\n",
       "      <th>review_text</th>\n",
       "      <th>date_added</th>\n",
       "      <th>date_updated</th>\n",
       "      <th>read_at</th>\n",
       "      <th>started_at</th>\n",
       "      <th>n_votes</th>\n",
       "      <th>n_comments</th>\n",
       "      <th>weights</th>\n",
       "    </tr>\n",
       "  </thead>\n",
       "  <tbody>\n",
       "    <tr>\n",
       "      <th>340415</th>\n",
       "      <td>d1343464ab5b2d0d2e5c2bc543fb788b</td>\n",
       "      <td>30644891</td>\n",
       "      <td>656cfd012a2b6b4ff3fd8806a34cfdaf</td>\n",
       "      <td>1</td>\n",
       "      <td>So far this is the biggest contender for \"Bigg...</td>\n",
       "      <td>Mon Oct 03 06:37:43 -0700 2016</td>\n",
       "      <td>Sat Feb 25 04:49:22 -0800 2017</td>\n",
       "      <td>Thu Oct 06 00:00:00 -0700 2016</td>\n",
       "      <td>Mon Oct 03 00:00:00 -0700 2016</td>\n",
       "      <td>23</td>\n",
       "      <td>3</td>\n",
       "      <td>7</td>\n",
       "    </tr>\n",
       "    <tr>\n",
       "      <th>855236</th>\n",
       "      <td>6122df12bb030536895739c5747f6311</td>\n",
       "      <td>4570768</td>\n",
       "      <td>69485fe87e9dd01788bb37609c757a80</td>\n",
       "      <td>2</td>\n",
       "      <td>I liked it/thought it was okay, but the ending...</td>\n",
       "      <td>Fri Apr 06 15:17:20 -0700 2012</td>\n",
       "      <td>Fri Apr 06 15:19:12 -0700 2012</td>\n",
       "      <td>0</td>\n",
       "      <td>N/A</td>\n",
       "      <td>0</td>\n",
       "      <td>0</td>\n",
       "      <td>5</td>\n",
       "    </tr>\n",
       "    <tr>\n",
       "      <th>657492</th>\n",
       "      <td>cc589432bb9400a77e5609802647f8cc</td>\n",
       "      <td>23492630</td>\n",
       "      <td>22399061ce4d44a2afbf432d36f8f78e</td>\n",
       "      <td>1</td>\n",
       "      <td>Hell NO. I gave up on this after two skeevy ch...</td>\n",
       "      <td>Mon Apr 25 17:55:56 -0700 2016</td>\n",
       "      <td>Mon May 09 11:17:19 -0700 2016</td>\n",
       "      <td>Thu May 05 00:00:00 -0700 2016</td>\n",
       "      <td>Mon May 02 00:00:00 -0700 2016</td>\n",
       "      <td>0</td>\n",
       "      <td>0</td>\n",
       "      <td>7</td>\n",
       "    </tr>\n",
       "    <tr>\n",
       "      <th>539352</th>\n",
       "      <td>e3d3693045b28da751165d74f18756f3</td>\n",
       "      <td>18404248</td>\n",
       "      <td>50ee8c917d154990b155c7c263ee00f9</td>\n",
       "      <td>2</td>\n",
       "      <td>Disappointing. I look forward to my yearly Che...</td>\n",
       "      <td>Sat Apr 05 12:33:23 -0700 2014</td>\n",
       "      <td>Thu Jul 10 12:20:52 -0700 2014</td>\n",
       "      <td>Thu Jul 10 12:20:52 -0700 2014</td>\n",
       "      <td>Mon Jun 02 00:00:00 -0700 2014</td>\n",
       "      <td>0</td>\n",
       "      <td>0</td>\n",
       "      <td>5</td>\n",
       "    </tr>\n",
       "    <tr>\n",
       "      <th>141061</th>\n",
       "      <td>879d4548d46ff3334f4dd7e1b006d6b1</td>\n",
       "      <td>30813362</td>\n",
       "      <td>2e1dcf6dceecbaa2948e090b181f40b7</td>\n",
       "      <td>5</td>\n",
       "      <td>*** Copy provided to Bayou Book Junkie in exch...</td>\n",
       "      <td>Thu Aug 11 20:01:39 -0700 2016</td>\n",
       "      <td>Thu Aug 11 20:02:57 -0700 2016</td>\n",
       "      <td>Mon Aug 08 00:00:00 -0700 2016</td>\n",
       "      <td>N/A</td>\n",
       "      <td>0</td>\n",
       "      <td>0</td>\n",
       "      <td>1</td>\n",
       "    </tr>\n",
       "  </tbody>\n",
       "</table>\n",
       "</div>"
      ],
      "text/plain": [
       "                                 user_id   book_id  \\\n",
       "340415  d1343464ab5b2d0d2e5c2bc543fb788b  30644891   \n",
       "855236  6122df12bb030536895739c5747f6311   4570768   \n",
       "657492  cc589432bb9400a77e5609802647f8cc  23492630   \n",
       "539352  e3d3693045b28da751165d74f18756f3  18404248   \n",
       "141061  879d4548d46ff3334f4dd7e1b006d6b1  30813362   \n",
       "\n",
       "                               review_id  rating  \\\n",
       "340415  656cfd012a2b6b4ff3fd8806a34cfdaf       1   \n",
       "855236  69485fe87e9dd01788bb37609c757a80       2   \n",
       "657492  22399061ce4d44a2afbf432d36f8f78e       1   \n",
       "539352  50ee8c917d154990b155c7c263ee00f9       2   \n",
       "141061  2e1dcf6dceecbaa2948e090b181f40b7       5   \n",
       "\n",
       "                                              review_text  \\\n",
       "340415  So far this is the biggest contender for \"Bigg...   \n",
       "855236  I liked it/thought it was okay, but the ending...   \n",
       "657492  Hell NO. I gave up on this after two skeevy ch...   \n",
       "539352  Disappointing. I look forward to my yearly Che...   \n",
       "141061  *** Copy provided to Bayou Book Junkie in exch...   \n",
       "\n",
       "                            date_added                    date_updated  \\\n",
       "340415  Mon Oct 03 06:37:43 -0700 2016  Sat Feb 25 04:49:22 -0800 2017   \n",
       "855236  Fri Apr 06 15:17:20 -0700 2012  Fri Apr 06 15:19:12 -0700 2012   \n",
       "657492  Mon Apr 25 17:55:56 -0700 2016  Mon May 09 11:17:19 -0700 2016   \n",
       "539352  Sat Apr 05 12:33:23 -0700 2014  Thu Jul 10 12:20:52 -0700 2014   \n",
       "141061  Thu Aug 11 20:01:39 -0700 2016  Thu Aug 11 20:02:57 -0700 2016   \n",
       "\n",
       "                               read_at                      started_at  \\\n",
       "340415  Thu Oct 06 00:00:00 -0700 2016  Mon Oct 03 00:00:00 -0700 2016   \n",
       "855236                               0                             N/A   \n",
       "657492  Thu May 05 00:00:00 -0700 2016  Mon May 02 00:00:00 -0700 2016   \n",
       "539352  Thu Jul 10 12:20:52 -0700 2014  Mon Jun 02 00:00:00 -0700 2014   \n",
       "141061  Mon Aug 08 00:00:00 -0700 2016                             N/A   \n",
       "\n",
       "        n_votes  n_comments  weights  \n",
       "340415       23           3        7  \n",
       "855236        0           0        5  \n",
       "657492        0           0        7  \n",
       "539352        0           0        5  \n",
       "141061        0           0        1  "
      ]
     },
     "execution_count": 253,
     "metadata": {},
     "output_type": "execute_result"
    }
   ],
   "source": [
    "sample_df.head()"
   ]
  },
  {
   "cell_type": "code",
   "execution_count": 254,
   "metadata": {
    "scrolled": true
   },
   "outputs": [
    {
     "name": "stdout",
     "output_type": "stream",
     "text": [
      "<class 'pandas.core.frame.DataFrame'>\n",
      "Int64Index: 100000 entries, 340415 to 440423\n",
      "Data columns (total 12 columns):\n",
      " #   Column        Non-Null Count   Dtype \n",
      "---  ------        --------------   ----- \n",
      " 0   user_id       100000 non-null  object\n",
      " 1   book_id       100000 non-null  int64 \n",
      " 2   review_id     100000 non-null  object\n",
      " 3   rating        100000 non-null  int64 \n",
      " 4   review_text   100000 non-null  object\n",
      " 5   date_added    100000 non-null  object\n",
      " 6   date_updated  100000 non-null  object\n",
      " 7   read_at       100000 non-null  object\n",
      " 8   started_at    100000 non-null  object\n",
      " 9   n_votes       100000 non-null  int64 \n",
      " 10  n_comments    100000 non-null  int64 \n",
      " 11  weights       100000 non-null  int64 \n",
      "dtypes: int64(5), object(7)\n",
      "memory usage: 9.9+ MB\n"
     ]
    }
   ],
   "source": [
    "sample_df.info()"
   ]
  },
  {
   "cell_type": "code",
   "execution_count": 255,
   "metadata": {
    "scrolled": true
   },
   "outputs": [
    {
     "data": {
      "text/plain": [
       "3    22818\n",
       "2    20137\n",
       "4    19908\n",
       "5    16716\n",
       "1    10493\n",
       "0     9928\n",
       "Name: rating, dtype: int64"
      ]
     },
     "execution_count": 255,
     "metadata": {},
     "output_type": "execute_result"
    }
   ],
   "source": [
    "sample_df['rating'].value_counts()"
   ]
  },
  {
   "cell_type": "markdown",
   "metadata": {},
   "source": [
    "## Drop Columns"
   ]
  },
  {
   "cell_type": "code",
   "execution_count": 256,
   "metadata": {},
   "outputs": [],
   "source": [
    "sample_df.drop(columns=['user_id', 'book_id', 'review_id', 'date_added', 'date_updated',\n",
    "                'started_at', 'read_at', 'n_votes', 'n_comments', 'weights'], inplace = True)"
   ]
  },
  {
   "cell_type": "code",
   "execution_count": 257,
   "metadata": {},
   "outputs": [
    {
     "data": {
      "text/html": [
       "<div>\n",
       "<style scoped>\n",
       "    .dataframe tbody tr th:only-of-type {\n",
       "        vertical-align: middle;\n",
       "    }\n",
       "\n",
       "    .dataframe tbody tr th {\n",
       "        vertical-align: top;\n",
       "    }\n",
       "\n",
       "    .dataframe thead th {\n",
       "        text-align: right;\n",
       "    }\n",
       "</style>\n",
       "<table border=\"1\" class=\"dataframe\">\n",
       "  <thead>\n",
       "    <tr style=\"text-align: right;\">\n",
       "      <th></th>\n",
       "      <th>rating</th>\n",
       "      <th>review_text</th>\n",
       "    </tr>\n",
       "  </thead>\n",
       "  <tbody>\n",
       "    <tr>\n",
       "      <th>340415</th>\n",
       "      <td>1</td>\n",
       "      <td>So far this is the biggest contender for \"Bigg...</td>\n",
       "    </tr>\n",
       "    <tr>\n",
       "      <th>855236</th>\n",
       "      <td>2</td>\n",
       "      <td>I liked it/thought it was okay, but the ending...</td>\n",
       "    </tr>\n",
       "    <tr>\n",
       "      <th>657492</th>\n",
       "      <td>1</td>\n",
       "      <td>Hell NO. I gave up on this after two skeevy ch...</td>\n",
       "    </tr>\n",
       "    <tr>\n",
       "      <th>539352</th>\n",
       "      <td>2</td>\n",
       "      <td>Disappointing. I look forward to my yearly Che...</td>\n",
       "    </tr>\n",
       "    <tr>\n",
       "      <th>141061</th>\n",
       "      <td>5</td>\n",
       "      <td>*** Copy provided to Bayou Book Junkie in exch...</td>\n",
       "    </tr>\n",
       "  </tbody>\n",
       "</table>\n",
       "</div>"
      ],
      "text/plain": [
       "        rating                                        review_text\n",
       "340415       1  So far this is the biggest contender for \"Bigg...\n",
       "855236       2  I liked it/thought it was okay, but the ending...\n",
       "657492       1  Hell NO. I gave up on this after two skeevy ch...\n",
       "539352       2  Disappointing. I look forward to my yearly Che...\n",
       "141061       5  *** Copy provided to Bayou Book Junkie in exch..."
      ]
     },
     "execution_count": 257,
     "metadata": {},
     "output_type": "execute_result"
    }
   ],
   "source": [
    "sample_df.head()"
   ]
  },
  {
   "cell_type": "code",
   "execution_count": 258,
   "metadata": {},
   "outputs": [
    {
     "name": "stderr",
     "output_type": "stream",
     "text": [
      "<ipython-input-258-48406b2263ef>:1: UserWarning: Boolean Series key will be reindexed to match DataFrame index.\n",
      "  sample_df.drop(sample_df[(df['rating'] == 0)].index, inplace=True)\n"
     ]
    },
    {
     "data": {
      "text/html": [
       "<div>\n",
       "<style scoped>\n",
       "    .dataframe tbody tr th:only-of-type {\n",
       "        vertical-align: middle;\n",
       "    }\n",
       "\n",
       "    .dataframe tbody tr th {\n",
       "        vertical-align: top;\n",
       "    }\n",
       "\n",
       "    .dataframe thead th {\n",
       "        text-align: right;\n",
       "    }\n",
       "</style>\n",
       "<table border=\"1\" class=\"dataframe\">\n",
       "  <thead>\n",
       "    <tr style=\"text-align: right;\">\n",
       "      <th></th>\n",
       "      <th>rating</th>\n",
       "      <th>review_text</th>\n",
       "    </tr>\n",
       "  </thead>\n",
       "  <tbody>\n",
       "    <tr>\n",
       "      <th>340415</th>\n",
       "      <td>1</td>\n",
       "      <td>So far this is the biggest contender for \"Bigg...</td>\n",
       "    </tr>\n",
       "    <tr>\n",
       "      <th>855236</th>\n",
       "      <td>2</td>\n",
       "      <td>I liked it/thought it was okay, but the ending...</td>\n",
       "    </tr>\n",
       "    <tr>\n",
       "      <th>657492</th>\n",
       "      <td>1</td>\n",
       "      <td>Hell NO. I gave up on this after two skeevy ch...</td>\n",
       "    </tr>\n",
       "    <tr>\n",
       "      <th>539352</th>\n",
       "      <td>2</td>\n",
       "      <td>Disappointing. I look forward to my yearly Che...</td>\n",
       "    </tr>\n",
       "    <tr>\n",
       "      <th>141061</th>\n",
       "      <td>5</td>\n",
       "      <td>*** Copy provided to Bayou Book Junkie in exch...</td>\n",
       "    </tr>\n",
       "    <tr>\n",
       "      <th>...</th>\n",
       "      <td>...</td>\n",
       "      <td>...</td>\n",
       "    </tr>\n",
       "    <tr>\n",
       "      <th>159085</th>\n",
       "      <td>5</td>\n",
       "      <td>OMG! This was, oh, so amazing! Full of adventu...</td>\n",
       "    </tr>\n",
       "    <tr>\n",
       "      <th>231402</th>\n",
       "      <td>4</td>\n",
       "      <td>The suspense and unease that are maintained fr...</td>\n",
       "    </tr>\n",
       "    <tr>\n",
       "      <th>850526</th>\n",
       "      <td>3</td>\n",
       "      <td>Words have always swirled around me like snowf...</td>\n",
       "    </tr>\n",
       "    <tr>\n",
       "      <th>201737</th>\n",
       "      <td>1</td>\n",
       "      <td>I think I should've read this back in the day,...</td>\n",
       "    </tr>\n",
       "    <tr>\n",
       "      <th>440423</th>\n",
       "      <td>5</td>\n",
       "      <td>Another great book from Jeaniene Frost. This i...</td>\n",
       "    </tr>\n",
       "  </tbody>\n",
       "</table>\n",
       "<p>90072 rows × 2 columns</p>\n",
       "</div>"
      ],
      "text/plain": [
       "        rating                                        review_text\n",
       "340415       1  So far this is the biggest contender for \"Bigg...\n",
       "855236       2  I liked it/thought it was okay, but the ending...\n",
       "657492       1  Hell NO. I gave up on this after two skeevy ch...\n",
       "539352       2  Disappointing. I look forward to my yearly Che...\n",
       "141061       5  *** Copy provided to Bayou Book Junkie in exch...\n",
       "...        ...                                                ...\n",
       "159085       5  OMG! This was, oh, so amazing! Full of adventu...\n",
       "231402       4  The suspense and unease that are maintained fr...\n",
       "850526       3  Words have always swirled around me like snowf...\n",
       "201737       1  I think I should've read this back in the day,...\n",
       "440423       5  Another great book from Jeaniene Frost. This i...\n",
       "\n",
       "[90072 rows x 2 columns]"
      ]
     },
     "execution_count": 258,
     "metadata": {},
     "output_type": "execute_result"
    }
   ],
   "source": [
    "sample_df.drop(sample_df[(df['rating'] == 0)].index, inplace=True)\n",
    "\n",
    "sample_df"
   ]
  },
  {
   "cell_type": "code",
   "execution_count": 259,
   "metadata": {},
   "outputs": [
    {
     "data": {
      "text/plain": [
       "3    22818\n",
       "2    20137\n",
       "4    19908\n",
       "5    16716\n",
       "1    10493\n",
       "Name: rating, dtype: int64"
      ]
     },
     "execution_count": 259,
     "metadata": {},
     "output_type": "execute_result"
    }
   ],
   "source": [
    "sample_df['rating'].value_counts()"
   ]
  },
  {
   "cell_type": "markdown",
   "metadata": {},
   "source": [
    "# Train Test Split"
   ]
  },
  {
   "cell_type": "code",
   "execution_count": 260,
   "metadata": {},
   "outputs": [],
   "source": [
    "X = sample_df.drop(\"rating\", axis = 1)\n",
    "y = sample_df[\"rating\"]\n",
    "\n",
    "X_train, X_test, y_train, y_test = train_test_split(X, y, random_state=42, stratify = y)"
   ]
  },
  {
   "cell_type": "markdown",
   "metadata": {},
   "source": [
    "# Standardizing"
   ]
  },
  {
   "cell_type": "markdown",
   "metadata": {},
   "source": [
    "Run the cell below to view some examples of the features:"
   ]
  },
  {
   "cell_type": "code",
   "execution_count": 261,
   "metadata": {},
   "outputs": [
    {
     "name": "stderr",
     "output_type": "stream",
     "text": [
      "[nltk_data] Downloading package wordnet to\n",
      "[nltk_data]     /Users/henryvangorp/nltk_data...\n",
      "[nltk_data]   Package wordnet is already up-to-date!\n",
      "<ipython-input-261-1328b8670c3c>:29: SettingWithCopyWarning: \n",
      "A value is trying to be set on a copy of a slice from a DataFrame.\n",
      "Try using .loc[row_indexer,col_indexer] = value instead\n",
      "\n",
      "See the caveats in the documentation: https://pandas.pydata.org/pandas-docs/stable/user_guide/indexing.html#returning-a-view-versus-a-copy\n",
      "  X_train['review_text']=X_train['review_text'].map(lambda s:preprocess(s))\n",
      "<ipython-input-261-1328b8670c3c>:30: SettingWithCopyWarning: \n",
      "A value is trying to be set on a copy of a slice from a DataFrame.\n",
      "Try using .loc[row_indexer,col_indexer] = value instead\n",
      "\n",
      "See the caveats in the documentation: https://pandas.pydata.org/pandas-docs/stable/user_guide/indexing.html#returning-a-view-versus-a-copy\n",
      "  X_test['review_text']=X_test['review_text'].map(lambda s:preprocess(s))\n"
     ]
    }
   ],
   "source": [
    "import nltk\n",
    "nltk.download('wordnet')\n",
    "\n",
    "\n",
    "import nltk\n",
    "from nltk.tokenize import RegexpTokenizer\n",
    "from nltk.stem import WordNetLemmatizer,PorterStemmer\n",
    "from nltk.corpus import stopwords\n",
    "import re\n",
    "lemmatizer = WordNetLemmatizer()\n",
    "stemmer = PorterStemmer() \n",
    "\n",
    "def preprocess(sentence):\n",
    "    sentence=str(sentence)\n",
    "    sentence = sentence.lower()\n",
    "    sentence=sentence.replace('{html}',\"\") \n",
    "    cleanr = re.compile('<.*?>')\n",
    "    cleantext = re.sub(cleanr, '', sentence)\n",
    "    rem_url=re.sub(r'http\\S+', '',cleantext)\n",
    "    rem_num = re.sub('[0-9]+', '', rem_url)\n",
    "    tokenizer = RegexpTokenizer(r'\\w+')\n",
    "    tokens = tokenizer.tokenize(rem_num)  \n",
    "    filtered_words = [w for w in tokens if len(w) > 2 if not w in stopwords.words('english')]\n",
    "    stem_words=[stemmer.stem(w) for w in filtered_words]\n",
    "    lemma_words=[lemmatizer.lemmatize(w) for w in stem_words]\n",
    "    return \" \".join(filtered_words)\n",
    "\n",
    "\n",
    "X_train['review_text']=X_train['review_text'].map(lambda s:preprocess(s))\n",
    "X_test['review_text']=X_test['review_text'].map(lambda s:preprocess(s))"
   ]
  },
  {
   "cell_type": "code",
   "execution_count": 284,
   "metadata": {},
   "outputs": [
    {
     "data": {
      "text/plain": [
       "'street fighter seems shy listening wow second book lunar chronicles series finished second book happy see first time tried read cinder finish let alone read second book scarlet characters added story first afraid might able sort remember characters nonetheless way marissa writing story made whole storyline clear connected things liked book plot idea well connected really interlocking plot interesting enough keep keep reading well cinder shadow original fairytale scarlet characters totally different storyline bad thing writing say really liked marissa writing sentences beautiful captain carswell thorne hahaha like much like sarcastically funny personality huge ego captain prefer sound girls much impressed things dislike book failed like wolf thing scarlet big part book opinion whether like main character great effect liking book wolf like book super violent brave violent get scarlet liked much short time even wronged silly girl thing unhealthy complaint everything else story great recommendation read like cinder first book tlc fairytales little red riding hood charismatic fun character like thorne stay away like violence like gangsters like tomatoes kidding little hint wolf loved tomatoes'"
      ]
     },
     "execution_count": 284,
     "metadata": {},
     "output_type": "execute_result"
    }
   ],
   "source": [
    "X_train.iloc[100][\"review_text\"]"
   ]
  },
  {
   "cell_type": "markdown",
   "metadata": {},
   "source": [
    "train_sample = X_train.sample(5, random_state=22)\n",
    "train_sample[\"label\"] = [y_train[val] for val in train_sample.index]\n",
    "train_sample.style.set_properties(**{'text-align': 'left'})"
   ]
  },
  {
   "cell_type": "markdown",
   "metadata": {},
   "source": [
    "review_sample = train_sample.iloc[0][\"review_text\"]\n",
    "review_sample"
   ]
  },
  {
   "cell_type": "markdown",
   "metadata": {},
   "source": [
    "review_sample.lower()"
   ]
  },
  {
   "cell_type": "markdown",
   "metadata": {},
   "source": [
    "## Standardize Full Dataset"
   ]
  },
  {
   "cell_type": "markdown",
   "metadata": {},
   "source": [
    "train_sample[\"review_text\"] = train_sample[\"review_text\"].str.lower()\n",
    "\n",
    "train_sample.style.set_properties(**{'text-align': 'left'})"
   ]
  },
  {
   "cell_type": "markdown",
   "metadata": {},
   "source": [
    "In the cell below, perform the same operation on the full X_train:"
   ]
  },
  {
   "cell_type": "markdown",
   "metadata": {},
   "source": [
    "X_train[\"review_text\"] = X_train[\"review_text\"].str.lower()\n",
    "X_test[\"review_text\"] = X_test[\"review_text\"].str.lower()"
   ]
  },
  {
   "cell_type": "markdown",
   "metadata": {},
   "source": [
    "X_train.iloc[100][\"review_text\"]"
   ]
  },
  {
   "cell_type": "markdown",
   "metadata": {},
   "source": [
    "# Tokenizing"
   ]
  },
  {
   "cell_type": "code",
   "execution_count": 262,
   "metadata": {},
   "outputs": [
    {
     "data": {
      "text/plain": [
       "\"truthfully 3.5 stars for me (i.e. somewhere between 'i liked it' and 'i loved it) - goodreads gods, please bring out a half star option! any who, the plot is a lot more intriguing then the blurb gives it credit for - reading the blurb it sounds like there is no plot. there are good twists and turns, ranging from 'that's amazing' to 'wtf?' i loved the next generation kids and for the older generation ginny in particular, the perfect combination of weasley humour, intelligence and sass - she's the perfect partner for harry. the only gaping hole i cannot get over, and this may be hard to judge before seeing it for myself - there is no reason that i can see why this should be a play over a novel. i can't help but feel a novel would have been a lot more satisfying, and allowed a deeper exploration of characters rather than skimming over them to fit in so much plot, if it had been a novel. i wanted to know the next generation kids better outside of albus and scorpius, no teddy lupin, victoire and barely any lily and james the second. i'm waiting for the eventual novelisation of this one....\""
      ]
     },
     "execution_count": 262,
     "metadata": {},
     "output_type": "execute_result"
    }
   ],
   "source": [
    "review_sample2 = train_sample.iloc[1][\"review_text\"]\n",
    "review_sample2"
   ]
  },
  {
   "cell_type": "code",
   "execution_count": 263,
   "metadata": {},
   "outputs": [
    {
     "data": {
      "text/plain": [
       "['truthfully',\n",
       " '3.5',\n",
       " 'stars',\n",
       " 'for',\n",
       " 'me',\n",
       " '(i.e.',\n",
       " 'somewhere',\n",
       " 'between',\n",
       " \"'i\",\n",
       " 'liked']"
      ]
     },
     "execution_count": 263,
     "metadata": {},
     "output_type": "execute_result"
    }
   ],
   "source": [
    "review_sample2.split()[:10]"
   ]
  },
  {
   "cell_type": "code",
   "execution_count": 264,
   "metadata": {},
   "outputs": [
    {
     "data": {
      "text/plain": [
       "['truthfully',\n",
       " 'stars',\n",
       " 'for',\n",
       " 'me',\n",
       " 'somewhere',\n",
       " 'between',\n",
       " 'liked',\n",
       " 'it',\n",
       " 'and',\n",
       " 'loved']"
      ]
     },
     "execution_count": 264,
     "metadata": {},
     "output_type": "execute_result"
    }
   ],
   "source": [
    "from nltk.tokenize import RegexpTokenizer\n",
    "\n",
    "basic_token_pattern = r\"(?u)\\b\\w\\w+\\b\"\n",
    "\n",
    "tokenizer = RegexpTokenizer(basic_token_pattern)\n",
    "tokenizer.tokenize(review_sample2)[:10]"
   ]
  },
  {
   "cell_type": "markdown",
   "metadata": {},
   "source": [
    "## Tokenizing Full Dataset"
   ]
  },
  {
   "cell_type": "code",
   "execution_count": 265,
   "metadata": {},
   "outputs": [
    {
     "data": {
      "text/html": [
       "<style  type=\"text/css\" >\n",
       "#T_4e09b188_65b5_11ed_89e6_8e622d8df10frow0_col0,#T_4e09b188_65b5_11ed_89e6_8e622d8df10frow0_col1,#T_4e09b188_65b5_11ed_89e6_8e622d8df10frow0_col2,#T_4e09b188_65b5_11ed_89e6_8e622d8df10frow1_col0,#T_4e09b188_65b5_11ed_89e6_8e622d8df10frow1_col1,#T_4e09b188_65b5_11ed_89e6_8e622d8df10frow1_col2,#T_4e09b188_65b5_11ed_89e6_8e622d8df10frow2_col0,#T_4e09b188_65b5_11ed_89e6_8e622d8df10frow2_col1,#T_4e09b188_65b5_11ed_89e6_8e622d8df10frow2_col2,#T_4e09b188_65b5_11ed_89e6_8e622d8df10frow3_col0,#T_4e09b188_65b5_11ed_89e6_8e622d8df10frow3_col1,#T_4e09b188_65b5_11ed_89e6_8e622d8df10frow3_col2,#T_4e09b188_65b5_11ed_89e6_8e622d8df10frow4_col0,#T_4e09b188_65b5_11ed_89e6_8e622d8df10frow4_col1,#T_4e09b188_65b5_11ed_89e6_8e622d8df10frow4_col2{\n",
       "            text-align:  left;\n",
       "        }</style><table id=\"T_4e09b188_65b5_11ed_89e6_8e622d8df10f\" ><thead>    <tr>        <th class=\"blank level0\" ></th>        <th class=\"col_heading level0 col0\" >review_text</th>        <th class=\"col_heading level0 col1\" >label</th>        <th class=\"col_heading level0 col2\" >text_tokenized</th>    </tr></thead><tbody>\n",
       "                <tr>\n",
       "                        <th id=\"T_4e09b188_65b5_11ed_89e6_8e622d8df10flevel0_row0\" class=\"row_heading level0 row0\" >526810</th>\n",
       "                        <td id=\"T_4e09b188_65b5_11ed_89e6_8e622d8df10frow0_col0\" class=\"data row0 col0\" >please note: the hero of this book has been kept pretty hush hush. if you want to go into the book with a totally clean slate, please don't read this review. \n",
       " rapture is book four in jr ward's fallen angel series. i wasn't a big fan of the first two, but the last book was an enjoyable read. rapture falls down the middle. it is an okay book, slow at times, but continuing this battle between good and evil. \n",
       " matthias wakes up on top of a grave completely naked, and he has no memories of anything. he can't remember, but as the reader if you are current with this series, you know he died and spent some time in hell, thanks to the 'lovely' devina. but hell spit him back out, as it was decided he was to be a player in this game again. matthias is the creator of the xops, a very secretive group of assassins, and he hasn't lived a very saintly life. but now with a clean slate of sorts, he kind of has a chance at redeeming himself. or at least jim heron hopes so. jim has been tasked by the maker himself, to save the souls of seven people, hopefully meaning the good guys win and the world will continue to spin. currently, the good guys have won two and lost one. \n",
       " confused, injured and just all around in bad shape, matthias starts wandering around trying to find help. instead, he wanders in a street and gets hit by a car. the driver, mels carmichael is frantic, as he just came out of nowhere. mel is a reporter, and ends up investigating a few of the murders that devina causes. devina sets out to murder blonde haired women, hoping to remind jim that his beloved blond hair girl, sissy, is still writhing in devina's hell. with no money or friends, matthias turns to mels to help him figure out who he really is. jim and adrian get involved, knowing matthias is the soul they must keep safe, if they are to win this war. \n",
       " this book is on the slower side for me. mels worked pretty well for me as a heroine and that is saying a lot because i'm not always a fan of ward's heroines. matthias's journey discovering himself all over again and dealing with some horrific memories when they do surface was interesting to watch. their romance is a very slow one and one that frustrated me. matthias physically can't perform in the bedroom (he can't get it up y'all!), so that hinders things for a long while. i've read every book jr ward has written, and this is one of the least dirty/smutty. (boo!) but we are all holding out for qhuay, right? *wink* (i can't help myself) \n",
       " anyway! jim is still plodding along, trying to win this war. we get a lot with devina in this book. she is seeing a shrink and has a massive ocd issue. she confused me at some points. i mean, yes she is the evil one - the devil - but i feel like she outwits jim and adrian more than she should. she has never come across as super smart, and i don't understand why she can get away with what she does. she isn't a favorite character of mine for sure. \n",
       " speaking of adrian, oh adrian. still so torn up over eddie's death. he goes to some dark places in this book. i wish we had gotten a lot more from him. i really like his character. \n",
       " this book doesn't necessarily have the 'oomph' factor i was expecting. it is slower with a romance that i wish had been bigger. \n",
       " rating: c</td>\n",
       "                        <td id=\"T_4e09b188_65b5_11ed_89e6_8e622d8df10frow0_col1\" class=\"data row0 col1\" >3</td>\n",
       "                        <td id=\"T_4e09b188_65b5_11ed_89e6_8e622d8df10frow0_col2\" class=\"data row0 col2\" >['please', 'note', 'the', 'hero', 'of', 'this', 'book', 'has', 'been', 'kept', 'pretty', 'hush', 'hush', 'if', 'you', 'want', 'to', 'go', 'into', 'the', 'book', 'with', 'totally', 'clean', 'slate', 'please', 'don', 'read', 'this', 'review', 'rapture', 'is', 'book', 'four', 'in', 'jr', 'ward', 'fallen', 'angel', 'series', 'wasn', 'big', 'fan', 'of', 'the', 'first', 'two', 'but', 'the', 'last', 'book', 'was', 'an', 'enjoyable', 'read', 'rapture', 'falls', 'down', 'the', 'middle', 'it', 'is', 'an', 'okay', 'book', 'slow', 'at', 'times', 'but', 'continuing', 'this', 'battle', 'between', 'good', 'and', 'evil', 'matthias', 'wakes', 'up', 'on', 'top', 'of', 'grave', 'completely', 'naked', 'and', 'he', 'has', 'no', 'memories', 'of', 'anything', 'he', 'can', 'remember', 'but', 'as', 'the', 'reader', 'if', 'you', 'are', 'current', 'with', 'this', 'series', 'you', 'know', 'he', 'died', 'and', 'spent', 'some', 'time', 'in', 'hell', 'thanks', 'to', 'the', 'lovely', 'devina', 'but', 'hell', 'spit', 'him', 'back', 'out', 'as', 'it', 'was', 'decided', 'he', 'was', 'to', 'be', 'player', 'in', 'this', 'game', 'again', 'matthias', 'is', 'the', 'creator', 'of', 'the', 'xops', 'very', 'secretive', 'group', 'of', 'assassins', 'and', 'he', 'hasn', 'lived', 'very', 'saintly', 'life', 'but', 'now', 'with', 'clean', 'slate', 'of', 'sorts', 'he', 'kind', 'of', 'has', 'chance', 'at', 'redeeming', 'himself', 'or', 'at', 'least', 'jim', 'heron', 'hopes', 'so', 'jim', 'has', 'been', 'tasked', 'by', 'the', 'maker', 'himself', 'to', 'save', 'the', 'souls', 'of', 'seven', 'people', 'hopefully', 'meaning', 'the', 'good', 'guys', 'win', 'and', 'the', 'world', 'will', 'continue', 'to', 'spin', 'currently', 'the', 'good', 'guys', 'have', 'won', 'two', 'and', 'lost', 'one', 'confused', 'injured', 'and', 'just', 'all', 'around', 'in', 'bad', 'shape', 'matthias', 'starts', 'wandering', 'around', 'trying', 'to', 'find', 'help', 'instead', 'he', 'wanders', 'in', 'street', 'and', 'gets', 'hit', 'by', 'car', 'the', 'driver', 'mels', 'carmichael', 'is', 'frantic', 'as', 'he', 'just', 'came', 'out', 'of', 'nowhere', 'mel', 'is', 'reporter', 'and', 'ends', 'up', 'investigating', 'few', 'of', 'the', 'murders', 'that', 'devina', 'causes', 'devina', 'sets', 'out', 'to', 'murder', 'blonde', 'haired', 'women', 'hoping', 'to', 'remind', 'jim', 'that', 'his', 'beloved', 'blond', 'hair', 'girl', 'sissy', 'is', 'still', 'writhing', 'in', 'devina', 'hell', 'with', 'no', 'money', 'or', 'friends', 'matthias', 'turns', 'to', 'mels', 'to', 'help', 'him', 'figure', 'out', 'who', 'he', 'really', 'is', 'jim', 'and', 'adrian', 'get', 'involved', 'knowing', 'matthias', 'is', 'the', 'soul', 'they', 'must', 'keep', 'safe', 'if', 'they', 'are', 'to', 'win', 'this', 'war', 'this', 'book', 'is', 'on', 'the', 'slower', 'side', 'for', 'me', 'mels', 'worked', 'pretty', 'well', 'for', 'me', 'as', 'heroine', 'and', 'that', 'is', 'saying', 'lot', 'because', 'not', 'always', 'fan', 'of', 'ward', 'heroines', 'matthias', 'journey', 'discovering', 'himself', 'all', 'over', 'again', 'and', 'dealing', 'with', 'some', 'horrific', 'memories', 'when', 'they', 'do', 'surface', 'was', 'interesting', 'to', 'watch', 'their', 'romance', 'is', 'very', 'slow', 'one', 'and', 'one', 'that', 'frustrated', 'me', 'matthias', 'physically', 'can', 'perform', 'in', 'the', 'bedroom', 'he', 'can', 'get', 'it', 'up', 'all', 'so', 'that', 'hinders', 'things', 'for', 'long', 'while', 've', 'read', 'every', 'book', 'jr', 'ward', 'has', 'written', 'and', 'this', 'is', 'one', 'of', 'the', 'least', 'dirty', 'smutty', 'boo', 'but', 'we', 'are', 'all', 'holding', 'out', 'for', 'qhuay', 'right', 'wink', 'can', 'help', 'myself', 'anyway', 'jim', 'is', 'still', 'plodding', 'along', 'trying', 'to', 'win', 'this', 'war', 'we', 'get', 'lot', 'with', 'devina', 'in', 'this', 'book', 'she', 'is', 'seeing', 'shrink', 'and', 'has', 'massive', 'ocd', 'issue', 'she', 'confused', 'me', 'at', 'some', 'points', 'mean', 'yes', 'she', 'is', 'the', 'evil', 'one', 'the', 'devil', 'but', 'feel', 'like', 'she', 'outwits', 'jim', 'and', 'adrian', 'more', 'than', 'she', 'should', 'she', 'has', 'never', 'come', 'across', 'as', 'super', 'smart', 'and', 'don', 'understand', 'why', 'she', 'can', 'get', 'away', 'with', 'what', 'she', 'does', 'she', 'isn', 'favorite', 'character', 'of', 'mine', 'for', 'sure', 'speaking', 'of', 'adrian', 'oh', 'adrian', 'still', 'so', 'torn', 'up', 'over', 'eddie', 'death', 'he', 'goes', 'to', 'some', 'dark', 'places', 'in', 'this', 'book', 'wish', 'we', 'had', 'gotten', 'lot', 'more', 'from', 'him', 'really', 'like', 'his', 'character', 'this', 'book', 'doesn', 'necessarily', 'have', 'the', 'oomph', 'factor', 'was', 'expecting', 'it', 'is', 'slower', 'with', 'romance', 'that', 'wish', 'had', 'been', 'bigger', 'rating']</td>\n",
       "            </tr>\n",
       "            <tr>\n",
       "                        <th id=\"T_4e09b188_65b5_11ed_89e6_8e622d8df10flevel0_row1\" class=\"row_heading level0 row1\" >234951</th>\n",
       "                        <td id=\"T_4e09b188_65b5_11ed_89e6_8e622d8df10frow1_col0\" class=\"data row1 col0\" >truthfully 3.5 stars for me (i.e. somewhere between 'i liked it' and 'i loved it) - goodreads gods, please bring out a half star option! any who, the plot is a lot more intriguing then the blurb gives it credit for - reading the blurb it sounds like there is no plot. there are good twists and turns, ranging from 'that's amazing' to 'wtf?' i loved the next generation kids and for the older generation ginny in particular, the perfect combination of weasley humour, intelligence and sass - she's the perfect partner for harry. the only gaping hole i cannot get over, and this may be hard to judge before seeing it for myself - there is no reason that i can see why this should be a play over a novel. i can't help but feel a novel would have been a lot more satisfying, and allowed a deeper exploration of characters rather than skimming over them to fit in so much plot, if it had been a novel. i wanted to know the next generation kids better outside of albus and scorpius, no teddy lupin, victoire and barely any lily and james the second. i'm waiting for the eventual novelisation of this one....</td>\n",
       "                        <td id=\"T_4e09b188_65b5_11ed_89e6_8e622d8df10frow1_col1\" class=\"data row1 col1\" >3</td>\n",
       "                        <td id=\"T_4e09b188_65b5_11ed_89e6_8e622d8df10frow1_col2\" class=\"data row1 col2\" >['truthfully', 'stars', 'for', 'me', 'somewhere', 'between', 'liked', 'it', 'and', 'loved', 'it', 'goodreads', 'gods', 'please', 'bring', 'out', 'half', 'star', 'option', 'any', 'who', 'the', 'plot', 'is', 'lot', 'more', 'intriguing', 'then', 'the', 'blurb', 'gives', 'it', 'credit', 'for', 'reading', 'the', 'blurb', 'it', 'sounds', 'like', 'there', 'is', 'no', 'plot', 'there', 'are', 'good', 'twists', 'and', 'turns', 'ranging', 'from', 'that', 'amazing', 'to', 'wtf', 'loved', 'the', 'next', 'generation', 'kids', 'and', 'for', 'the', 'older', 'generation', 'ginny', 'in', 'particular', 'the', 'perfect', 'combination', 'of', 'weasley', 'humour', 'intelligence', 'and', 'sass', 'she', 'the', 'perfect', 'partner', 'for', 'harry', 'the', 'only', 'gaping', 'hole', 'cannot', 'get', 'over', 'and', 'this', 'may', 'be', 'hard', 'to', 'judge', 'before', 'seeing', 'it', 'for', 'myself', 'there', 'is', 'no', 'reason', 'that', 'can', 'see', 'why', 'this', 'should', 'be', 'play', 'over', 'novel', 'can', 'help', 'but', 'feel', 'novel', 'would', 'have', 'been', 'lot', 'more', 'satisfying', 'and', 'allowed', 'deeper', 'exploration', 'of', 'characters', 'rather', 'than', 'skimming', 'over', 'them', 'to', 'fit', 'in', 'so', 'much', 'plot', 'if', 'it', 'had', 'been', 'novel', 'wanted', 'to', 'know', 'the', 'next', 'generation', 'kids', 'better', 'outside', 'of', 'albus', 'and', 'scorpius', 'no', 'teddy', 'lupin', 'victoire', 'and', 'barely', 'any', 'lily', 'and', 'james', 'the', 'second', 'waiting', 'for', 'the', 'eventual', 'novelisation', 'of', 'this', 'one']</td>\n",
       "            </tr>\n",
       "            <tr>\n",
       "                        <th id=\"T_4e09b188_65b5_11ed_89e6_8e622d8df10flevel0_row2\" class=\"row_heading level0 row2\" >294021</th>\n",
       "                        <td id=\"T_4e09b188_65b5_11ed_89e6_8e622d8df10frow2_col0\" class=\"data row2 col0\" >i really liked the premise of some kind of magic, by mary ann marlowe. when eden sinclair learns that the perfume she sprayed herself with may have the ability to enhance the pheromones of attraction, she doesn't know whether to come clean to adam. after all, he's a rock star, even if she didn't realize it at first. he either really likes her, or there's no way he'd stick around since she feels she's not in his league, and she's afraid to learn which one is true. he brings her love of music out even if he's everything she always thought she didn't want in a boyfriend. and then there's touring and paparazzi and the fact that her brother's band is opening for adam's band. \n",
       " i liked both eden and adam. i thought the touring life as well as adam's celebrity was pretty well done. the weird thing for me was that despite being 28 and 30 respectively, the whole thing felt a bit like high school to me. i certainly didn't get an almost 30 something maturity from either of them. their poor communication drove me a bit batty. i liked how marlowe made eden understand adam's point of view through her own solo experiences. at the end of the day, i really liked the book. i just wish maybe i'd been better able to understand what was going on in adam's head as we went along. and maybe that the ending felt a tiny bit less rushed.</td>\n",
       "                        <td id=\"T_4e09b188_65b5_11ed_89e6_8e622d8df10frow2_col1\" class=\"data row2 col1\" >4</td>\n",
       "                        <td id=\"T_4e09b188_65b5_11ed_89e6_8e622d8df10frow2_col2\" class=\"data row2 col2\" >['really', 'liked', 'the', 'premise', 'of', 'some', 'kind', 'of', 'magic', 'by', 'mary', 'ann', 'marlowe', 'when', 'eden', 'sinclair', 'learns', 'that', 'the', 'perfume', 'she', 'sprayed', 'herself', 'with', 'may', 'have', 'the', 'ability', 'to', 'enhance', 'the', 'pheromones', 'of', 'attraction', 'she', 'doesn', 'know', 'whether', 'to', 'come', 'clean', 'to', 'adam', 'after', 'all', 'he', 'rock', 'star', 'even', 'if', 'she', 'didn', 'realize', 'it', 'at', 'first', 'he', 'either', 'really', 'likes', 'her', 'or', 'there', 'no', 'way', 'he', 'stick', 'around', 'since', 'she', 'feels', 'she', 'not', 'in', 'his', 'league', 'and', 'she', 'afraid', 'to', 'learn', 'which', 'one', 'is', 'true', 'he', 'brings', 'her', 'love', 'of', 'music', 'out', 'even', 'if', 'he', 'everything', 'she', 'always', 'thought', 'she', 'didn', 'want', 'in', 'boyfriend', 'and', 'then', 'there', 'touring', 'and', 'paparazzi', 'and', 'the', 'fact', 'that', 'her', 'brother', 'band', 'is', 'opening', 'for', 'adam', 'band', 'liked', 'both', 'eden', 'and', 'adam', 'thought', 'the', 'touring', 'life', 'as', 'well', 'as', 'adam', 'celebrity', 'was', 'pretty', 'well', 'done', 'the', 'weird', 'thing', 'for', 'me', 'was', 'that', 'despite', 'being', '28', 'and', '30', 'respectively', 'the', 'whole', 'thing', 'felt', 'bit', 'like', 'high', 'school', 'to', 'me', 'certainly', 'didn', 'get', 'an', 'almost', '30', 'something', 'maturity', 'from', 'either', 'of', 'them', 'their', 'poor', 'communication', 'drove', 'me', 'bit', 'batty', 'liked', 'how', 'marlowe', 'made', 'eden', 'understand', 'adam', 'point', 'of', 'view', 'through', 'her', 'own', 'solo', 'experiences', 'at', 'the', 'end', 'of', 'the', 'day', 'really', 'liked', 'the', 'book', 'just', 'wish', 'maybe', 'been', 'better', 'able', 'to', 'understand', 'what', 'was', 'going', 'on', 'in', 'adam', 'head', 'as', 'we', 'went', 'along', 'and', 'maybe', 'that', 'the', 'ending', 'felt', 'tiny', 'bit', 'less', 'rushed']</td>\n",
       "            </tr>\n",
       "            <tr>\n",
       "                        <th id=\"T_4e09b188_65b5_11ed_89e6_8e622d8df10flevel0_row3\" class=\"row_heading level0 row3\" >343488</th>\n",
       "                        <td id=\"T_4e09b188_65b5_11ed_89e6_8e622d8df10frow3_col0\" class=\"data row3 col0\" >5 stars for the main characters, 2 stars for the story. something was bothering me, but i can't put my finger on it quiet yet. i have to think this trough. the mistakes in the narrative also annoyed me, but there was something else.</td>\n",
       "                        <td id=\"T_4e09b188_65b5_11ed_89e6_8e622d8df10frow3_col1\" class=\"data row3 col1\" >3</td>\n",
       "                        <td id=\"T_4e09b188_65b5_11ed_89e6_8e622d8df10frow3_col2\" class=\"data row3 col2\" >['stars', 'for', 'the', 'main', 'characters', 'stars', 'for', 'the', 'story', 'something', 'was', 'bothering', 'me', 'but', 'can', 'put', 'my', 'finger', 'on', 'it', 'quiet', 'yet', 'have', 'to', 'think', 'this', 'trough', 'the', 'mistakes', 'in', 'the', 'narrative', 'also', 'annoyed', 'me', 'but', 'there', 'was', 'something', 'else']</td>\n",
       "            </tr>\n",
       "            <tr>\n",
       "                        <th id=\"T_4e09b188_65b5_11ed_89e6_8e622d8df10flevel0_row4\" class=\"row_heading level0 row4\" >760512</th>\n",
       "                        <td id=\"T_4e09b188_65b5_11ed_89e6_8e622d8df10frow4_col0\" class=\"data row4 col0\" >i feel like i cannot review this book fairly. i was hoping for all the humour and strange occurrences that happen in the world of harry dresden and was let down. it just didn't grab my attention in the same way that harry's stories do. the crazy humour of the chorofiend, or butters 'long live polka' was just completely lacking in the aeronaut's windlass. that being said there were some great cat moments in this book. butcher has the whole arrogant, 'i am the centre of the world', attitude of cats down to a tee. \n",
       " the book had very much a young adult theme to it that i just didn't get on with. mainly i think because the book centred around the three trainee guards more than anything. i found their way of speaking so annoying as well, it was very flowery and overly polite which just made me grind my teeth in more than one place. \n",
       " the characters were well done though and the use of the crystals that kept the ships in the air was very unique and well explained. this won back a few stars for the book. \n",
       " overall though i was not wow'd by the start to the series. how much of that is to do with the fact that it isn't dresden? i don't know. but i would rate the codex alera much higher than this and harry wasn't there either......</td>\n",
       "                        <td id=\"T_4e09b188_65b5_11ed_89e6_8e622d8df10frow4_col1\" class=\"data row4 col1\" >4</td>\n",
       "                        <td id=\"T_4e09b188_65b5_11ed_89e6_8e622d8df10frow4_col2\" class=\"data row4 col2\" >['feel', 'like', 'cannot', 'review', 'this', 'book', 'fairly', 'was', 'hoping', 'for', 'all', 'the', 'humour', 'and', 'strange', 'occurrences', 'that', 'happen', 'in', 'the', 'world', 'of', 'harry', 'dresden', 'and', 'was', 'let', 'down', 'it', 'just', 'didn', 'grab', 'my', 'attention', 'in', 'the', 'same', 'way', 'that', 'harry', 'stories', 'do', 'the', 'crazy', 'humour', 'of', 'the', 'chorofiend', 'or', 'butters', 'long', 'live', 'polka', 'was', 'just', 'completely', 'lacking', 'in', 'the', 'aeronaut', 'windlass', 'that', 'being', 'said', 'there', 'were', 'some', 'great', 'cat', 'moments', 'in', 'this', 'book', 'butcher', 'has', 'the', 'whole', 'arrogant', 'am', 'the', 'centre', 'of', 'the', 'world', 'attitude', 'of', 'cats', 'down', 'to', 'tee', 'the', 'book', 'had', 'very', 'much', 'young', 'adult', 'theme', 'to', 'it', 'that', 'just', 'didn', 'get', 'on', 'with', 'mainly', 'think', 'because', 'the', 'book', 'centred', 'around', 'the', 'three', 'trainee', 'guards', 'more', 'than', 'anything', 'found', 'their', 'way', 'of', 'speaking', 'so', 'annoying', 'as', 'well', 'it', 'was', 'very', 'flowery', 'and', 'overly', 'polite', 'which', 'just', 'made', 'me', 'grind', 'my', 'teeth', 'in', 'more', 'than', 'one', 'place', 'the', 'characters', 'were', 'well', 'done', 'though', 'and', 'the', 'use', 'of', 'the', 'crystals', 'that', 'kept', 'the', 'ships', 'in', 'the', 'air', 'was', 'very', 'unique', 'and', 'well', 'explained', 'this', 'won', 'back', 'few', 'stars', 'for', 'the', 'book', 'overall', 'though', 'was', 'not', 'wow', 'by', 'the', 'start', 'to', 'the', 'series', 'how', 'much', 'of', 'that', 'is', 'to', 'do', 'with', 'the', 'fact', 'that', 'it', 'isn', 'dresden', 'don', 'know', 'but', 'would', 'rate', 'the', 'codex', 'alera', 'much', 'higher', 'than', 'this', 'and', 'harry', 'wasn', 'there', 'either']</td>\n",
       "            </tr>\n",
       "    </tbody></table>"
      ],
      "text/plain": [
       "<pandas.io.formats.style.Styler at 0x7fe2fcfa07f0>"
      ]
     },
     "execution_count": 265,
     "metadata": {},
     "output_type": "execute_result"
    }
   ],
   "source": [
    "train_sample[\"text_tokenized\"] = train_sample[\"review_text\"].apply(tokenizer.tokenize)\n",
    "\n",
    "train_sample.style.set_properties(**{'text-align': 'left'})"
   ]
  },
  {
   "cell_type": "markdown",
   "metadata": {},
   "source": [
    "Create new column with tokenized data"
   ]
  },
  {
   "cell_type": "code",
   "execution_count": 266,
   "metadata": {},
   "outputs": [
    {
     "name": "stderr",
     "output_type": "stream",
     "text": [
      "<ipython-input-266-d41133729210>:1: SettingWithCopyWarning: \n",
      "A value is trying to be set on a copy of a slice from a DataFrame.\n",
      "Try using .loc[row_indexer,col_indexer] = value instead\n",
      "\n",
      "See the caveats in the documentation: https://pandas.pydata.org/pandas-docs/stable/user_guide/indexing.html#returning-a-view-versus-a-copy\n",
      "  X_train[\"text_tokenized\"] = X_train[\"review_text\"].apply(tokenizer.tokenize)\n",
      "<ipython-input-266-d41133729210>:2: SettingWithCopyWarning: \n",
      "A value is trying to be set on a copy of a slice from a DataFrame.\n",
      "Try using .loc[row_indexer,col_indexer] = value instead\n",
      "\n",
      "See the caveats in the documentation: https://pandas.pydata.org/pandas-docs/stable/user_guide/indexing.html#returning-a-view-versus-a-copy\n",
      "  X_test[\"text_tokenized\"] = X_test[\"review_text\"].apply(tokenizer.tokenize)\n"
     ]
    }
   ],
   "source": [
    "X_train[\"text_tokenized\"] = X_train[\"review_text\"].apply(tokenizer.tokenize)\n",
    "X_test[\"text_tokenized\"] = X_test[\"review_text\"].apply(tokenizer.tokenize)"
   ]
  },
  {
   "cell_type": "code",
   "execution_count": 267,
   "metadata": {},
   "outputs": [
    {
     "data": {
      "text/plain": [
       "['street',\n",
       " 'fighter',\n",
       " 'seems',\n",
       " 'shy',\n",
       " 'listening',\n",
       " 'wow',\n",
       " 'second',\n",
       " 'book',\n",
       " 'lunar',\n",
       " 'chronicles',\n",
       " 'series',\n",
       " 'finished',\n",
       " 'second',\n",
       " 'book',\n",
       " 'happy',\n",
       " 'see',\n",
       " 'first',\n",
       " 'time',\n",
       " 'tried',\n",
       " 'read']"
      ]
     },
     "execution_count": 267,
     "metadata": {},
     "output_type": "execute_result"
    }
   ],
   "source": [
    "X_train.iloc[100][\"text_tokenized\"][:20]"
   ]
  },
  {
   "cell_type": "markdown",
   "metadata": {},
   "source": [
    "## Exploratory Data Analysis: Frequency Distributions"
   ]
  },
  {
   "cell_type": "code",
   "execution_count": 268,
   "metadata": {},
   "outputs": [
    {
     "data": {
      "text/plain": [
       "FreqDist({'second': 2, 'book': 2, 'street': 1, 'fighter': 1, 'seems': 1, 'shy': 1, 'listening': 1, 'wow': 1, 'lunar': 1, 'chronicles': 1, ...})"
      ]
     },
     "execution_count": 268,
     "metadata": {},
     "output_type": "execute_result"
    }
   ],
   "source": [
    "from nltk import FreqDist\n",
    "\n",
    "example_freq_dist = FreqDist(X_train.iloc[100][\"text_tokenized\"][:20])\n",
    "example_freq_dist"
   ]
  },
  {
   "cell_type": "code",
   "execution_count": 269,
   "metadata": {},
   "outputs": [
    {
     "data": {
      "image/png": "[encoded data removed]",
      "text/plain": [
       "<Figure size 432x288 with 1 Axes>"
      ]
     },
     "metadata": {
      "needs_background": "light"
     },
     "output_type": "display_data"
    }
   ],
   "source": [
    "from matplotlib.ticker import MaxNLocator\n",
    "\n",
    "def visualize_top_10(freq_dist, title):\n",
    "\n",
    "    top_10 = list(zip(*freq_dist.most_common(10)))\n",
    "    tokens = top_10[0]\n",
    "    counts = top_10[1]\n",
    "\n",
    "    fig, ax = plt.subplots()\n",
    "    ax.bar(tokens, counts)\n",
    "\n",
    "    ax.set_title(title)\n",
    "    ax.set_ylabel(\"Count\")\n",
    "    ax.yaxis.set_major_locator(MaxNLocator(integer=True))\n",
    "    ax.tick_params(axis=\"x\", rotation=90)\n",
    "    \n",
    "visualize_top_10(example_freq_dist, \"Top 10 Word Frequency for Example Tokens\")"
   ]
  },
  {
   "cell_type": "markdown",
   "metadata": {},
   "source": [
    "## Visualizing the Frequency Distribution for the Full Dataset"
   ]
  },
  {
   "cell_type": "code",
   "execution_count": 270,
   "metadata": {},
   "outputs": [
    {
     "data": {
      "image/png": "[encoded data removed]",
      "text/plain": [
       "<Figure size 432x288 with 1 Axes>"
      ]
     },
     "metadata": {
      "needs_background": "light"
     },
     "output_type": "display_data"
    }
   ],
   "source": [
    "train_freq_dist = FreqDist(X_train[\"text_tokenized\"].explode())\n",
    "\n",
    "visualize_top_10(train_freq_dist, \"Top 10 Word Frequency for Full X_train\")"
   ]
  },
  {
   "cell_type": "markdown",
   "metadata": {},
   "source": [
    "# Modeling"
   ]
  },
  {
   "cell_type": "markdown",
   "metadata": {},
   "source": [
    "## Baseline Model with TfidVectorizer and MultinomialNB"
   ]
  },
  {
   "cell_type": "code",
   "execution_count": 271,
   "metadata": {
    "scrolled": true
   },
   "outputs": [
    {
     "data": {
      "text/html": [
       "<div>\n",
       "<style scoped>\n",
       "    .dataframe tbody tr th:only-of-type {\n",
       "        vertical-align: middle;\n",
       "    }\n",
       "\n",
       "    .dataframe tbody tr th {\n",
       "        vertical-align: top;\n",
       "    }\n",
       "\n",
       "    .dataframe thead th {\n",
       "        text-align: right;\n",
       "    }\n",
       "</style>\n",
       "<table border=\"1\" class=\"dataframe\">\n",
       "  <thead>\n",
       "    <tr style=\"text-align: right;\">\n",
       "      <th></th>\n",
       "      <th>ability</th>\n",
       "      <th>able</th>\n",
       "      <th>absolutely</th>\n",
       "      <th>across</th>\n",
       "      <th>act</th>\n",
       "      <th>action</th>\n",
       "      <th>actions</th>\n",
       "      <th>actual</th>\n",
       "      <th>actually</th>\n",
       "      <th>adam</th>\n",
       "      <th>...</th>\n",
       "      <th>written</th>\n",
       "      <th>wrong</th>\n",
       "      <th>wrote</th>\n",
       "      <th>yeah</th>\n",
       "      <th>year</th>\n",
       "      <th>years</th>\n",
       "      <th>yes</th>\n",
       "      <th>yet</th>\n",
       "      <th>young</th>\n",
       "      <th>younger</th>\n",
       "    </tr>\n",
       "  </thead>\n",
       "  <tbody>\n",
       "    <tr>\n",
       "      <th>0</th>\n",
       "      <td>0.0</td>\n",
       "      <td>0.0</td>\n",
       "      <td>0.000000</td>\n",
       "      <td>0.000000</td>\n",
       "      <td>0.0</td>\n",
       "      <td>0.0</td>\n",
       "      <td>0.0</td>\n",
       "      <td>0.0</td>\n",
       "      <td>0.000000</td>\n",
       "      <td>0.0</td>\n",
       "      <td>...</td>\n",
       "      <td>0.000000</td>\n",
       "      <td>0.0</td>\n",
       "      <td>0.0</td>\n",
       "      <td>0.000000</td>\n",
       "      <td>0.000000</td>\n",
       "      <td>0.000000</td>\n",
       "      <td>0.000000</td>\n",
       "      <td>0.0</td>\n",
       "      <td>0.000000</td>\n",
       "      <td>0.0</td>\n",
       "    </tr>\n",
       "    <tr>\n",
       "      <th>1</th>\n",
       "      <td>0.0</td>\n",
       "      <td>0.0</td>\n",
       "      <td>0.000000</td>\n",
       "      <td>0.000000</td>\n",
       "      <td>0.0</td>\n",
       "      <td>0.0</td>\n",
       "      <td>0.0</td>\n",
       "      <td>0.0</td>\n",
       "      <td>0.108424</td>\n",
       "      <td>0.0</td>\n",
       "      <td>...</td>\n",
       "      <td>0.000000</td>\n",
       "      <td>0.0</td>\n",
       "      <td>0.0</td>\n",
       "      <td>0.077888</td>\n",
       "      <td>0.065171</td>\n",
       "      <td>0.000000</td>\n",
       "      <td>0.134630</td>\n",
       "      <td>0.0</td>\n",
       "      <td>0.000000</td>\n",
       "      <td>0.0</td>\n",
       "    </tr>\n",
       "    <tr>\n",
       "      <th>2</th>\n",
       "      <td>0.0</td>\n",
       "      <td>0.0</td>\n",
       "      <td>0.228013</td>\n",
       "      <td>0.000000</td>\n",
       "      <td>0.0</td>\n",
       "      <td>0.0</td>\n",
       "      <td>0.0</td>\n",
       "      <td>0.0</td>\n",
       "      <td>0.000000</td>\n",
       "      <td>0.0</td>\n",
       "      <td>...</td>\n",
       "      <td>0.000000</td>\n",
       "      <td>0.0</td>\n",
       "      <td>0.0</td>\n",
       "      <td>0.000000</td>\n",
       "      <td>0.000000</td>\n",
       "      <td>0.000000</td>\n",
       "      <td>0.000000</td>\n",
       "      <td>0.0</td>\n",
       "      <td>0.000000</td>\n",
       "      <td>0.0</td>\n",
       "    </tr>\n",
       "    <tr>\n",
       "      <th>3</th>\n",
       "      <td>0.0</td>\n",
       "      <td>0.0</td>\n",
       "      <td>0.000000</td>\n",
       "      <td>0.000000</td>\n",
       "      <td>0.0</td>\n",
       "      <td>0.0</td>\n",
       "      <td>0.0</td>\n",
       "      <td>0.0</td>\n",
       "      <td>0.000000</td>\n",
       "      <td>0.0</td>\n",
       "      <td>...</td>\n",
       "      <td>0.000000</td>\n",
       "      <td>0.0</td>\n",
       "      <td>0.0</td>\n",
       "      <td>0.000000</td>\n",
       "      <td>0.000000</td>\n",
       "      <td>0.000000</td>\n",
       "      <td>0.000000</td>\n",
       "      <td>0.0</td>\n",
       "      <td>0.000000</td>\n",
       "      <td>0.0</td>\n",
       "    </tr>\n",
       "    <tr>\n",
       "      <th>4</th>\n",
       "      <td>0.0</td>\n",
       "      <td>0.0</td>\n",
       "      <td>0.000000</td>\n",
       "      <td>0.000000</td>\n",
       "      <td>0.0</td>\n",
       "      <td>0.0</td>\n",
       "      <td>0.0</td>\n",
       "      <td>0.0</td>\n",
       "      <td>0.000000</td>\n",
       "      <td>0.0</td>\n",
       "      <td>...</td>\n",
       "      <td>0.000000</td>\n",
       "      <td>0.0</td>\n",
       "      <td>0.0</td>\n",
       "      <td>0.000000</td>\n",
       "      <td>0.000000</td>\n",
       "      <td>0.000000</td>\n",
       "      <td>0.000000</td>\n",
       "      <td>0.0</td>\n",
       "      <td>0.000000</td>\n",
       "      <td>0.0</td>\n",
       "    </tr>\n",
       "    <tr>\n",
       "      <th>...</th>\n",
       "      <td>...</td>\n",
       "      <td>...</td>\n",
       "      <td>...</td>\n",
       "      <td>...</td>\n",
       "      <td>...</td>\n",
       "      <td>...</td>\n",
       "      <td>...</td>\n",
       "      <td>...</td>\n",
       "      <td>...</td>\n",
       "      <td>...</td>\n",
       "      <td>...</td>\n",
       "      <td>...</td>\n",
       "      <td>...</td>\n",
       "      <td>...</td>\n",
       "      <td>...</td>\n",
       "      <td>...</td>\n",
       "      <td>...</td>\n",
       "      <td>...</td>\n",
       "      <td>...</td>\n",
       "      <td>...</td>\n",
       "      <td>...</td>\n",
       "    </tr>\n",
       "    <tr>\n",
       "      <th>67549</th>\n",
       "      <td>0.0</td>\n",
       "      <td>0.0</td>\n",
       "      <td>0.000000</td>\n",
       "      <td>0.065154</td>\n",
       "      <td>0.0</td>\n",
       "      <td>0.0</td>\n",
       "      <td>0.0</td>\n",
       "      <td>0.0</td>\n",
       "      <td>0.000000</td>\n",
       "      <td>0.0</td>\n",
       "      <td>...</td>\n",
       "      <td>0.094681</td>\n",
       "      <td>0.0</td>\n",
       "      <td>0.0</td>\n",
       "      <td>0.000000</td>\n",
       "      <td>0.000000</td>\n",
       "      <td>0.200931</td>\n",
       "      <td>0.108406</td>\n",
       "      <td>0.0</td>\n",
       "      <td>0.000000</td>\n",
       "      <td>0.0</td>\n",
       "    </tr>\n",
       "    <tr>\n",
       "      <th>67550</th>\n",
       "      <td>0.0</td>\n",
       "      <td>0.0</td>\n",
       "      <td>0.000000</td>\n",
       "      <td>0.000000</td>\n",
       "      <td>0.0</td>\n",
       "      <td>0.0</td>\n",
       "      <td>0.0</td>\n",
       "      <td>0.0</td>\n",
       "      <td>0.000000</td>\n",
       "      <td>0.0</td>\n",
       "      <td>...</td>\n",
       "      <td>0.000000</td>\n",
       "      <td>0.0</td>\n",
       "      <td>0.0</td>\n",
       "      <td>0.000000</td>\n",
       "      <td>0.000000</td>\n",
       "      <td>0.000000</td>\n",
       "      <td>0.000000</td>\n",
       "      <td>0.0</td>\n",
       "      <td>0.000000</td>\n",
       "      <td>0.0</td>\n",
       "    </tr>\n",
       "    <tr>\n",
       "      <th>67551</th>\n",
       "      <td>0.0</td>\n",
       "      <td>0.0</td>\n",
       "      <td>0.000000</td>\n",
       "      <td>0.000000</td>\n",
       "      <td>0.0</td>\n",
       "      <td>0.0</td>\n",
       "      <td>0.0</td>\n",
       "      <td>0.0</td>\n",
       "      <td>0.000000</td>\n",
       "      <td>0.0</td>\n",
       "      <td>...</td>\n",
       "      <td>0.000000</td>\n",
       "      <td>0.0</td>\n",
       "      <td>0.0</td>\n",
       "      <td>0.000000</td>\n",
       "      <td>0.000000</td>\n",
       "      <td>0.000000</td>\n",
       "      <td>0.000000</td>\n",
       "      <td>0.0</td>\n",
       "      <td>0.080992</td>\n",
       "      <td>0.0</td>\n",
       "    </tr>\n",
       "    <tr>\n",
       "      <th>67552</th>\n",
       "      <td>0.0</td>\n",
       "      <td>0.0</td>\n",
       "      <td>0.000000</td>\n",
       "      <td>0.000000</td>\n",
       "      <td>0.0</td>\n",
       "      <td>0.0</td>\n",
       "      <td>0.0</td>\n",
       "      <td>0.0</td>\n",
       "      <td>0.000000</td>\n",
       "      <td>0.0</td>\n",
       "      <td>...</td>\n",
       "      <td>0.000000</td>\n",
       "      <td>0.0</td>\n",
       "      <td>0.0</td>\n",
       "      <td>0.000000</td>\n",
       "      <td>0.000000</td>\n",
       "      <td>0.000000</td>\n",
       "      <td>0.000000</td>\n",
       "      <td>0.0</td>\n",
       "      <td>0.000000</td>\n",
       "      <td>0.0</td>\n",
       "    </tr>\n",
       "    <tr>\n",
       "      <th>67553</th>\n",
       "      <td>0.0</td>\n",
       "      <td>0.0</td>\n",
       "      <td>0.000000</td>\n",
       "      <td>0.000000</td>\n",
       "      <td>0.0</td>\n",
       "      <td>0.0</td>\n",
       "      <td>0.0</td>\n",
       "      <td>0.0</td>\n",
       "      <td>0.000000</td>\n",
       "      <td>0.0</td>\n",
       "      <td>...</td>\n",
       "      <td>0.000000</td>\n",
       "      <td>0.0</td>\n",
       "      <td>0.0</td>\n",
       "      <td>0.000000</td>\n",
       "      <td>0.000000</td>\n",
       "      <td>0.000000</td>\n",
       "      <td>0.000000</td>\n",
       "      <td>0.0</td>\n",
       "      <td>0.000000</td>\n",
       "      <td>0.0</td>\n",
       "    </tr>\n",
       "  </tbody>\n",
       "</table>\n",
       "<p>67554 rows × 1000 columns</p>\n",
       "</div>"
      ],
      "text/plain": [
       "       ability  able  absolutely    across  act  action  actions  actual  \\\n",
       "0          0.0   0.0    0.000000  0.000000  0.0     0.0      0.0     0.0   \n",
       "1          0.0   0.0    0.000000  0.000000  0.0     0.0      0.0     0.0   \n",
       "2          0.0   0.0    0.228013  0.000000  0.0     0.0      0.0     0.0   \n",
       "3          0.0   0.0    0.000000  0.000000  0.0     0.0      0.0     0.0   \n",
       "4          0.0   0.0    0.000000  0.000000  0.0     0.0      0.0     0.0   \n",
       "...        ...   ...         ...       ...  ...     ...      ...     ...   \n",
       "67549      0.0   0.0    0.000000  0.065154  0.0     0.0      0.0     0.0   \n",
       "67550      0.0   0.0    0.000000  0.000000  0.0     0.0      0.0     0.0   \n",
       "67551      0.0   0.0    0.000000  0.000000  0.0     0.0      0.0     0.0   \n",
       "67552      0.0   0.0    0.000000  0.000000  0.0     0.0      0.0     0.0   \n",
       "67553      0.0   0.0    0.000000  0.000000  0.0     0.0      0.0     0.0   \n",
       "\n",
       "       actually  adam  ...   written  wrong  wrote      yeah      year  \\\n",
       "0      0.000000   0.0  ...  0.000000    0.0    0.0  0.000000  0.000000   \n",
       "1      0.108424   0.0  ...  0.000000    0.0    0.0  0.077888  0.065171   \n",
       "2      0.000000   0.0  ...  0.000000    0.0    0.0  0.000000  0.000000   \n",
       "3      0.000000   0.0  ...  0.000000    0.0    0.0  0.000000  0.000000   \n",
       "4      0.000000   0.0  ...  0.000000    0.0    0.0  0.000000  0.000000   \n",
       "...         ...   ...  ...       ...    ...    ...       ...       ...   \n",
       "67549  0.000000   0.0  ...  0.094681    0.0    0.0  0.000000  0.000000   \n",
       "67550  0.000000   0.0  ...  0.000000    0.0    0.0  0.000000  0.000000   \n",
       "67551  0.000000   0.0  ...  0.000000    0.0    0.0  0.000000  0.000000   \n",
       "67552  0.000000   0.0  ...  0.000000    0.0    0.0  0.000000  0.000000   \n",
       "67553  0.000000   0.0  ...  0.000000    0.0    0.0  0.000000  0.000000   \n",
       "\n",
       "          years       yes  yet     young  younger  \n",
       "0      0.000000  0.000000  0.0  0.000000      0.0  \n",
       "1      0.000000  0.134630  0.0  0.000000      0.0  \n",
       "2      0.000000  0.000000  0.0  0.000000      0.0  \n",
       "3      0.000000  0.000000  0.0  0.000000      0.0  \n",
       "4      0.000000  0.000000  0.0  0.000000      0.0  \n",
       "...         ...       ...  ...       ...      ...  \n",
       "67549  0.200931  0.108406  0.0  0.000000      0.0  \n",
       "67550  0.000000  0.000000  0.0  0.000000      0.0  \n",
       "67551  0.000000  0.000000  0.0  0.080992      0.0  \n",
       "67552  0.000000  0.000000  0.0  0.000000      0.0  \n",
       "67553  0.000000  0.000000  0.0  0.000000      0.0  \n",
       "\n",
       "[67554 rows x 1000 columns]"
      ]
     },
     "execution_count": 271,
     "metadata": {},
     "output_type": "execute_result"
    }
   ],
   "source": [
    "from sklearn.feature_extraction.text import TfidfVectorizer\n",
    "\n",
    "tfidf = TfidfVectorizer(max_features=1000)\n",
    "\n",
    "X_train_vectorized = tfidf.fit_transform(X_train[\"review_text\"])\n",
    "X_test_vectorized = tfidf.transform(X_test[\"review_text\"])\n",
    "\n",
    "pd.DataFrame.sparse.from_spmatrix(X_train_vectorized, columns=tfidf.get_feature_names())"
   ]
  },
  {
   "cell_type": "code",
   "execution_count": 272,
   "metadata": {},
   "outputs": [],
   "source": [
    "assert X_train_vectorized.shape[0] == X_train.shape[0]\n",
    "\n",
    "assert X_train_vectorized.shape[1] == 1000"
   ]
  },
  {
   "cell_type": "code",
   "execution_count": 273,
   "metadata": {},
   "outputs": [
    {
     "data": {
      "text/plain": [
       "array([0.44467471, 0.4403079 , 0.4446007 , 0.44548886, 0.44145078])"
      ]
     },
     "execution_count": 273,
     "metadata": {},
     "output_type": "execute_result"
    }
   ],
   "source": [
    "from sklearn.naive_bayes import MultinomialNB\n",
    "from sklearn.model_selection import cross_val_score\n",
    "\n",
    "baseline_model = MultinomialNB()\n",
    "\n",
    "baseline_cv = cross_val_score(baseline_model, X_train_vectorized, y_train)\n",
    "baseline_cv"
   ]
  },
  {
   "cell_type": "code",
   "execution_count": 274,
   "metadata": {},
   "outputs": [
    {
     "data": {
      "text/plain": [
       "3    0.253323\n",
       "2    0.223569\n",
       "4    0.221023\n",
       "5    0.185585\n",
       "1    0.116499\n",
       "Name: rating, dtype: float64"
      ]
     },
     "execution_count": 274,
     "metadata": {},
     "output_type": "execute_result"
    }
   ],
   "source": [
    "y_train.value_counts(normalize=True)"
   ]
  },
  {
   "cell_type": "code",
   "execution_count": 275,
   "metadata": {},
   "outputs": [],
   "source": [
    "from sklearn.metrics import classification_report\n",
    "\n",
    "baseline_model.fit(X_train_vectorized, y_train)\n",
    "y_pred = baseline_model.predict(X_test_vectorized)"
   ]
  },
  {
   "cell_type": "code",
   "execution_count": 276,
   "metadata": {
    "scrolled": true
   },
   "outputs": [
    {
     "name": "stdout",
     "output_type": "stream",
     "text": [
      "              precision    recall  f1-score   support\n",
      "\n",
      "           1       0.75      0.14      0.24      2623\n",
      "           2       0.43      0.47      0.45      5034\n",
      "           3       0.39      0.64      0.48      5705\n",
      "           4       0.41      0.34      0.37      4977\n",
      "           5       0.62      0.47      0.54      4179\n",
      "\n",
      "    accuracy                           0.45     22518\n",
      "   macro avg       0.52      0.41      0.42     22518\n",
      "weighted avg       0.49      0.45      0.43     22518\n",
      "\n"
     ]
    }
   ],
   "source": [
    "print(classification_report(y_test, y_pred))"
   ]
  },
  {
   "cell_type": "markdown",
   "metadata": {},
   "source": [
    "#### GridSearch on Baseline Model"
   ]
  },
  {
   "cell_type": "code",
   "execution_count": 277,
   "metadata": {},
   "outputs": [],
   "source": [
    "NB_grid = {'alpha': [0.01, 0.1, 0.5, 1.0, 10.0],\n",
    "          'fit_prior': [True, False],\n",
    "           'class_prior': [None]\n",
    "}"
   ]
  },
  {
   "cell_type": "code",
   "execution_count": 278,
   "metadata": {},
   "outputs": [],
   "source": [
    "NB_grid_search = GridSearchCV(estimator=baseline_model, param_grid=NB_grid, verbose=2)"
   ]
  },
  {
   "cell_type": "code",
   "execution_count": 279,
   "metadata": {},
   "outputs": [
    {
     "name": "stdout",
     "output_type": "stream",
     "text": [
      "Fitting 5 folds for each of 10 candidates, totalling 50 fits\n",
      "[CV] alpha=0.01, class_prior=None, fit_prior=True ....................\n",
      "[CV] ..... alpha=0.01, class_prior=None, fit_prior=True, total=   0.0s\n",
      "[CV] alpha=0.01, class_prior=None, fit_prior=True ....................\n",
      "[CV] ..... alpha=0.01, class_prior=None, fit_prior=True, total=   0.0s\n",
      "[CV] alpha=0.01, class_prior=None, fit_prior=True ....................\n",
      "[CV] ..... alpha=0.01, class_prior=None, fit_prior=True, total=   0.0s\n",
      "[CV] alpha=0.01, class_prior=None, fit_prior=True ....................\n",
      "[CV] ..... alpha=0.01, class_prior=None, fit_prior=True, total=   0.0s\n",
      "[CV] alpha=0.01, class_prior=None, fit_prior=True ....................\n",
      "[CV] ..... alpha=0.01, class_prior=None, fit_prior=True, total=   0.0s\n",
      "[CV] alpha=0.01, class_prior=None, fit_prior=False ...................\n",
      "[CV] .... alpha=0.01, class_prior=None, fit_prior=False, total=   0.0s\n",
      "[CV] alpha=0.01, class_prior=None, fit_prior=False ...................\n"
     ]
    },
    {
     "name": "stderr",
     "output_type": "stream",
     "text": [
      "[Parallel(n_jobs=1)]: Using backend SequentialBackend with 1 concurrent workers.\n",
      "[Parallel(n_jobs=1)]: Done   1 out of   1 | elapsed:    0.0s remaining:    0.0s\n"
     ]
    },
    {
     "name": "stdout",
     "output_type": "stream",
     "text": [
      "[CV] .... alpha=0.01, class_prior=None, fit_prior=False, total=   0.0s\n",
      "[CV] alpha=0.01, class_prior=None, fit_prior=False ...................\n",
      "[CV] .... alpha=0.01, class_prior=None, fit_prior=False, total=   0.0s\n",
      "[CV] alpha=0.01, class_prior=None, fit_prior=False ...................\n",
      "[CV] .... alpha=0.01, class_prior=None, fit_prior=False, total=   0.0s\n",
      "[CV] alpha=0.01, class_prior=None, fit_prior=False ...................\n",
      "[CV] .... alpha=0.01, class_prior=None, fit_prior=False, total=   0.0s\n",
      "[CV] alpha=0.1, class_prior=None, fit_prior=True .....................\n",
      "[CV] ...... alpha=0.1, class_prior=None, fit_prior=True, total=   0.0s\n",
      "[CV] alpha=0.1, class_prior=None, fit_prior=True .....................\n",
      "[CV] ...... alpha=0.1, class_prior=None, fit_prior=True, total=   0.0s\n",
      "[CV] alpha=0.1, class_prior=None, fit_prior=True .....................\n",
      "[CV] ...... alpha=0.1, class_prior=None, fit_prior=True, total=   0.0s\n",
      "[CV] alpha=0.1, class_prior=None, fit_prior=True .....................\n",
      "[CV] ...... alpha=0.1, class_prior=None, fit_prior=True, total=   0.0s\n",
      "[CV] alpha=0.1, class_prior=None, fit_prior=True .....................\n",
      "[CV] ...... alpha=0.1, class_prior=None, fit_prior=True, total=   0.0s\n",
      "[CV] alpha=0.1, class_prior=None, fit_prior=False ....................\n",
      "[CV] ..... alpha=0.1, class_prior=None, fit_prior=False, total=   0.0s\n",
      "[CV] alpha=0.1, class_prior=None, fit_prior=False ....................\n",
      "[CV] ..... alpha=0.1, class_prior=None, fit_prior=False, total=   0.0s\n",
      "[CV] alpha=0.1, class_prior=None, fit_prior=False ....................\n",
      "[CV] ..... alpha=0.1, class_prior=None, fit_prior=False, total=   0.0s\n",
      "[CV] alpha=0.1, class_prior=None, fit_prior=False ....................\n",
      "[CV] ..... alpha=0.1, class_prior=None, fit_prior=False, total=   0.0s\n",
      "[CV] alpha=0.1, class_prior=None, fit_prior=False ....................\n",
      "[CV] ..... alpha=0.1, class_prior=None, fit_prior=False, total=   0.0s\n",
      "[CV] alpha=0.5, class_prior=None, fit_prior=True .....................\n",
      "[CV] ...... alpha=0.5, class_prior=None, fit_prior=True, total=   0.0s\n",
      "[CV] alpha=0.5, class_prior=None, fit_prior=True .....................\n",
      "[CV] ...... alpha=0.5, class_prior=None, fit_prior=True, total=   0.0s\n",
      "[CV] alpha=0.5, class_prior=None, fit_prior=True .....................\n",
      "[CV] ...... alpha=0.5, class_prior=None, fit_prior=True, total=   0.0s\n",
      "[CV] alpha=0.5, class_prior=None, fit_prior=True .....................\n",
      "[CV] ...... alpha=0.5, class_prior=None, fit_prior=True, total=   0.0s\n",
      "[CV] alpha=0.5, class_prior=None, fit_prior=True .....................\n",
      "[CV] ...... alpha=0.5, class_prior=None, fit_prior=True, total=   0.0s\n",
      "[CV] alpha=0.5, class_prior=None, fit_prior=False ....................\n",
      "[CV] ..... alpha=0.5, class_prior=None, fit_prior=False, total=   0.0s\n",
      "[CV] alpha=0.5, class_prior=None, fit_prior=False ....................\n",
      "[CV] ..... alpha=0.5, class_prior=None, fit_prior=False, total=   0.0s\n",
      "[CV] alpha=0.5, class_prior=None, fit_prior=False ....................\n",
      "[CV] ..... alpha=0.5, class_prior=None, fit_prior=False, total=   0.0s\n",
      "[CV] alpha=0.5, class_prior=None, fit_prior=False ....................\n",
      "[CV] ..... alpha=0.5, class_prior=None, fit_prior=False, total=   0.0s\n",
      "[CV] alpha=0.5, class_prior=None, fit_prior=False ....................\n",
      "[CV] ..... alpha=0.5, class_prior=None, fit_prior=False, total=   0.0s\n",
      "[CV] alpha=1.0, class_prior=None, fit_prior=True .....................\n",
      "[CV] ...... alpha=1.0, class_prior=None, fit_prior=True, total=   0.0s\n",
      "[CV] alpha=1.0, class_prior=None, fit_prior=True .....................\n",
      "[CV] ...... alpha=1.0, class_prior=None, fit_prior=True, total=   0.0s\n",
      "[CV] alpha=1.0, class_prior=None, fit_prior=True .....................\n",
      "[CV] ...... alpha=1.0, class_prior=None, fit_prior=True, total=   0.0s\n",
      "[CV] alpha=1.0, class_prior=None, fit_prior=True .....................\n",
      "[CV] ...... alpha=1.0, class_prior=None, fit_prior=True, total=   0.0s\n",
      "[CV] alpha=1.0, class_prior=None, fit_prior=True .....................\n",
      "[CV] ...... alpha=1.0, class_prior=None, fit_prior=True, total=   0.0s\n",
      "[CV] alpha=1.0, class_prior=None, fit_prior=False ....................\n",
      "[CV] ..... alpha=1.0, class_prior=None, fit_prior=False, total=   0.0s\n",
      "[CV] alpha=1.0, class_prior=None, fit_prior=False ....................\n",
      "[CV] ..... alpha=1.0, class_prior=None, fit_prior=False, total=   0.0s\n",
      "[CV] alpha=1.0, class_prior=None, fit_prior=False ....................\n",
      "[CV] ..... alpha=1.0, class_prior=None, fit_prior=False, total=   0.0s\n",
      "[CV] alpha=1.0, class_prior=None, fit_prior=False ....................\n",
      "[CV] ..... alpha=1.0, class_prior=None, fit_prior=False, total=   0.0s\n",
      "[CV] alpha=1.0, class_prior=None, fit_prior=False ....................\n",
      "[CV] ..... alpha=1.0, class_prior=None, fit_prior=False, total=   0.0s\n",
      "[CV] alpha=10.0, class_prior=None, fit_prior=True ....................\n",
      "[CV] ..... alpha=10.0, class_prior=None, fit_prior=True, total=   0.0s\n",
      "[CV] alpha=10.0, class_prior=None, fit_prior=True ....................\n",
      "[CV] ..... alpha=10.0, class_prior=None, fit_prior=True, total=   0.0s\n",
      "[CV] alpha=10.0, class_prior=None, fit_prior=True ....................\n",
      "[CV] ..... alpha=10.0, class_prior=None, fit_prior=True, total=   0.0s\n",
      "[CV] alpha=10.0, class_prior=None, fit_prior=True ....................\n",
      "[CV] ..... alpha=10.0, class_prior=None, fit_prior=True, total=   0.0s\n",
      "[CV] alpha=10.0, class_prior=None, fit_prior=True ....................\n",
      "[CV] ..... alpha=10.0, class_prior=None, fit_prior=True, total=   0.0s\n",
      "[CV] alpha=10.0, class_prior=None, fit_prior=False ...................\n",
      "[CV] .... alpha=10.0, class_prior=None, fit_prior=False, total=   0.0s\n",
      "[CV] alpha=10.0, class_prior=None, fit_prior=False ...................\n",
      "[CV] .... alpha=10.0, class_prior=None, fit_prior=False, total=   0.0s\n",
      "[CV] alpha=10.0, class_prior=None, fit_prior=False ...................\n",
      "[CV] .... alpha=10.0, class_prior=None, fit_prior=False, total=   0.0s\n",
      "[CV] alpha=10.0, class_prior=None, fit_prior=False ...................\n",
      "[CV] .... alpha=10.0, class_prior=None, fit_prior=False, total=   0.0s\n",
      "[CV] alpha=10.0, class_prior=None, fit_prior=False ...................\n",
      "[CV] .... alpha=10.0, class_prior=None, fit_prior=False, total=   0.0s\n"
     ]
    },
    {
     "name": "stderr",
     "output_type": "stream",
     "text": [
      "[Parallel(n_jobs=1)]: Done  50 out of  50 | elapsed:    1.2s finished\n"
     ]
    },
    {
     "data": {
      "text/plain": [
       "GridSearchCV(estimator=MultinomialNB(),\n",
       "             param_grid={'alpha': [0.01, 0.1, 0.5, 1.0, 10.0],\n",
       "                         'class_prior': [None], 'fit_prior': [True, False]},\n",
       "             verbose=2)"
      ]
     },
     "execution_count": 279,
     "metadata": {},
     "output_type": "execute_result"
    }
   ],
   "source": [
    "NB_grid_search.fit(X_train_vectorized, y_train)"
   ]
  },
  {
   "cell_type": "code",
   "execution_count": 280,
   "metadata": {},
   "outputs": [
    {
     "data": {
      "text/plain": [
       "{'alpha': 10.0, 'class_prior': None, 'fit_prior': False}"
      ]
     },
     "execution_count": 280,
     "metadata": {},
     "output_type": "execute_result"
    }
   ],
   "source": [
    "NB_grid_search.best_params_"
   ]
  },
  {
   "cell_type": "code",
   "execution_count": 281,
   "metadata": {},
   "outputs": [],
   "source": [
    "baseline_model_2 = MultinomialNB(alpha = 10.0,\n",
    "                                    fit_prior=False,\n",
    "                                class_prior=None)\n",
    "baseline_model_2.fit(X_train_vectorized, y_train)\n",
    "y_pred_2 = baseline_model_2.predict(X_test_vectorized)"
   ]
  },
  {
   "cell_type": "code",
   "execution_count": 282,
   "metadata": {},
   "outputs": [
    {
     "name": "stdout",
     "output_type": "stream",
     "text": [
      "              precision    recall  f1-score   support\n",
      "\n",
      "           1       0.44      0.61      0.51      2623\n",
      "           2       0.47      0.41      0.44      5034\n",
      "           3       0.45      0.41      0.43      5705\n",
      "           4       0.41      0.36      0.38      4977\n",
      "           5       0.53      0.63      0.58      4179\n",
      "\n",
      "    accuracy                           0.46     22518\n",
      "   macro avg       0.46      0.48      0.47     22518\n",
      "weighted avg       0.46      0.46      0.46     22518\n",
      "\n"
     ]
    }
   ],
   "source": [
    "print(classification_report(y_test, y_pred_2))"
   ]
  },
  {
   "cell_type": "markdown",
   "metadata": {},
   "source": [
    "### Removing Stopwords"
   ]
  },
  {
   "cell_type": "code",
   "execution_count": 285,
   "metadata": {},
   "outputs": [
    {
     "name": "stderr",
     "output_type": "stream",
     "text": [
      "[nltk_data] Downloading package stopwords to\n",
      "[nltk_data]     /Users/henryvangorp/nltk_data...\n",
      "[nltk_data]   Package stopwords is already up-to-date!\n"
     ]
    },
    {
     "data": {
      "text/plain": [
       "['i',\n",
       " 'me',\n",
       " 'my',\n",
       " 'myself',\n",
       " 'we',\n",
       " 'our',\n",
       " 'ours',\n",
       " 'ourselves',\n",
       " 'you',\n",
       " \"you're\",\n",
       " \"you've\",\n",
       " \"you'll\",\n",
       " \"you'd\",\n",
       " 'your',\n",
       " 'yours',\n",
       " 'yourself',\n",
       " 'yourselves',\n",
       " 'he',\n",
       " 'him',\n",
       " 'his']"
      ]
     },
     "execution_count": 285,
     "metadata": {},
     "output_type": "execute_result"
    }
   ],
   "source": [
    "import nltk\n",
    "nltk.download('stopwords')\n",
    "\n",
    "\n",
    "from nltk.corpus import stopwords\n",
    "\n",
    "stopwords_list = stopwords.words('english')\n",
    "stopwords_list[:20]"
   ]
  },
  {
   "cell_type": "code",
   "execution_count": 286,
   "metadata": {},
   "outputs": [],
   "source": [
    "def remove_stopwords(token_list):\n",
    "    \"\"\"\n",
    "    Given a list of tokens, return a list where the tokens\n",
    "    that are also present in stopwords_list have been\n",
    "    removed\n",
    "    \"\"\"\n",
    "    stopwords_removed = [token for token in token_list if token not in stopwords_list]\n",
    "    return stopwords_removed"
   ]
  },
  {
   "cell_type": "code",
   "execution_count": 287,
   "metadata": {},
   "outputs": [
    {
     "name": "stdout",
     "output_type": "stream",
     "text": [
      "Length with stopwords: 176\n",
      "Length without stopwords: 176\n"
     ]
    }
   ],
   "source": [
    "# Run this cell without changes\n",
    "tokens_example = X_train.iloc[100][\"text_tokenized\"]\n",
    "print(\"Length with stopwords:\", len(tokens_example))\n",
    "\n",
    "tokens_example_without_stopwords = remove_stopwords(tokens_example)\n",
    "print(\"Length without stopwords:\", len(tokens_example_without_stopwords))"
   ]
  },
  {
   "cell_type": "code",
   "execution_count": 288,
   "metadata": {},
   "outputs": [
    {
     "name": "stderr",
     "output_type": "stream",
     "text": [
      "<ipython-input-288-8ea6976fb268>:1: SettingWithCopyWarning: \n",
      "A value is trying to be set on a copy of a slice from a DataFrame.\n",
      "Try using .loc[row_indexer,col_indexer] = value instead\n",
      "\n",
      "See the caveats in the documentation: https://pandas.pydata.org/pandas-docs/stable/user_guide/indexing.html#returning-a-view-versus-a-copy\n",
      "  X_train[\"text_without_stopwords\"] = X_train[\"text_tokenized\"].apply(remove_stopwords)\n"
     ]
    }
   ],
   "source": [
    "X_train[\"text_without_stopwords\"] = X_train[\"text_tokenized\"].apply(remove_stopwords)"
   ]
  },
  {
   "cell_type": "code",
   "execution_count": 289,
   "metadata": {},
   "outputs": [
    {
     "data": {
      "text/html": [
       "<div>\n",
       "<style scoped>\n",
       "    .dataframe tbody tr th:only-of-type {\n",
       "        vertical-align: middle;\n",
       "    }\n",
       "\n",
       "    .dataframe tbody tr th {\n",
       "        vertical-align: top;\n",
       "    }\n",
       "\n",
       "    .dataframe thead th {\n",
       "        text-align: right;\n",
       "    }\n",
       "</style>\n",
       "<table border=\"1\" class=\"dataframe\">\n",
       "  <thead>\n",
       "    <tr style=\"text-align: right;\">\n",
       "      <th></th>\n",
       "      <th>ability</th>\n",
       "      <th>able</th>\n",
       "      <th>absolutely</th>\n",
       "      <th>across</th>\n",
       "      <th>act</th>\n",
       "      <th>action</th>\n",
       "      <th>actions</th>\n",
       "      <th>actual</th>\n",
       "      <th>actually</th>\n",
       "      <th>adam</th>\n",
       "      <th>...</th>\n",
       "      <th>written</th>\n",
       "      <th>wrong</th>\n",
       "      <th>wrote</th>\n",
       "      <th>yeah</th>\n",
       "      <th>year</th>\n",
       "      <th>years</th>\n",
       "      <th>yes</th>\n",
       "      <th>yet</th>\n",
       "      <th>young</th>\n",
       "      <th>younger</th>\n",
       "    </tr>\n",
       "  </thead>\n",
       "  <tbody>\n",
       "    <tr>\n",
       "      <th>0</th>\n",
       "      <td>0.0</td>\n",
       "      <td>0.0</td>\n",
       "      <td>0.000000</td>\n",
       "      <td>0.000000</td>\n",
       "      <td>0.0</td>\n",
       "      <td>0.0</td>\n",
       "      <td>0.0</td>\n",
       "      <td>0.0</td>\n",
       "      <td>0.000000</td>\n",
       "      <td>0.0</td>\n",
       "      <td>...</td>\n",
       "      <td>0.000000</td>\n",
       "      <td>0.0</td>\n",
       "      <td>0.0</td>\n",
       "      <td>0.000000</td>\n",
       "      <td>0.000000</td>\n",
       "      <td>0.000000</td>\n",
       "      <td>0.000000</td>\n",
       "      <td>0.0</td>\n",
       "      <td>0.000000</td>\n",
       "      <td>0.0</td>\n",
       "    </tr>\n",
       "    <tr>\n",
       "      <th>1</th>\n",
       "      <td>0.0</td>\n",
       "      <td>0.0</td>\n",
       "      <td>0.000000</td>\n",
       "      <td>0.000000</td>\n",
       "      <td>0.0</td>\n",
       "      <td>0.0</td>\n",
       "      <td>0.0</td>\n",
       "      <td>0.0</td>\n",
       "      <td>0.108424</td>\n",
       "      <td>0.0</td>\n",
       "      <td>...</td>\n",
       "      <td>0.000000</td>\n",
       "      <td>0.0</td>\n",
       "      <td>0.0</td>\n",
       "      <td>0.077888</td>\n",
       "      <td>0.065171</td>\n",
       "      <td>0.000000</td>\n",
       "      <td>0.134630</td>\n",
       "      <td>0.0</td>\n",
       "      <td>0.000000</td>\n",
       "      <td>0.0</td>\n",
       "    </tr>\n",
       "    <tr>\n",
       "      <th>2</th>\n",
       "      <td>0.0</td>\n",
       "      <td>0.0</td>\n",
       "      <td>0.228013</td>\n",
       "      <td>0.000000</td>\n",
       "      <td>0.0</td>\n",
       "      <td>0.0</td>\n",
       "      <td>0.0</td>\n",
       "      <td>0.0</td>\n",
       "      <td>0.000000</td>\n",
       "      <td>0.0</td>\n",
       "      <td>...</td>\n",
       "      <td>0.000000</td>\n",
       "      <td>0.0</td>\n",
       "      <td>0.0</td>\n",
       "      <td>0.000000</td>\n",
       "      <td>0.000000</td>\n",
       "      <td>0.000000</td>\n",
       "      <td>0.000000</td>\n",
       "      <td>0.0</td>\n",
       "      <td>0.000000</td>\n",
       "      <td>0.0</td>\n",
       "    </tr>\n",
       "    <tr>\n",
       "      <th>3</th>\n",
       "      <td>0.0</td>\n",
       "      <td>0.0</td>\n",
       "      <td>0.000000</td>\n",
       "      <td>0.000000</td>\n",
       "      <td>0.0</td>\n",
       "      <td>0.0</td>\n",
       "      <td>0.0</td>\n",
       "      <td>0.0</td>\n",
       "      <td>0.000000</td>\n",
       "      <td>0.0</td>\n",
       "      <td>...</td>\n",
       "      <td>0.000000</td>\n",
       "      <td>0.0</td>\n",
       "      <td>0.0</td>\n",
       "      <td>0.000000</td>\n",
       "      <td>0.000000</td>\n",
       "      <td>0.000000</td>\n",
       "      <td>0.000000</td>\n",
       "      <td>0.0</td>\n",
       "      <td>0.000000</td>\n",
       "      <td>0.0</td>\n",
       "    </tr>\n",
       "    <tr>\n",
       "      <th>4</th>\n",
       "      <td>0.0</td>\n",
       "      <td>0.0</td>\n",
       "      <td>0.000000</td>\n",
       "      <td>0.000000</td>\n",
       "      <td>0.0</td>\n",
       "      <td>0.0</td>\n",
       "      <td>0.0</td>\n",
       "      <td>0.0</td>\n",
       "      <td>0.000000</td>\n",
       "      <td>0.0</td>\n",
       "      <td>...</td>\n",
       "      <td>0.000000</td>\n",
       "      <td>0.0</td>\n",
       "      <td>0.0</td>\n",
       "      <td>0.000000</td>\n",
       "      <td>0.000000</td>\n",
       "      <td>0.000000</td>\n",
       "      <td>0.000000</td>\n",
       "      <td>0.0</td>\n",
       "      <td>0.000000</td>\n",
       "      <td>0.0</td>\n",
       "    </tr>\n",
       "    <tr>\n",
       "      <th>...</th>\n",
       "      <td>...</td>\n",
       "      <td>...</td>\n",
       "      <td>...</td>\n",
       "      <td>...</td>\n",
       "      <td>...</td>\n",
       "      <td>...</td>\n",
       "      <td>...</td>\n",
       "      <td>...</td>\n",
       "      <td>...</td>\n",
       "      <td>...</td>\n",
       "      <td>...</td>\n",
       "      <td>...</td>\n",
       "      <td>...</td>\n",
       "      <td>...</td>\n",
       "      <td>...</td>\n",
       "      <td>...</td>\n",
       "      <td>...</td>\n",
       "      <td>...</td>\n",
       "      <td>...</td>\n",
       "      <td>...</td>\n",
       "      <td>...</td>\n",
       "    </tr>\n",
       "    <tr>\n",
       "      <th>67549</th>\n",
       "      <td>0.0</td>\n",
       "      <td>0.0</td>\n",
       "      <td>0.000000</td>\n",
       "      <td>0.065154</td>\n",
       "      <td>0.0</td>\n",
       "      <td>0.0</td>\n",
       "      <td>0.0</td>\n",
       "      <td>0.0</td>\n",
       "      <td>0.000000</td>\n",
       "      <td>0.0</td>\n",
       "      <td>...</td>\n",
       "      <td>0.094681</td>\n",
       "      <td>0.0</td>\n",
       "      <td>0.0</td>\n",
       "      <td>0.000000</td>\n",
       "      <td>0.000000</td>\n",
       "      <td>0.200931</td>\n",
       "      <td>0.108406</td>\n",
       "      <td>0.0</td>\n",
       "      <td>0.000000</td>\n",
       "      <td>0.0</td>\n",
       "    </tr>\n",
       "    <tr>\n",
       "      <th>67550</th>\n",
       "      <td>0.0</td>\n",
       "      <td>0.0</td>\n",
       "      <td>0.000000</td>\n",
       "      <td>0.000000</td>\n",
       "      <td>0.0</td>\n",
       "      <td>0.0</td>\n",
       "      <td>0.0</td>\n",
       "      <td>0.0</td>\n",
       "      <td>0.000000</td>\n",
       "      <td>0.0</td>\n",
       "      <td>...</td>\n",
       "      <td>0.000000</td>\n",
       "      <td>0.0</td>\n",
       "      <td>0.0</td>\n",
       "      <td>0.000000</td>\n",
       "      <td>0.000000</td>\n",
       "      <td>0.000000</td>\n",
       "      <td>0.000000</td>\n",
       "      <td>0.0</td>\n",
       "      <td>0.000000</td>\n",
       "      <td>0.0</td>\n",
       "    </tr>\n",
       "    <tr>\n",
       "      <th>67551</th>\n",
       "      <td>0.0</td>\n",
       "      <td>0.0</td>\n",
       "      <td>0.000000</td>\n",
       "      <td>0.000000</td>\n",
       "      <td>0.0</td>\n",
       "      <td>0.0</td>\n",
       "      <td>0.0</td>\n",
       "      <td>0.0</td>\n",
       "      <td>0.000000</td>\n",
       "      <td>0.0</td>\n",
       "      <td>...</td>\n",
       "      <td>0.000000</td>\n",
       "      <td>0.0</td>\n",
       "      <td>0.0</td>\n",
       "      <td>0.000000</td>\n",
       "      <td>0.000000</td>\n",
       "      <td>0.000000</td>\n",
       "      <td>0.000000</td>\n",
       "      <td>0.0</td>\n",
       "      <td>0.080992</td>\n",
       "      <td>0.0</td>\n",
       "    </tr>\n",
       "    <tr>\n",
       "      <th>67552</th>\n",
       "      <td>0.0</td>\n",
       "      <td>0.0</td>\n",
       "      <td>0.000000</td>\n",
       "      <td>0.000000</td>\n",
       "      <td>0.0</td>\n",
       "      <td>0.0</td>\n",
       "      <td>0.0</td>\n",
       "      <td>0.0</td>\n",
       "      <td>0.000000</td>\n",
       "      <td>0.0</td>\n",
       "      <td>...</td>\n",
       "      <td>0.000000</td>\n",
       "      <td>0.0</td>\n",
       "      <td>0.0</td>\n",
       "      <td>0.000000</td>\n",
       "      <td>0.000000</td>\n",
       "      <td>0.000000</td>\n",
       "      <td>0.000000</td>\n",
       "      <td>0.0</td>\n",
       "      <td>0.000000</td>\n",
       "      <td>0.0</td>\n",
       "    </tr>\n",
       "    <tr>\n",
       "      <th>67553</th>\n",
       "      <td>0.0</td>\n",
       "      <td>0.0</td>\n",
       "      <td>0.000000</td>\n",
       "      <td>0.000000</td>\n",
       "      <td>0.0</td>\n",
       "      <td>0.0</td>\n",
       "      <td>0.0</td>\n",
       "      <td>0.0</td>\n",
       "      <td>0.000000</td>\n",
       "      <td>0.0</td>\n",
       "      <td>...</td>\n",
       "      <td>0.000000</td>\n",
       "      <td>0.0</td>\n",
       "      <td>0.0</td>\n",
       "      <td>0.000000</td>\n",
       "      <td>0.000000</td>\n",
       "      <td>0.000000</td>\n",
       "      <td>0.000000</td>\n",
       "      <td>0.0</td>\n",
       "      <td>0.000000</td>\n",
       "      <td>0.0</td>\n",
       "    </tr>\n",
       "  </tbody>\n",
       "</table>\n",
       "<p>67554 rows × 1000 columns</p>\n",
       "</div>"
      ],
      "text/plain": [
       "       ability  able  absolutely    across  act  action  actions  actual  \\\n",
       "0          0.0   0.0    0.000000  0.000000  0.0     0.0      0.0     0.0   \n",
       "1          0.0   0.0    0.000000  0.000000  0.0     0.0      0.0     0.0   \n",
       "2          0.0   0.0    0.228013  0.000000  0.0     0.0      0.0     0.0   \n",
       "3          0.0   0.0    0.000000  0.000000  0.0     0.0      0.0     0.0   \n",
       "4          0.0   0.0    0.000000  0.000000  0.0     0.0      0.0     0.0   \n",
       "...        ...   ...         ...       ...  ...     ...      ...     ...   \n",
       "67549      0.0   0.0    0.000000  0.065154  0.0     0.0      0.0     0.0   \n",
       "67550      0.0   0.0    0.000000  0.000000  0.0     0.0      0.0     0.0   \n",
       "67551      0.0   0.0    0.000000  0.000000  0.0     0.0      0.0     0.0   \n",
       "67552      0.0   0.0    0.000000  0.000000  0.0     0.0      0.0     0.0   \n",
       "67553      0.0   0.0    0.000000  0.000000  0.0     0.0      0.0     0.0   \n",
       "\n",
       "       actually  adam  ...   written  wrong  wrote      yeah      year  \\\n",
       "0      0.000000   0.0  ...  0.000000    0.0    0.0  0.000000  0.000000   \n",
       "1      0.108424   0.0  ...  0.000000    0.0    0.0  0.077888  0.065171   \n",
       "2      0.000000   0.0  ...  0.000000    0.0    0.0  0.000000  0.000000   \n",
       "3      0.000000   0.0  ...  0.000000    0.0    0.0  0.000000  0.000000   \n",
       "4      0.000000   0.0  ...  0.000000    0.0    0.0  0.000000  0.000000   \n",
       "...         ...   ...  ...       ...    ...    ...       ...       ...   \n",
       "67549  0.000000   0.0  ...  0.094681    0.0    0.0  0.000000  0.000000   \n",
       "67550  0.000000   0.0  ...  0.000000    0.0    0.0  0.000000  0.000000   \n",
       "67551  0.000000   0.0  ...  0.000000    0.0    0.0  0.000000  0.000000   \n",
       "67552  0.000000   0.0  ...  0.000000    0.0    0.0  0.000000  0.000000   \n",
       "67553  0.000000   0.0  ...  0.000000    0.0    0.0  0.000000  0.000000   \n",
       "\n",
       "          years       yes  yet     young  younger  \n",
       "0      0.000000  0.000000  0.0  0.000000      0.0  \n",
       "1      0.000000  0.134630  0.0  0.000000      0.0  \n",
       "2      0.000000  0.000000  0.0  0.000000      0.0  \n",
       "3      0.000000  0.000000  0.0  0.000000      0.0  \n",
       "4      0.000000  0.000000  0.0  0.000000      0.0  \n",
       "...         ...       ...  ...       ...      ...  \n",
       "67549  0.200931  0.108406  0.0  0.000000      0.0  \n",
       "67550  0.000000  0.000000  0.0  0.000000      0.0  \n",
       "67551  0.000000  0.000000  0.0  0.080992      0.0  \n",
       "67552  0.000000  0.000000  0.0  0.000000      0.0  \n",
       "67553  0.000000  0.000000  0.0  0.000000      0.0  \n",
       "\n",
       "[67554 rows x 1000 columns]"
      ]
     },
     "execution_count": 289,
     "metadata": {},
     "output_type": "execute_result"
    }
   ],
   "source": [
    "tfidf = TfidfVectorizer(\n",
    "    max_features=1000,\n",
    "    stop_words=stopwords_list\n",
    ")\n",
    "\n",
    "# Fit the vectorizer on X_train[\"text\"] and transform it\n",
    "X_train_vectorized_stop = tfidf.fit_transform(X_train[\"review_text\"])\n",
    "\n",
    "# Visually inspect the vectorized data\n",
    "pd.DataFrame.sparse.from_spmatrix(X_train_vectorized_stop, columns=tfidf.get_feature_names())"
   ]
  },
  {
   "cell_type": "code",
   "execution_count": 290,
   "metadata": {},
   "outputs": [
    {
     "data": {
      "text/plain": [
       "array([0.44467471, 0.4403079 , 0.4446007 , 0.44548886, 0.44145078])"
      ]
     },
     "execution_count": 290,
     "metadata": {},
     "output_type": "execute_result"
    }
   ],
   "source": [
    "stopwords_removed_cv = cross_val_score(baseline_model, X_train_vectorized_stop, y_train)\n",
    "stopwords_removed_cv"
   ]
  },
  {
   "cell_type": "code",
   "execution_count": 291,
   "metadata": {},
   "outputs": [],
   "source": [
    "baseline_model.fit(X_train_vectorized_stop, y_train)\n",
    "y_pred_stop = baseline_model.predict(X_test_vectorized)"
   ]
  },
  {
   "cell_type": "code",
   "execution_count": 292,
   "metadata": {
    "scrolled": true
   },
   "outputs": [
    {
     "name": "stdout",
     "output_type": "stream",
     "text": [
      "              precision    recall  f1-score   support\n",
      "\n",
      "           1       0.75      0.14      0.24      2623\n",
      "           2       0.43      0.47      0.45      5034\n",
      "           3       0.39      0.64      0.48      5705\n",
      "           4       0.41      0.34      0.37      4977\n",
      "           5       0.62      0.47      0.54      4179\n",
      "\n",
      "    accuracy                           0.45     22518\n",
      "   macro avg       0.52      0.41      0.42     22518\n",
      "weighted avg       0.49      0.45      0.43     22518\n",
      "\n"
     ]
    }
   ],
   "source": [
    "print(classification_report(y_test, y_pred_stop))"
   ]
  },
  {
   "cell_type": "markdown",
   "metadata": {},
   "source": [
    "#### Gridsearch with Stop Words Removed"
   ]
  },
  {
   "cell_type": "code",
   "execution_count": 293,
   "metadata": {},
   "outputs": [
    {
     "name": "stdout",
     "output_type": "stream",
     "text": [
      "Fitting 5 folds for each of 10 candidates, totalling 50 fits\n",
      "[CV] alpha=0.01, class_prior=None, fit_prior=True ....................\n",
      "[CV] ..... alpha=0.01, class_prior=None, fit_prior=True, total=   0.0s\n",
      "[CV] alpha=0.01, class_prior=None, fit_prior=True ....................\n",
      "[CV] ..... alpha=0.01, class_prior=None, fit_prior=True, total=   0.0s\n",
      "[CV] alpha=0.01, class_prior=None, fit_prior=True ....................\n",
      "[CV] ..... alpha=0.01, class_prior=None, fit_prior=True, total=   0.0s\n",
      "[CV] alpha=0.01, class_prior=None, fit_prior=True ....................\n",
      "[CV] ..... alpha=0.01, class_prior=None, fit_prior=True, total=   0.0s\n",
      "[CV] alpha=0.01, class_prior=None, fit_prior=True ....................\n",
      "[CV] ..... alpha=0.01, class_prior=None, fit_prior=True, total=   0.0s\n",
      "[CV] alpha=0.01, class_prior=None, fit_prior=False ...................\n",
      "[CV] .... alpha=0.01, class_prior=None, fit_prior=False, total=   0.0s\n",
      "[CV] alpha=0.01, class_prior=None, fit_prior=False ...................\n",
      "[CV] .... alpha=0.01, class_prior=None, fit_prior=False, total=   0.0s\n",
      "[CV] alpha=0.01, class_prior=None, fit_prior=False ...................\n"
     ]
    },
    {
     "name": "stderr",
     "output_type": "stream",
     "text": [
      "[Parallel(n_jobs=1)]: Using backend SequentialBackend with 1 concurrent workers.\n",
      "[Parallel(n_jobs=1)]: Done   1 out of   1 | elapsed:    0.0s remaining:    0.0s\n"
     ]
    },
    {
     "name": "stdout",
     "output_type": "stream",
     "text": [
      "[CV] .... alpha=0.01, class_prior=None, fit_prior=False, total=   0.0s\n",
      "[CV] alpha=0.01, class_prior=None, fit_prior=False ...................\n",
      "[CV] .... alpha=0.01, class_prior=None, fit_prior=False, total=   0.0s\n",
      "[CV] alpha=0.01, class_prior=None, fit_prior=False ...................\n",
      "[CV] .... alpha=0.01, class_prior=None, fit_prior=False, total=   0.0s\n",
      "[CV] alpha=0.1, class_prior=None, fit_prior=True .....................\n",
      "[CV] ...... alpha=0.1, class_prior=None, fit_prior=True, total=   0.0s\n",
      "[CV] alpha=0.1, class_prior=None, fit_prior=True .....................\n",
      "[CV] ...... alpha=0.1, class_prior=None, fit_prior=True, total=   0.0s\n",
      "[CV] alpha=0.1, class_prior=None, fit_prior=True .....................\n",
      "[CV] ...... alpha=0.1, class_prior=None, fit_prior=True, total=   0.0s\n",
      "[CV] alpha=0.1, class_prior=None, fit_prior=True .....................\n",
      "[CV] ...... alpha=0.1, class_prior=None, fit_prior=True, total=   0.0s\n",
      "[CV] alpha=0.1, class_prior=None, fit_prior=True .....................\n",
      "[CV] ...... alpha=0.1, class_prior=None, fit_prior=True, total=   0.0s\n",
      "[CV] alpha=0.1, class_prior=None, fit_prior=False ....................\n",
      "[CV] ..... alpha=0.1, class_prior=None, fit_prior=False, total=   0.0s\n",
      "[CV] alpha=0.1, class_prior=None, fit_prior=False ....................\n",
      "[CV] ..... alpha=0.1, class_prior=None, fit_prior=False, total=   0.0s\n",
      "[CV] alpha=0.1, class_prior=None, fit_prior=False ....................\n",
      "[CV] ..... alpha=0.1, class_prior=None, fit_prior=False, total=   0.0s\n",
      "[CV] alpha=0.1, class_prior=None, fit_prior=False ....................\n",
      "[CV] ..... alpha=0.1, class_prior=None, fit_prior=False, total=   0.0s\n",
      "[CV] alpha=0.1, class_prior=None, fit_prior=False ....................\n",
      "[CV] ..... alpha=0.1, class_prior=None, fit_prior=False, total=   0.0s\n",
      "[CV] alpha=0.5, class_prior=None, fit_prior=True .....................\n",
      "[CV] ...... alpha=0.5, class_prior=None, fit_prior=True, total=   0.0s\n",
      "[CV] alpha=0.5, class_prior=None, fit_prior=True .....................\n",
      "[CV] ...... alpha=0.5, class_prior=None, fit_prior=True, total=   0.0s\n",
      "[CV] alpha=0.5, class_prior=None, fit_prior=True .....................\n",
      "[CV] ...... alpha=0.5, class_prior=None, fit_prior=True, total=   0.0s\n",
      "[CV] alpha=0.5, class_prior=None, fit_prior=True .....................\n",
      "[CV] ...... alpha=0.5, class_prior=None, fit_prior=True, total=   0.0s\n",
      "[CV] alpha=0.5, class_prior=None, fit_prior=True .....................\n",
      "[CV] ...... alpha=0.5, class_prior=None, fit_prior=True, total=   0.0s\n",
      "[CV] alpha=0.5, class_prior=None, fit_prior=False ....................\n",
      "[CV] ..... alpha=0.5, class_prior=None, fit_prior=False, total=   0.0s\n",
      "[CV] alpha=0.5, class_prior=None, fit_prior=False ....................\n",
      "[CV] ..... alpha=0.5, class_prior=None, fit_prior=False, total=   0.0s\n",
      "[CV] alpha=0.5, class_prior=None, fit_prior=False ....................\n",
      "[CV] ..... alpha=0.5, class_prior=None, fit_prior=False, total=   0.0s\n",
      "[CV] alpha=0.5, class_prior=None, fit_prior=False ....................\n",
      "[CV] ..... alpha=0.5, class_prior=None, fit_prior=False, total=   0.0s\n",
      "[CV] alpha=0.5, class_prior=None, fit_prior=False ....................\n",
      "[CV] ..... alpha=0.5, class_prior=None, fit_prior=False, total=   0.0s\n",
      "[CV] alpha=1.0, class_prior=None, fit_prior=True .....................\n",
      "[CV] ...... alpha=1.0, class_prior=None, fit_prior=True, total=   0.0s\n",
      "[CV] alpha=1.0, class_prior=None, fit_prior=True .....................\n",
      "[CV] ...... alpha=1.0, class_prior=None, fit_prior=True, total=   0.0s\n",
      "[CV] alpha=1.0, class_prior=None, fit_prior=True .....................\n",
      "[CV] ...... alpha=1.0, class_prior=None, fit_prior=True, total=   0.0s\n",
      "[CV] alpha=1.0, class_prior=None, fit_prior=True .....................\n",
      "[CV] ...... alpha=1.0, class_prior=None, fit_prior=True, total=   0.0s\n",
      "[CV] alpha=1.0, class_prior=None, fit_prior=True .....................\n",
      "[CV] ...... alpha=1.0, class_prior=None, fit_prior=True, total=   0.0s\n",
      "[CV] alpha=1.0, class_prior=None, fit_prior=False ....................\n",
      "[CV] ..... alpha=1.0, class_prior=None, fit_prior=False, total=   0.0s\n",
      "[CV] alpha=1.0, class_prior=None, fit_prior=False ....................\n",
      "[CV] ..... alpha=1.0, class_prior=None, fit_prior=False, total=   0.0s\n",
      "[CV] alpha=1.0, class_prior=None, fit_prior=False ....................\n",
      "[CV] ..... alpha=1.0, class_prior=None, fit_prior=False, total=   0.0s\n",
      "[CV] alpha=1.0, class_prior=None, fit_prior=False ....................\n",
      "[CV] ..... alpha=1.0, class_prior=None, fit_prior=False, total=   0.0s\n",
      "[CV] alpha=1.0, class_prior=None, fit_prior=False ....................\n",
      "[CV] ..... alpha=1.0, class_prior=None, fit_prior=False, total=   0.0s\n",
      "[CV] alpha=10.0, class_prior=None, fit_prior=True ....................\n",
      "[CV] ..... alpha=10.0, class_prior=None, fit_prior=True, total=   0.0s\n",
      "[CV] alpha=10.0, class_prior=None, fit_prior=True ....................\n",
      "[CV] ..... alpha=10.0, class_prior=None, fit_prior=True, total=   0.0s\n",
      "[CV] alpha=10.0, class_prior=None, fit_prior=True ....................\n",
      "[CV] ..... alpha=10.0, class_prior=None, fit_prior=True, total=   0.0s\n",
      "[CV] alpha=10.0, class_prior=None, fit_prior=True ....................\n",
      "[CV] ..... alpha=10.0, class_prior=None, fit_prior=True, total=   0.0s\n",
      "[CV] alpha=10.0, class_prior=None, fit_prior=True ....................\n",
      "[CV] ..... alpha=10.0, class_prior=None, fit_prior=True, total=   0.0s\n",
      "[CV] alpha=10.0, class_prior=None, fit_prior=False ...................\n",
      "[CV] .... alpha=10.0, class_prior=None, fit_prior=False, total=   0.0s\n",
      "[CV] alpha=10.0, class_prior=None, fit_prior=False ...................\n",
      "[CV] .... alpha=10.0, class_prior=None, fit_prior=False, total=   0.0s\n",
      "[CV] alpha=10.0, class_prior=None, fit_prior=False ...................\n",
      "[CV] .... alpha=10.0, class_prior=None, fit_prior=False, total=   0.0s\n",
      "[CV] alpha=10.0, class_prior=None, fit_prior=False ...................\n",
      "[CV] .... alpha=10.0, class_prior=None, fit_prior=False, total=   0.0s\n",
      "[CV] alpha=10.0, class_prior=None, fit_prior=False ...................\n",
      "[CV] .... alpha=10.0, class_prior=None, fit_prior=False, total=   0.0s\n"
     ]
    },
    {
     "name": "stderr",
     "output_type": "stream",
     "text": [
      "[Parallel(n_jobs=1)]: Done  50 out of  50 | elapsed:    1.2s finished\n"
     ]
    },
    {
     "data": {
      "text/plain": [
       "GridSearchCV(estimator=MultinomialNB(),\n",
       "             param_grid={'alpha': [0.01, 0.1, 0.5, 1.0, 10.0],\n",
       "                         'class_prior': [None], 'fit_prior': [True, False]},\n",
       "             verbose=2)"
      ]
     },
     "execution_count": 293,
     "metadata": {},
     "output_type": "execute_result"
    }
   ],
   "source": [
    "NB_grid_search.fit(X_train_vectorized_stop, y_train)"
   ]
  },
  {
   "cell_type": "code",
   "execution_count": 294,
   "metadata": {},
   "outputs": [
    {
     "data": {
      "text/plain": [
       "{'alpha': 10.0, 'class_prior': None, 'fit_prior': False}"
      ]
     },
     "execution_count": 294,
     "metadata": {},
     "output_type": "execute_result"
    }
   ],
   "source": [
    "NB_grid_search.best_params_"
   ]
  },
  {
   "cell_type": "code",
   "execution_count": 295,
   "metadata": {},
   "outputs": [],
   "source": [
    "baseline_model_stop = MultinomialNB(alpha = 0.01,\n",
    "                                    fit_prior=True,\n",
    "                                class_prior=None)\n",
    "baseline_model_stop.fit(X_train_vectorized_stop, y_train)\n",
    "y_pred_stop2 = baseline_model_stop.predict(X_test_vectorized)"
   ]
  },
  {
   "cell_type": "code",
   "execution_count": 296,
   "metadata": {},
   "outputs": [
    {
     "name": "stdout",
     "output_type": "stream",
     "text": [
      "              precision    recall  f1-score   support\n",
      "\n",
      "           1       0.75      0.15      0.25      2623\n",
      "           2       0.43      0.47      0.45      5034\n",
      "           3       0.39      0.63      0.48      5705\n",
      "           4       0.41      0.34      0.37      4977\n",
      "           5       0.63      0.48      0.54      4179\n",
      "\n",
      "    accuracy                           0.45     22518\n",
      "   macro avg       0.52      0.41      0.42     22518\n",
      "weighted avg       0.49      0.45      0.43     22518\n",
      "\n"
     ]
    }
   ],
   "source": [
    "print(classification_report(y_test, y_pred_stop2))"
   ]
  },
  {
   "cell_type": "markdown",
   "metadata": {},
   "source": [
    "### Using Custom Tokens"
   ]
  },
  {
   "cell_type": "code",
   "execution_count": 297,
   "metadata": {},
   "outputs": [],
   "source": [
    "from nltk.stem.snowball import SnowballStemmer\n",
    "stemmer = SnowballStemmer(language=\"english\")\n",
    "\n",
    "def stem_and_tokenize(document):\n",
    "    tokens = tokenizer.tokenize(document)\n",
    "    return [stemmer.stem(token) for token in tokens]"
   ]
  },
  {
   "cell_type": "code",
   "execution_count": 298,
   "metadata": {},
   "outputs": [
    {
     "name": "stdout",
     "output_type": "stream",
     "text": [
      "Original sample: ['cinder', 'finish', 'let', 'alone', 'read', 'second', 'book', 'scarlet', 'characters', 'added']\n",
      "Stemmed sample:  ['cinder', 'finish', 'let', 'alon', 'read', 'second', 'book', 'scarlet', 'charact', 'ad']\n"
     ]
    }
   ],
   "source": [
    "print(\"Original sample:\", X_train.iloc[100][\"text_tokenized\"][20:30])\n",
    "print(\"Stemmed sample: \", stem_and_tokenize(X_train.iloc[100][\"review_text\"])[20:30])"
   ]
  },
  {
   "cell_type": "code",
   "execution_count": 299,
   "metadata": {},
   "outputs": [],
   "source": [
    "stemmed_stopwords = [stemmer.stem(word) for word in stopwords_list]"
   ]
  },
  {
   "cell_type": "code",
   "execution_count": 300,
   "metadata": {
    "scrolled": true
   },
   "outputs": [
    {
     "data": {
      "text/html": [
       "<div>\n",
       "<style scoped>\n",
       "    .dataframe tbody tr th:only-of-type {\n",
       "        vertical-align: middle;\n",
       "    }\n",
       "\n",
       "    .dataframe tbody tr th {\n",
       "        vertical-align: top;\n",
       "    }\n",
       "\n",
       "    .dataframe thead th {\n",
       "        text-align: right;\n",
       "    }\n",
       "</style>\n",
       "<table border=\"1\" class=\"dataframe\">\n",
       "  <thead>\n",
       "    <tr style=\"text-align: right;\">\n",
       "      <th></th>\n",
       "      <th>abil</th>\n",
       "      <th>abl</th>\n",
       "      <th>absolut</th>\n",
       "      <th>abus</th>\n",
       "      <th>accept</th>\n",
       "      <th>across</th>\n",
       "      <th>act</th>\n",
       "      <th>action</th>\n",
       "      <th>actual</th>\n",
       "      <th>ad</th>\n",
       "      <th>...</th>\n",
       "      <th>written</th>\n",
       "      <th>wrong</th>\n",
       "      <th>wrote</th>\n",
       "      <th>yeah</th>\n",
       "      <th>year</th>\n",
       "      <th>yes</th>\n",
       "      <th>yet</th>\n",
       "      <th>young</th>\n",
       "      <th>younger</th>\n",
       "      <th>zombi</th>\n",
       "    </tr>\n",
       "  </thead>\n",
       "  <tbody>\n",
       "    <tr>\n",
       "      <th>0</th>\n",
       "      <td>0.0</td>\n",
       "      <td>0.0</td>\n",
       "      <td>0.000000</td>\n",
       "      <td>0.0</td>\n",
       "      <td>0.0</td>\n",
       "      <td>0.000000</td>\n",
       "      <td>0.000000</td>\n",
       "      <td>0.0</td>\n",
       "      <td>0.000000</td>\n",
       "      <td>0.0</td>\n",
       "      <td>...</td>\n",
       "      <td>0.000000</td>\n",
       "      <td>0.0</td>\n",
       "      <td>0.0</td>\n",
       "      <td>0.000000</td>\n",
       "      <td>0.000000</td>\n",
       "      <td>0.00000</td>\n",
       "      <td>0.0</td>\n",
       "      <td>0.000000</td>\n",
       "      <td>0.0</td>\n",
       "      <td>0.0</td>\n",
       "    </tr>\n",
       "    <tr>\n",
       "      <th>1</th>\n",
       "      <td>0.0</td>\n",
       "      <td>0.0</td>\n",
       "      <td>0.000000</td>\n",
       "      <td>0.0</td>\n",
       "      <td>0.0</td>\n",
       "      <td>0.000000</td>\n",
       "      <td>0.000000</td>\n",
       "      <td>0.0</td>\n",
       "      <td>0.096121</td>\n",
       "      <td>0.0</td>\n",
       "      <td>...</td>\n",
       "      <td>0.000000</td>\n",
       "      <td>0.0</td>\n",
       "      <td>0.0</td>\n",
       "      <td>0.073045</td>\n",
       "      <td>0.050045</td>\n",
       "      <td>0.12627</td>\n",
       "      <td>0.0</td>\n",
       "      <td>0.000000</td>\n",
       "      <td>0.0</td>\n",
       "      <td>0.0</td>\n",
       "    </tr>\n",
       "    <tr>\n",
       "      <th>2</th>\n",
       "      <td>0.0</td>\n",
       "      <td>0.0</td>\n",
       "      <td>0.225278</td>\n",
       "      <td>0.0</td>\n",
       "      <td>0.0</td>\n",
       "      <td>0.000000</td>\n",
       "      <td>0.000000</td>\n",
       "      <td>0.0</td>\n",
       "      <td>0.000000</td>\n",
       "      <td>0.0</td>\n",
       "      <td>...</td>\n",
       "      <td>0.000000</td>\n",
       "      <td>0.0</td>\n",
       "      <td>0.0</td>\n",
       "      <td>0.000000</td>\n",
       "      <td>0.000000</td>\n",
       "      <td>0.00000</td>\n",
       "      <td>0.0</td>\n",
       "      <td>0.000000</td>\n",
       "      <td>0.0</td>\n",
       "      <td>0.0</td>\n",
       "    </tr>\n",
       "    <tr>\n",
       "      <th>3</th>\n",
       "      <td>0.0</td>\n",
       "      <td>0.0</td>\n",
       "      <td>0.000000</td>\n",
       "      <td>0.0</td>\n",
       "      <td>0.0</td>\n",
       "      <td>0.000000</td>\n",
       "      <td>0.000000</td>\n",
       "      <td>0.0</td>\n",
       "      <td>0.000000</td>\n",
       "      <td>0.0</td>\n",
       "      <td>...</td>\n",
       "      <td>0.000000</td>\n",
       "      <td>0.0</td>\n",
       "      <td>0.0</td>\n",
       "      <td>0.000000</td>\n",
       "      <td>0.000000</td>\n",
       "      <td>0.00000</td>\n",
       "      <td>0.0</td>\n",
       "      <td>0.000000</td>\n",
       "      <td>0.0</td>\n",
       "      <td>0.0</td>\n",
       "    </tr>\n",
       "    <tr>\n",
       "      <th>4</th>\n",
       "      <td>0.0</td>\n",
       "      <td>0.0</td>\n",
       "      <td>0.000000</td>\n",
       "      <td>0.0</td>\n",
       "      <td>0.0</td>\n",
       "      <td>0.000000</td>\n",
       "      <td>0.000000</td>\n",
       "      <td>0.0</td>\n",
       "      <td>0.000000</td>\n",
       "      <td>0.0</td>\n",
       "      <td>...</td>\n",
       "      <td>0.000000</td>\n",
       "      <td>0.0</td>\n",
       "      <td>0.0</td>\n",
       "      <td>0.000000</td>\n",
       "      <td>0.000000</td>\n",
       "      <td>0.00000</td>\n",
       "      <td>0.0</td>\n",
       "      <td>0.000000</td>\n",
       "      <td>0.0</td>\n",
       "      <td>0.0</td>\n",
       "    </tr>\n",
       "    <tr>\n",
       "      <th>...</th>\n",
       "      <td>...</td>\n",
       "      <td>...</td>\n",
       "      <td>...</td>\n",
       "      <td>...</td>\n",
       "      <td>...</td>\n",
       "      <td>...</td>\n",
       "      <td>...</td>\n",
       "      <td>...</td>\n",
       "      <td>...</td>\n",
       "      <td>...</td>\n",
       "      <td>...</td>\n",
       "      <td>...</td>\n",
       "      <td>...</td>\n",
       "      <td>...</td>\n",
       "      <td>...</td>\n",
       "      <td>...</td>\n",
       "      <td>...</td>\n",
       "      <td>...</td>\n",
       "      <td>...</td>\n",
       "      <td>...</td>\n",
       "      <td>...</td>\n",
       "    </tr>\n",
       "    <tr>\n",
       "      <th>67549</th>\n",
       "      <td>0.0</td>\n",
       "      <td>0.0</td>\n",
       "      <td>0.000000</td>\n",
       "      <td>0.0</td>\n",
       "      <td>0.0</td>\n",
       "      <td>0.060643</td>\n",
       "      <td>0.000000</td>\n",
       "      <td>0.0</td>\n",
       "      <td>0.000000</td>\n",
       "      <td>0.0</td>\n",
       "      <td>...</td>\n",
       "      <td>0.088125</td>\n",
       "      <td>0.0</td>\n",
       "      <td>0.0</td>\n",
       "      <td>0.000000</td>\n",
       "      <td>0.159961</td>\n",
       "      <td>0.10090</td>\n",
       "      <td>0.0</td>\n",
       "      <td>0.000000</td>\n",
       "      <td>0.0</td>\n",
       "      <td>0.0</td>\n",
       "    </tr>\n",
       "    <tr>\n",
       "      <th>67550</th>\n",
       "      <td>0.0</td>\n",
       "      <td>0.0</td>\n",
       "      <td>0.000000</td>\n",
       "      <td>0.0</td>\n",
       "      <td>0.0</td>\n",
       "      <td>0.000000</td>\n",
       "      <td>0.000000</td>\n",
       "      <td>0.0</td>\n",
       "      <td>0.000000</td>\n",
       "      <td>0.0</td>\n",
       "      <td>...</td>\n",
       "      <td>0.000000</td>\n",
       "      <td>0.0</td>\n",
       "      <td>0.0</td>\n",
       "      <td>0.000000</td>\n",
       "      <td>0.000000</td>\n",
       "      <td>0.00000</td>\n",
       "      <td>0.0</td>\n",
       "      <td>0.000000</td>\n",
       "      <td>0.0</td>\n",
       "      <td>0.0</td>\n",
       "    </tr>\n",
       "    <tr>\n",
       "      <th>67551</th>\n",
       "      <td>0.0</td>\n",
       "      <td>0.0</td>\n",
       "      <td>0.000000</td>\n",
       "      <td>0.0</td>\n",
       "      <td>0.0</td>\n",
       "      <td>0.000000</td>\n",
       "      <td>0.088762</td>\n",
       "      <td>0.0</td>\n",
       "      <td>0.000000</td>\n",
       "      <td>0.0</td>\n",
       "      <td>...</td>\n",
       "      <td>0.000000</td>\n",
       "      <td>0.0</td>\n",
       "      <td>0.0</td>\n",
       "      <td>0.000000</td>\n",
       "      <td>0.000000</td>\n",
       "      <td>0.00000</td>\n",
       "      <td>0.0</td>\n",
       "      <td>0.079792</td>\n",
       "      <td>0.0</td>\n",
       "      <td>0.0</td>\n",
       "    </tr>\n",
       "    <tr>\n",
       "      <th>67552</th>\n",
       "      <td>0.0</td>\n",
       "      <td>0.0</td>\n",
       "      <td>0.000000</td>\n",
       "      <td>0.0</td>\n",
       "      <td>0.0</td>\n",
       "      <td>0.000000</td>\n",
       "      <td>0.000000</td>\n",
       "      <td>0.0</td>\n",
       "      <td>0.000000</td>\n",
       "      <td>0.0</td>\n",
       "      <td>...</td>\n",
       "      <td>0.000000</td>\n",
       "      <td>0.0</td>\n",
       "      <td>0.0</td>\n",
       "      <td>0.000000</td>\n",
       "      <td>0.000000</td>\n",
       "      <td>0.00000</td>\n",
       "      <td>0.0</td>\n",
       "      <td>0.000000</td>\n",
       "      <td>0.0</td>\n",
       "      <td>0.0</td>\n",
       "    </tr>\n",
       "    <tr>\n",
       "      <th>67553</th>\n",
       "      <td>0.0</td>\n",
       "      <td>0.0</td>\n",
       "      <td>0.000000</td>\n",
       "      <td>0.0</td>\n",
       "      <td>0.0</td>\n",
       "      <td>0.000000</td>\n",
       "      <td>0.000000</td>\n",
       "      <td>0.0</td>\n",
       "      <td>0.000000</td>\n",
       "      <td>0.0</td>\n",
       "      <td>...</td>\n",
       "      <td>0.000000</td>\n",
       "      <td>0.0</td>\n",
       "      <td>0.0</td>\n",
       "      <td>0.000000</td>\n",
       "      <td>0.000000</td>\n",
       "      <td>0.00000</td>\n",
       "      <td>0.0</td>\n",
       "      <td>0.000000</td>\n",
       "      <td>0.0</td>\n",
       "      <td>0.0</td>\n",
       "    </tr>\n",
       "  </tbody>\n",
       "</table>\n",
       "<p>67554 rows × 1000 columns</p>\n",
       "</div>"
      ],
      "text/plain": [
       "       abil  abl   absolut  abus  accept    across       act  action  \\\n",
       "0       0.0  0.0  0.000000   0.0     0.0  0.000000  0.000000     0.0   \n",
       "1       0.0  0.0  0.000000   0.0     0.0  0.000000  0.000000     0.0   \n",
       "2       0.0  0.0  0.225278   0.0     0.0  0.000000  0.000000     0.0   \n",
       "3       0.0  0.0  0.000000   0.0     0.0  0.000000  0.000000     0.0   \n",
       "4       0.0  0.0  0.000000   0.0     0.0  0.000000  0.000000     0.0   \n",
       "...     ...  ...       ...   ...     ...       ...       ...     ...   \n",
       "67549   0.0  0.0  0.000000   0.0     0.0  0.060643  0.000000     0.0   \n",
       "67550   0.0  0.0  0.000000   0.0     0.0  0.000000  0.000000     0.0   \n",
       "67551   0.0  0.0  0.000000   0.0     0.0  0.000000  0.088762     0.0   \n",
       "67552   0.0  0.0  0.000000   0.0     0.0  0.000000  0.000000     0.0   \n",
       "67553   0.0  0.0  0.000000   0.0     0.0  0.000000  0.000000     0.0   \n",
       "\n",
       "         actual   ad  ...   written  wrong  wrote      yeah      year  \\\n",
       "0      0.000000  0.0  ...  0.000000    0.0    0.0  0.000000  0.000000   \n",
       "1      0.096121  0.0  ...  0.000000    0.0    0.0  0.073045  0.050045   \n",
       "2      0.000000  0.0  ...  0.000000    0.0    0.0  0.000000  0.000000   \n",
       "3      0.000000  0.0  ...  0.000000    0.0    0.0  0.000000  0.000000   \n",
       "4      0.000000  0.0  ...  0.000000    0.0    0.0  0.000000  0.000000   \n",
       "...         ...  ...  ...       ...    ...    ...       ...       ...   \n",
       "67549  0.000000  0.0  ...  0.088125    0.0    0.0  0.000000  0.159961   \n",
       "67550  0.000000  0.0  ...  0.000000    0.0    0.0  0.000000  0.000000   \n",
       "67551  0.000000  0.0  ...  0.000000    0.0    0.0  0.000000  0.000000   \n",
       "67552  0.000000  0.0  ...  0.000000    0.0    0.0  0.000000  0.000000   \n",
       "67553  0.000000  0.0  ...  0.000000    0.0    0.0  0.000000  0.000000   \n",
       "\n",
       "           yes  yet     young  younger  zombi  \n",
       "0      0.00000  0.0  0.000000      0.0    0.0  \n",
       "1      0.12627  0.0  0.000000      0.0    0.0  \n",
       "2      0.00000  0.0  0.000000      0.0    0.0  \n",
       "3      0.00000  0.0  0.000000      0.0    0.0  \n",
       "4      0.00000  0.0  0.000000      0.0    0.0  \n",
       "...        ...  ...       ...      ...    ...  \n",
       "67549  0.10090  0.0  0.000000      0.0    0.0  \n",
       "67550  0.00000  0.0  0.000000      0.0    0.0  \n",
       "67551  0.00000  0.0  0.079792      0.0    0.0  \n",
       "67552  0.00000  0.0  0.000000      0.0    0.0  \n",
       "67553  0.00000  0.0  0.000000      0.0    0.0  \n",
       "\n",
       "[67554 rows x 1000 columns]"
      ]
     },
     "execution_count": 300,
     "metadata": {},
     "output_type": "execute_result"
    }
   ],
   "source": [
    "tfidf = TfidfVectorizer(\n",
    "    max_features=1000,\n",
    "    stop_words=stemmed_stopwords,\n",
    "    tokenizer=stem_and_tokenize\n",
    ")\n",
    "\n",
    "\n",
    "X_train_vectorized_token = tfidf.fit_transform(X_train[\"review_text\"])\n",
    "\n",
    "pd.DataFrame.sparse.from_spmatrix(X_train_vectorized_token, columns=tfidf.get_feature_names())"
   ]
  },
  {
   "cell_type": "code",
   "execution_count": 301,
   "metadata": {},
   "outputs": [
    {
     "data": {
      "text/plain": [
       "array([0.43867959, 0.4376434 , 0.43912368, 0.43801347, 0.43478905])"
      ]
     },
     "execution_count": 301,
     "metadata": {},
     "output_type": "execute_result"
    }
   ],
   "source": [
    "stemmed_cv = cross_val_score(baseline_model, X_train_vectorized_token, y_train)\n",
    "stemmed_cv"
   ]
  },
  {
   "cell_type": "code",
   "execution_count": 302,
   "metadata": {},
   "outputs": [],
   "source": [
    "baseline_model.fit(X_train_vectorized_token, y_train)\n",
    "y_pred_token = baseline_model.predict(X_test_vectorized)"
   ]
  },
  {
   "cell_type": "code",
   "execution_count": 303,
   "metadata": {
    "scrolled": true
   },
   "outputs": [
    {
     "name": "stdout",
     "output_type": "stream",
     "text": [
      "              precision    recall  f1-score   support\n",
      "\n",
      "           1       0.75      0.14      0.24      2623\n",
      "           2       0.43      0.47      0.45      5034\n",
      "           3       0.39      0.64      0.48      5705\n",
      "           4       0.41      0.34      0.37      4977\n",
      "           5       0.62      0.47      0.54      4179\n",
      "\n",
      "    accuracy                           0.45     22518\n",
      "   macro avg       0.52      0.41      0.42     22518\n",
      "weighted avg       0.49      0.45      0.43     22518\n",
      "\n"
     ]
    }
   ],
   "source": [
    "print(classification_report(y_test, y_pred))"
   ]
  },
  {
   "cell_type": "markdown",
   "metadata": {},
   "source": [
    "#### Gridsearch After Creating Custom Tokens"
   ]
  },
  {
   "cell_type": "code",
   "execution_count": 304,
   "metadata": {
    "scrolled": true
   },
   "outputs": [
    {
     "name": "stdout",
     "output_type": "stream",
     "text": [
      "Fitting 5 folds for each of 10 candidates, totalling 50 fits\n",
      "[CV] alpha=0.01, class_prior=None, fit_prior=True ....................\n",
      "[CV] ..... alpha=0.01, class_prior=None, fit_prior=True, total=   0.0s\n",
      "[CV] alpha=0.01, class_prior=None, fit_prior=True ....................\n",
      "[CV] ..... alpha=0.01, class_prior=None, fit_prior=True, total=   0.0s\n",
      "[CV] alpha=0.01, class_prior=None, fit_prior=True ....................\n",
      "[CV] ..... alpha=0.01, class_prior=None, fit_prior=True, total=   0.0s\n",
      "[CV] alpha=0.01, class_prior=None, fit_prior=True ....................\n",
      "[CV] ..... alpha=0.01, class_prior=None, fit_prior=True, total=   0.0s\n",
      "[CV] alpha=0.01, class_prior=None, fit_prior=True ....................\n",
      "[CV] ..... alpha=0.01, class_prior=None, fit_prior=True, total=   0.0s\n",
      "[CV] alpha=0.01, class_prior=None, fit_prior=False ...................\n",
      "[CV] .... alpha=0.01, class_prior=None, fit_prior=False, total=   0.0s\n",
      "[CV] alpha=0.01, class_prior=None, fit_prior=False ...................\n",
      "[CV] .... alpha=0.01, class_prior=None, fit_prior=False, total=   0.0s\n",
      "[CV] alpha=0.01, class_prior=None, fit_prior=False ...................\n"
     ]
    },
    {
     "name": "stderr",
     "output_type": "stream",
     "text": [
      "[Parallel(n_jobs=1)]: Using backend SequentialBackend with 1 concurrent workers.\n",
      "[Parallel(n_jobs=1)]: Done   1 out of   1 | elapsed:    0.0s remaining:    0.0s\n"
     ]
    },
    {
     "name": "stdout",
     "output_type": "stream",
     "text": [
      "[CV] .... alpha=0.01, class_prior=None, fit_prior=False, total=   0.0s\n",
      "[CV] alpha=0.01, class_prior=None, fit_prior=False ...................\n",
      "[CV] .... alpha=0.01, class_prior=None, fit_prior=False, total=   0.0s\n",
      "[CV] alpha=0.01, class_prior=None, fit_prior=False ...................\n",
      "[CV] .... alpha=0.01, class_prior=None, fit_prior=False, total=   0.0s\n",
      "[CV] alpha=0.1, class_prior=None, fit_prior=True .....................\n",
      "[CV] ...... alpha=0.1, class_prior=None, fit_prior=True, total=   0.0s\n",
      "[CV] alpha=0.1, class_prior=None, fit_prior=True .....................\n",
      "[CV] ...... alpha=0.1, class_prior=None, fit_prior=True, total=   0.0s\n",
      "[CV] alpha=0.1, class_prior=None, fit_prior=True .....................\n",
      "[CV] ...... alpha=0.1, class_prior=None, fit_prior=True, total=   0.0s\n",
      "[CV] alpha=0.1, class_prior=None, fit_prior=True .....................\n",
      "[CV] ...... alpha=0.1, class_prior=None, fit_prior=True, total=   0.0s\n",
      "[CV] alpha=0.1, class_prior=None, fit_prior=True .....................\n",
      "[CV] ...... alpha=0.1, class_prior=None, fit_prior=True, total=   0.0s\n",
      "[CV] alpha=0.1, class_prior=None, fit_prior=False ....................\n",
      "[CV] ..... alpha=0.1, class_prior=None, fit_prior=False, total=   0.0s\n",
      "[CV] alpha=0.1, class_prior=None, fit_prior=False ....................\n",
      "[CV] ..... alpha=0.1, class_prior=None, fit_prior=False, total=   0.0s\n",
      "[CV] alpha=0.1, class_prior=None, fit_prior=False ....................\n",
      "[CV] ..... alpha=0.1, class_prior=None, fit_prior=False, total=   0.0s\n",
      "[CV] alpha=0.1, class_prior=None, fit_prior=False ....................\n",
      "[CV] ..... alpha=0.1, class_prior=None, fit_prior=False, total=   0.0s\n",
      "[CV] alpha=0.1, class_prior=None, fit_prior=False ....................\n",
      "[CV] ..... alpha=0.1, class_prior=None, fit_prior=False, total=   0.0s\n",
      "[CV] alpha=0.5, class_prior=None, fit_prior=True .....................\n",
      "[CV] ...... alpha=0.5, class_prior=None, fit_prior=True, total=   0.0s\n",
      "[CV] alpha=0.5, class_prior=None, fit_prior=True .....................\n",
      "[CV] ...... alpha=0.5, class_prior=None, fit_prior=True, total=   0.0s\n",
      "[CV] alpha=0.5, class_prior=None, fit_prior=True .....................\n",
      "[CV] ...... alpha=0.5, class_prior=None, fit_prior=True, total=   0.0s\n",
      "[CV] alpha=0.5, class_prior=None, fit_prior=True .....................\n",
      "[CV] ...... alpha=0.5, class_prior=None, fit_prior=True, total=   0.0s\n",
      "[CV] alpha=0.5, class_prior=None, fit_prior=True .....................\n",
      "[CV] ...... alpha=0.5, class_prior=None, fit_prior=True, total=   0.0s\n",
      "[CV] alpha=0.5, class_prior=None, fit_prior=False ....................\n",
      "[CV] ..... alpha=0.5, class_prior=None, fit_prior=False, total=   0.0s\n",
      "[CV] alpha=0.5, class_prior=None, fit_prior=False ....................\n",
      "[CV] ..... alpha=0.5, class_prior=None, fit_prior=False, total=   0.0s\n",
      "[CV] alpha=0.5, class_prior=None, fit_prior=False ....................\n",
      "[CV] ..... alpha=0.5, class_prior=None, fit_prior=False, total=   0.0s\n",
      "[CV] alpha=0.5, class_prior=None, fit_prior=False ....................\n",
      "[CV] ..... alpha=0.5, class_prior=None, fit_prior=False, total=   0.0s\n",
      "[CV] alpha=0.5, class_prior=None, fit_prior=False ....................\n",
      "[CV] ..... alpha=0.5, class_prior=None, fit_prior=False, total=   0.0s\n",
      "[CV] alpha=1.0, class_prior=None, fit_prior=True .....................\n",
      "[CV] ...... alpha=1.0, class_prior=None, fit_prior=True, total=   0.0s\n",
      "[CV] alpha=1.0, class_prior=None, fit_prior=True .....................\n",
      "[CV] ...... alpha=1.0, class_prior=None, fit_prior=True, total=   0.0s\n",
      "[CV] alpha=1.0, class_prior=None, fit_prior=True .....................\n",
      "[CV] ...... alpha=1.0, class_prior=None, fit_prior=True, total=   0.0s\n",
      "[CV] alpha=1.0, class_prior=None, fit_prior=True .....................\n",
      "[CV] ...... alpha=1.0, class_prior=None, fit_prior=True, total=   0.0s\n",
      "[CV] alpha=1.0, class_prior=None, fit_prior=True .....................\n",
      "[CV] ...... alpha=1.0, class_prior=None, fit_prior=True, total=   0.0s\n",
      "[CV] alpha=1.0, class_prior=None, fit_prior=False ....................\n",
      "[CV] ..... alpha=1.0, class_prior=None, fit_prior=False, total=   0.0s\n",
      "[CV] alpha=1.0, class_prior=None, fit_prior=False ....................\n",
      "[CV] ..... alpha=1.0, class_prior=None, fit_prior=False, total=   0.0s\n",
      "[CV] alpha=1.0, class_prior=None, fit_prior=False ....................\n",
      "[CV] ..... alpha=1.0, class_prior=None, fit_prior=False, total=   0.0s\n",
      "[CV] alpha=1.0, class_prior=None, fit_prior=False ....................\n",
      "[CV] ..... alpha=1.0, class_prior=None, fit_prior=False, total=   0.0s\n",
      "[CV] alpha=1.0, class_prior=None, fit_prior=False ....................\n",
      "[CV] ..... alpha=1.0, class_prior=None, fit_prior=False, total=   0.0s\n",
      "[CV] alpha=10.0, class_prior=None, fit_prior=True ....................\n",
      "[CV] ..... alpha=10.0, class_prior=None, fit_prior=True, total=   0.0s\n",
      "[CV] alpha=10.0, class_prior=None, fit_prior=True ....................\n",
      "[CV] ..... alpha=10.0, class_prior=None, fit_prior=True, total=   0.0s\n",
      "[CV] alpha=10.0, class_prior=None, fit_prior=True ....................\n",
      "[CV] ..... alpha=10.0, class_prior=None, fit_prior=True, total=   0.0s\n",
      "[CV] alpha=10.0, class_prior=None, fit_prior=True ....................\n",
      "[CV] ..... alpha=10.0, class_prior=None, fit_prior=True, total=   0.0s\n",
      "[CV] alpha=10.0, class_prior=None, fit_prior=True ....................\n",
      "[CV] ..... alpha=10.0, class_prior=None, fit_prior=True, total=   0.0s\n",
      "[CV] alpha=10.0, class_prior=None, fit_prior=False ...................\n",
      "[CV] .... alpha=10.0, class_prior=None, fit_prior=False, total=   0.0s\n",
      "[CV] alpha=10.0, class_prior=None, fit_prior=False ...................\n",
      "[CV] .... alpha=10.0, class_prior=None, fit_prior=False, total=   0.0s\n",
      "[CV] alpha=10.0, class_prior=None, fit_prior=False ...................\n",
      "[CV] .... alpha=10.0, class_prior=None, fit_prior=False, total=   0.0s\n",
      "[CV] alpha=10.0, class_prior=None, fit_prior=False ...................\n",
      "[CV] .... alpha=10.0, class_prior=None, fit_prior=False, total=   0.0s\n",
      "[CV] alpha=10.0, class_prior=None, fit_prior=False ...................\n",
      "[CV] .... alpha=10.0, class_prior=None, fit_prior=False, total=   0.0s\n"
     ]
    },
    {
     "name": "stderr",
     "output_type": "stream",
     "text": [
      "[Parallel(n_jobs=1)]: Done  50 out of  50 | elapsed:    1.2s finished\n"
     ]
    },
    {
     "data": {
      "text/plain": [
       "GridSearchCV(estimator=MultinomialNB(),\n",
       "             param_grid={'alpha': [0.01, 0.1, 0.5, 1.0, 10.0],\n",
       "                         'class_prior': [None], 'fit_prior': [True, False]},\n",
       "             verbose=2)"
      ]
     },
     "execution_count": 304,
     "metadata": {},
     "output_type": "execute_result"
    }
   ],
   "source": [
    "NB_grid_search.fit(X_train_vectorized_token, y_train)"
   ]
  },
  {
   "cell_type": "code",
   "execution_count": 305,
   "metadata": {},
   "outputs": [
    {
     "data": {
      "text/plain": [
       "{'alpha': 10.0, 'class_prior': None, 'fit_prior': False}"
      ]
     },
     "execution_count": 305,
     "metadata": {},
     "output_type": "execute_result"
    }
   ],
   "source": [
    "NB_grid_search.best_params_"
   ]
  },
  {
   "cell_type": "code",
   "execution_count": 306,
   "metadata": {},
   "outputs": [],
   "source": [
    "baseline_model_token = MultinomialNB(alpha = 10.0,\n",
    "                                    fit_prior=False,\n",
    "                                class_prior=None)\n",
    "baseline_model_stop.fit(X_train_vectorized_token, y_train)\n",
    "y_pred_token2 = baseline_model_stop.predict(X_test_vectorized)"
   ]
  },
  {
   "cell_type": "code",
   "execution_count": 307,
   "metadata": {},
   "outputs": [
    {
     "name": "stdout",
     "output_type": "stream",
     "text": [
      "              precision    recall  f1-score   support\n",
      "\n",
      "           1       0.20      0.01      0.01      2623\n",
      "           2       0.22      0.19      0.21      5034\n",
      "           3       0.27      0.37      0.31      5705\n",
      "           4       0.22      0.39      0.28      4977\n",
      "           5       0.24      0.08      0.13      4179\n",
      "\n",
      "    accuracy                           0.24     22518\n",
      "   macro avg       0.23      0.21      0.19     22518\n",
      "weighted avg       0.23      0.24      0.21     22518\n",
      "\n"
     ]
    }
   ],
   "source": [
    "print(classification_report(y_test, y_pred_token2))"
   ]
  },
  {
   "cell_type": "markdown",
   "metadata": {},
   "source": [
    "## Second Model with Random Forest"
   ]
  },
  {
   "cell_type": "code",
   "execution_count": 308,
   "metadata": {},
   "outputs": [],
   "source": [
    "from sklearn.ensemble import RandomForestClassifier\n",
    "\n",
    "rf_baseline_model = RandomForestClassifier()"
   ]
  },
  {
   "cell_type": "code",
   "execution_count": 309,
   "metadata": {},
   "outputs": [],
   "source": [
    "rf_baseline_model.fit(X_train_vectorized, y_train)\n",
    "y_pred_rf = rf_baseline_model.predict(X_test_vectorized)"
   ]
  },
  {
   "cell_type": "code",
   "execution_count": 310,
   "metadata": {
    "scrolled": true
   },
   "outputs": [
    {
     "name": "stdout",
     "output_type": "stream",
     "text": [
      "              precision    recall  f1-score   support\n",
      "\n",
      "           1       0.58      0.26      0.36      2623\n",
      "           2       0.41      0.47      0.44      5034\n",
      "           3       0.38      0.51      0.44      5705\n",
      "           4       0.38      0.28      0.32      4977\n",
      "           5       0.52      0.52      0.52      4179\n",
      "\n",
      "    accuracy                           0.42     22518\n",
      "   macro avg       0.45      0.41      0.42     22518\n",
      "weighted avg       0.44      0.42      0.42     22518\n",
      "\n"
     ]
    }
   ],
   "source": [
    "print(classification_report(y_test, y_pred_rf))"
   ]
  },
  {
   "cell_type": "code",
   "execution_count": 311,
   "metadata": {},
   "outputs": [],
   "source": [
    "rf_grid = { \n",
    "    'n_estimators': [100, 200, 300, 1000],\n",
    "    'max_features': ['auto', 'sqrt', 'log2'],\n",
    "    'max_depth' : [5,6,7],\n",
    "    'criterion' :['gini', 'entropy']\n",
    "}"
   ]
  },
  {
   "cell_type": "code",
   "execution_count": 312,
   "metadata": {},
   "outputs": [],
   "source": [
    "rf_grid_search = GridSearchCV(estimator=rf_baseline_model,\n",
    "                              param_grid=rf_grid, cv=5, n_jobs=1)"
   ]
  },
  {
   "cell_type": "markdown",
   "metadata": {},
   "source": [
    "rf_grid_search.fit(X_train_vectorized, y_train)"
   ]
  },
  {
   "cell_type": "markdown",
   "metadata": {},
   "source": [
    "## Third Model with XG Boost "
   ]
  },
  {
   "cell_type": "code",
   "execution_count": 313,
   "metadata": {},
   "outputs": [],
   "source": [
    "from xgboost import XGBClassifier\n",
    "\n",
    "xgb_baseline_model = XGBClassifier()"
   ]
  },
  {
   "cell_type": "code",
   "execution_count": 314,
   "metadata": {},
   "outputs": [],
   "source": [
    "xgb_baseline_model.fit(X_train_vectorized, y_train)\n",
    "y_pred_XG = xgb_baseline_model.predict(X_test_vectorized)"
   ]
  },
  {
   "cell_type": "code",
   "execution_count": 315,
   "metadata": {},
   "outputs": [
    {
     "name": "stdout",
     "output_type": "stream",
     "text": [
      "              precision    recall  f1-score   support\n",
      "\n",
      "           1       0.57      0.38      0.46      2623\n",
      "           2       0.44      0.46      0.45      5034\n",
      "           3       0.42      0.47      0.44      5705\n",
      "           4       0.37      0.37      0.37      4977\n",
      "           5       0.56      0.55      0.55      4179\n",
      "\n",
      "    accuracy                           0.45     22518\n",
      "   macro avg       0.47      0.44      0.45     22518\n",
      "weighted avg       0.46      0.45      0.45     22518\n",
      "\n"
     ]
    }
   ],
   "source": [
    "print(classification_report(y_test, y_pred_XG))"
   ]
  },
  {
   "cell_type": "markdown",
   "metadata": {},
   "source": [
    "# Change Rating to Binary"
   ]
  },
  {
   "cell_type": "code",
   "execution_count": null,
   "metadata": {
    "scrolled": true
   },
   "outputs": [],
   "source": [
    "sample_df.head()"
   ]
  },
  {
   "cell_type": "code",
   "execution_count": null,
   "metadata": {},
   "outputs": [],
   "source": [
    "sample_df['Updated_Rating']=sample_df['rating'].apply(lambda x: 1 if x >= 4 else 0)"
   ]
  },
  {
   "cell_type": "code",
   "execution_count": null,
   "metadata": {},
   "outputs": [],
   "source": [
    "sample_df.head()"
   ]
  },
  {
   "cell_type": "code",
   "execution_count": null,
   "metadata": {},
   "outputs": [],
   "source": []
  }
 ],
 "metadata": {
  "kernelspec": {
   "display_name": "Python (learn-env)",
   "language": "python",
   "name": "learn-env"
  },
  "language_info": {
   "codemirror_mode": {
    "name": "ipython",
    "version": 3
   },
   "file_extension": ".py",
   "mimetype": "text/x-python",
   "name": "python",
   "nbconvert_exporter": "python",
   "pygments_lexer": "ipython3",
   "version": "3.8.5"
  },
  "toc": {
   "base_numbering": 1,
   "nav_menu": {},
   "number_sections": false,
   "sideBar": true,
   "skip_h1_title": false,
   "title_cell": "Table of Contents",
   "title_sidebar": "Contents",
   "toc_cell": false,
   "toc_position": {
    "height": "calc(100% - 180px)",
    "left": "10px",
    "top": "150px",
    "width": "379.002px"
   },
   "toc_section_display": true,
   "toc_window_display": true
  }
 },
 "nbformat": 4,
 "nbformat_minor": 4
}
